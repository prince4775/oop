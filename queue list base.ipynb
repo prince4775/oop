{
 "cells": [
  {
   "cell_type": "code",
   "execution_count": 1,
   "id": "1d86dcda",
   "metadata": {},
   "outputs": [],
   "source": [
    "class Queue:\n",
    "    def __init__(self):\n",
    "        self.items=[]\n",
    "        \n",
    "    def is_empty(self):\n",
    "        return self.items is None\n",
    "    \n",
    "    def enquee(self,item):\n",
    "        self.items.append(item)\n",
    "        \n",
    "    def deque(self):\n",
    "        if  not self.is_empty():\n",
    "            self.items.pop(0)\n",
    "        else:\n",
    "            print(\"Queue is empty\")\n",
    "            \n",
    "    def size(self):\n",
    "        return len(self.items)"
   ]
  },
  {
   "cell_type": "code",
   "execution_count": null,
   "id": "44300b2a",
   "metadata": {},
   "outputs": [],
   "source": []
  }
 ],
 "metadata": {
  "kernelspec": {
   "display_name": "Python 3 (ipykernel)",
   "language": "python",
   "name": "python3"
  },
  "language_info": {
   "codemirror_mode": {
    "name": "ipython",
    "version": 3
   },
   "file_extension": ".py",
   "mimetype": "text/x-python",
   "name": "python",
   "nbconvert_exporter": "python",
   "pygments_lexer": "ipython3",
   "version": "3.11.4"
  }
 },
 "nbformat": 4,
 "nbformat_minor": 5
}
