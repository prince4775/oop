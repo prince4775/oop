{
 "cells": [
  {
   "cell_type": "code",
   "execution_count": 1,
   "id": "de4bdb76",
   "metadata": {},
   "outputs": [
    {
     "name": "stdout",
     "output_type": "stream",
     "text": [
      "Name: John\n",
      "Age: 30\n",
      "City: New York\n",
      "Gender not found in hash table\n",
      "Iterating through keys and values:\n",
      "name : John\n",
      "age : 31\n"
     ]
    }
   ],
   "source": [
    "# Creating a hash table (dictionary)\n",
    "hash_table = {}\n",
    "\n",
    "# Adding key-value pairs to the hash table\n",
    "hash_table['name'] = 'John'\n",
    "hash_table['age'] = 30\n",
    "hash_table['city'] = 'New York'\n",
    "\n",
    "# Accessing values using keys\n",
    "print(\"Name:\", hash_table['name'])\n",
    "print(\"Age:\", hash_table['age'])\n",
    "print(\"City:\", hash_table['city'])\n",
    "\n",
    "# Modifying a value\n",
    "hash_table['age'] = 31\n",
    "\n",
    "# Checking if a key exists\n",
    "if 'gender' in hash_table:\n",
    "    print(\"Gender:\", hash_table['gender'])\n",
    "else:\n",
    "    print(\"Gender not found in hash table\")\n",
    "\n",
    "# Removing a key-value pair\n",
    "del hash_table['city']\n",
    "\n",
    "# Iterating through keys and values\n",
    "print(\"Iterating through keys and values:\")\n",
    "for key, value in hash_table.items():\n",
    "    print(key, \":\", value)\n"
   ]
  },
  {
   "cell_type": "code",
   "execution_count": 4,
   "id": "7c4bbb25",
   "metadata": {},
   "outputs": [
    {
     "name": "stdout",
     "output_type": "stream",
     "text": [
      "A -> B, C\n",
      "B -> A, D, E\n",
      "C -> A, F, G\n",
      "D -> B\n",
      "E -> B, H\n",
      "F -> C\n",
      "G -> C\n",
      "H -> E\n",
      "Graph after adding an edge:\n",
      "A -> B, C\n",
      "B -> A, D, E\n",
      "C -> A, F, G\n",
      "D -> B\n",
      "E -> B, H\n",
      "F -> C, H\n",
      "G -> C\n",
      "H -> E, F\n"
     ]
    }
   ],
   "source": [
    "# Example of an undirected graph using an adjacency list\n",
    "graph = {\n",
    "    'A': ['B', 'C'],\n",
    "    'B': ['A', 'D', 'E'],\n",
    "    'C': ['A', 'F', 'G'],\n",
    "    'D': ['B'],\n",
    "    'E': ['B', 'H'],\n",
    "    'F': ['C'],\n",
    "    'G': ['C'],\n",
    "    'H': ['E']\n",
    "}\n",
    "\n",
    "# Function to add an edge to the graph\n",
    "def add_edge(graph, vertex1, vertex2):\n",
    "    graph[vertex1].append(vertex2)\n",
    "    graph[vertex2].append(vertex1)\n",
    "\n",
    "# Function to print the graph\n",
    "def print_graph(graph):\n",
    "    for vertex, neighbors in graph.items():\n",
    "        print(vertex, '->', ', '.join(neighbors))\n",
    "print_graph(graph)\n",
    "# Adding a new edge\n",
    "add_edge(graph, 'F', 'H')\n",
    "\n",
    "# Printing the graph\n",
    "print(\"Graph after adding an edge:\")\n",
    "print_graph(graph)\n"
   ]
  },
  {
   "cell_type": "code",
   "execution_count": 5,
   "id": "378ed6dc",
   "metadata": {},
   "outputs": [
    {
     "name": "stdout",
     "output_type": "stream",
     "text": [
      "0: None\n",
      "1: None\n",
      "2: [('city', 'New York')]\n",
      "3: [('age', 30)]\n",
      "4: [('name', 'John')]\n",
      "5: None\n",
      "6: None\n",
      "7: None\n",
      "8: None\n",
      "9: None\n",
      "Value for 'name': John\n",
      "Value for 'gender': None\n",
      "0: None\n",
      "1: None\n",
      "2: [('city', 'New York')]\n",
      "3: []\n",
      "4: [('name', 'John')]\n",
      "5: None\n",
      "6: None\n",
      "7: None\n",
      "8: None\n",
      "9: None\n"
     ]
    }
   ],
   "source": [
    "class HashTable:\n",
    "    def __init__(self, size):\n",
    "        self.size = size\n",
    "        self.table = [None] * size\n",
    "\n",
    "    def _hash_function(self, key):\n",
    "        # Simple hash function for demonstration purposes\n",
    "        return hash(key) % self.size\n",
    "\n",
    "    def add_key_value_pair(self, key, value):\n",
    "        index = self._hash_function(key)\n",
    "\n",
    "        if self.table[index] is None:\n",
    "            self.table[index] = [(key, value)]\n",
    "        else:\n",
    "            # Handle collisions using chaining (linked lists in each bucket)\n",
    "            for i, (existing_key, _) in enumerate(self.table[index]):\n",
    "                if existing_key == key:\n",
    "                    # If key already exists, update the value\n",
    "                    self.table[index][i] = (key, value)\n",
    "                    break\n",
    "            else:\n",
    "                # If key doesn't exist in the chain, add a new key-value pair\n",
    "                self.table[index].append((key, value))\n",
    "\n",
    "    def get_value(self, key):\n",
    "        index = self._hash_function(key)\n",
    "        chain = self.table[index]\n",
    "\n",
    "        if chain is not None:\n",
    "            for existing_key, value in chain:\n",
    "                if existing_key == key:\n",
    "                    return value\n",
    "\n",
    "        # Key not found\n",
    "        return None\n",
    "\n",
    "    def remove_key(self, key):\n",
    "        index = self._hash_function(key)\n",
    "        chain = self.table[index]\n",
    "\n",
    "        if chain is not None:\n",
    "            for i, (existing_key, _) in enumerate(chain):\n",
    "                if existing_key == key:\n",
    "                    del chain[i]\n",
    "                    break\n",
    "\n",
    "    def print_table(self):\n",
    "        for i, chain in enumerate(self.table):\n",
    "            print(f\"{i}:\", chain)\n",
    "\n",
    "# Example usage\n",
    "hash_table = HashTable(size=10)\n",
    "\n",
    "hash_table.add_key_value_pair('name', 'John')\n",
    "hash_table.add_key_value_pair('age', 30)\n",
    "hash_table.add_key_value_pair('city', 'New York')\n",
    "\n",
    "hash_table.print_table()\n",
    "\n",
    "print(\"Value for 'name':\", hash_table.get_value('name'))\n",
    "print(\"Value for 'gender':\", hash_table.get_value('gender'))\n",
    "\n",
    "hash_table.remove_key('age')\n",
    "\n",
    "hash_table.print_table()\n"
   ]
  },
  {
   "cell_type": "markdown",
   "id": "57562862",
   "metadata": {},
   "source": [
    "## Linear search"
   ]
  },
  {
   "cell_type": "code",
   "execution_count": 42,
   "id": "ff54cf16",
   "metadata": {},
   "outputs": [
    {
     "name": "stdout",
     "output_type": "stream",
     "text": [
      "1705835322.133344\n",
      "element found at index  4\n",
      "final time 0.0015947818756103516\n"
     ]
    }
   ],
   "source": [
    "\n",
    "import time\n",
    "initial = time.time()\n",
    "print(initial)\n",
    "def linearsearch(lst,n,x):\n",
    "    for i in range (0,n):\n",
    "        if lst[i]==x:\n",
    "            return i\n",
    "    return -1\n",
    "lst = [x for x in range (0,1000)]\n",
    "x=4\n",
    "n=len(lst)\n",
    "result = linearsearch(lst,n,x)\n",
    "if (result == -1):\n",
    "    print('element not found')\n",
    "else:\n",
    "    print('element found at index ',result)\n",
    "final = time.time()-initial\n",
    "print('final time',final)"
   ]
  },
  {
   "cell_type": "markdown",
   "id": "7d249b29",
   "metadata": {},
   "source": [
    "### Binary search"
   ]
  },
  {
   "cell_type": "code",
   "execution_count": 43,
   "id": "980c90c4",
   "metadata": {},
   "outputs": [
    {
     "name": "stdout",
     "output_type": "stream",
     "text": [
      "element found at index  3\n",
      "final time 3.5454046726226807\n"
     ]
    }
   ],
   "source": [
    "import time\n",
    "\n",
    "def binarysearch(lst,x):\n",
    "    beg = 0\n",
    "    end = len(lst)-1\n",
    "    while beg<=end:\n",
    "        mid = (beg+end)//2\n",
    "        if x > lst[mid]:\n",
    "            beg = mid+1\n",
    "        elif x< lst[mid]:\n",
    "            end = mid-1\n",
    "        else:\n",
    "            return mid\n",
    "lst = [x for x in range (0,100)]\n",
    "lst.sort()\n",
    "x=3\n",
    "result = binarysearch(lst,x)\n",
    "if (result == -1):\n",
    "    print('element not found')\n",
    "else:\n",
    "    print('element found at index ',result)\n",
    "final = time.time()-initial\n",
    "print('final time',final)"
   ]
  },
  {
   "cell_type": "markdown",
   "id": "098bec1f",
   "metadata": {},
   "source": [
    "### selection sort"
   ]
  },
  {
   "cell_type": "code",
   "execution_count": 52,
   "id": "ffd2fd4e",
   "metadata": {},
   "outputs": [
    {
     "name": "stdout",
     "output_type": "stream",
     "text": [
      "[11, 12, 22, 25, 64]\n",
      "0.0\n"
     ]
    }
   ],
   "source": [
    "import time\n",
    "initial = time.time() \n",
    "def selection_sort(lst):\n",
    "    for i in range(len(lst)):\n",
    "        min_index = i\n",
    "\n",
    "        \n",
    "        for j in range(i + 1, len(lst)):\n",
    "            if lst[j] < lst[min_index]:\n",
    "                min_index = j\n",
    "\n",
    "        \n",
    "        lst[i], lst[min_index] = lst[min_index], lst[i]\n",
    "\n",
    "\n",
    "my_list = [64, 25, 12, 22, 11]\n",
    "selection_sort(my_list)\n",
    "print(my_list)\n",
    "final = time.time()-initial\n",
    "print(final)\n"
   ]
  },
  {
   "cell_type": "markdown",
   "id": "0fb7926c",
   "metadata": {},
   "source": [
    "### bubble sort"
   ]
  },
  {
   "cell_type": "code",
   "execution_count": 50,
   "id": "bfda387e",
   "metadata": {},
   "outputs": [
    {
     "name": "stdout",
     "output_type": "stream",
     "text": [
      "[0, 1, 2, 3, 4, 33, 43]\n"
     ]
    }
   ],
   "source": [
    "def bubble(lst):\n",
    "    for i in range (len(lst)):\n",
    "        for j in range (len(lst)-i-1):\n",
    "            if lst[j] > lst[j+1]:\n",
    "                lst[j], lst[j+1] = lst[j+1], lst[j]\n",
    "\n",
    "                \n",
    "lst = [1,4,3,33,43,0,2]\n",
    "bubble(lst)\n",
    "print(lst)"
   ]
  },
  {
   "cell_type": "markdown",
   "id": "97269fcd",
   "metadata": {},
   "source": [
    "###  Quick sort"
   ]
  },
  {
   "cell_type": "code",
   "execution_count": 51,
   "id": "f4d7b87f",
   "metadata": {},
   "outputs": [
    {
     "name": "stdout",
     "output_type": "stream",
     "text": [
      "[0, 1, 2, 5, 6, 11, 22, 23, 45, 67]\n"
     ]
    }
   ],
   "source": [
    "def quick(lst):\n",
    "    length = len(lst)\n",
    "    if length<=1:\n",
    "        return lst\n",
    "    else:\n",
    "        pivot = lst.pop()\n",
    "    \n",
    "    items_greater = []\n",
    "    items_lower = []\n",
    "    \n",
    "    for item in lst:\n",
    "        if item > pivot:\n",
    "            items_greater.append(item)\n",
    "        else:\n",
    "            items_lower.append(item)\n",
    "            \n",
    "    return quick(items_lower) + [pivot] + quick(items_greater)\n",
    "\n",
    "print(quick([23,45,67,22,11,0,2,1,5,6]))"
   ]
  },
  {
   "cell_type": "code",
   "execution_count": null,
   "id": "28926ba1",
   "metadata": {},
   "outputs": [],
   "source": []
  }
 ],
 "metadata": {
  "kernelspec": {
   "display_name": "Python 3 (ipykernel)",
   "language": "python",
   "name": "python3"
  },
  "language_info": {
   "codemirror_mode": {
    "name": "ipython",
    "version": 3
   },
   "file_extension": ".py",
   "mimetype": "text/x-python",
   "name": "python",
   "nbconvert_exporter": "python",
   "pygments_lexer": "ipython3",
   "version": "3.11.4"
  }
 },
 "nbformat": 4,
 "nbformat_minor": 5
}
