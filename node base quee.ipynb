{
 "cells": [
  {
   "cell_type": "code",
   "execution_count": null,
   "id": "5204afaf",
   "metadata": {},
   "outputs": [],
   "source": [
    "class Node:\n",
    "    def __init__(self,data):\n",
    "        self.data=data\n",
    "        self.ref=None\n",
    "\n",
    "class Queue:\n",
    "    def __init__(self):\n",
    "        self.front=None\n",
    "        self.rear=None\n",
    "    \n",
    "    def enqueue(self,item):\n",
    "        if self.front is None:\n",
    "            new_node=Node(item)\n",
    "            self.front=self.rear=new_node\n",
    "            self.front=new_node\n",
    "        else:\n",
    "            new_node=self.rear.ref\n",
    "            self.rear=new_node\n",
    "    \n",
    "    def dequeue(self):\n",
    "        if self.front is None:\n",
    "            self.rear is None\n",
    "            return \n",
    "        else:\n",
    "            pop_item=self.front.data\n",
    "            self.rear.ref=self.front\n",
    "            return pop_item\n",
    "        \n",
    "    def size(self):\n",
    "        count=0\n",
    "        current=self.front\n",
    "        while current:\n",
    "            count+=1\n",
    "            current=self.front.ref\n",
    "        return count"
   ]
  }
 ],
 "metadata": {
  "kernelspec": {
   "display_name": "Python 3 (ipykernel)",
   "language": "python",
   "name": "python3"
  },
  "language_info": {
   "codemirror_mode": {
    "name": "ipython",
    "version": 3
   },
   "file_extension": ".py",
   "mimetype": "text/x-python",
   "name": "python",
   "nbconvert_exporter": "python",
   "pygments_lexer": "ipython3",
   "version": "3.11.4"
  }
 },
 "nbformat": 4,
 "nbformat_minor": 5
}
