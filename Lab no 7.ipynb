{
 "cells": [
  {
   "cell_type": "markdown",
   "id": "200c5d6e",
   "metadata": {},
   "source": [
    "# Lab work task\n",
    "## 1. Inheritance is the process by which one class takes on the attributes and methods of another. Newly formed classes are called child classes, and the classes that you derive child classes from are called parent classes.\n",
    "## • You inherit from a parent class by including the name of the parent class inside parentheses after the class name but before the colon terminating the class definition."
   ]
  },
  {
   "cell_type": "code",
   "execution_count": 108,
   "id": "e8c14b87",
   "metadata": {},
   "outputs": [],
   "source": [
    "# inheritance.py\n",
    "class Parent:\n",
    "    hair_color = \"brown\"\n",
    "class Child(Parent):\n",
    "    pass\n"
   ]
  },
  {
   "cell_type": "markdown",
   "id": "4a687acc",
   "metadata": {},
   "source": [
    "## a. Run the code."
   ]
  },
  {
   "cell_type": "code",
   "execution_count": 109,
   "id": "15ebcd34",
   "metadata": {},
   "outputs": [
    {
     "data": {
      "text/plain": [
       "'brown'"
      ]
     },
     "execution_count": 109,
     "metadata": {},
     "output_type": "execute_result"
    }
   ],
   "source": [
    "az = Parent()\n",
    "az.hair_color\n"
   ]
  },
  {
   "cell_type": "markdown",
   "id": "100763bb",
   "metadata": {},
   "source": [
    "## b. Run the code and comment on what you observed."
   ]
  },
  {
   "cell_type": "code",
   "execution_count": 110,
   "id": "6419e8a1",
   "metadata": {},
   "outputs": [
    {
     "data": {
      "text/plain": [
       "'brown'"
      ]
     },
     "execution_count": 110,
     "metadata": {},
     "output_type": "execute_result"
    }
   ],
   "source": [
    "az = Child()\n",
    "az.hair_color"
   ]
  },
  {
   "cell_type": "code",
   "execution_count": 111,
   "id": "c8d0a72a",
   "metadata": {},
   "outputs": [],
   "source": [
    "## The hair color of child class and the parent class is same but the child class has no attributes "
   ]
  },
  {
   "cell_type": "markdown",
   "id": "a891a3c8",
   "metadata": {},
   "source": [
    "## 2. Overridden the hair color attribute that you inherited from your parents:\n"
   ]
  },
  {
   "cell_type": "code",
   "execution_count": 112,
   "id": "0ff9375b",
   "metadata": {},
   "outputs": [],
   "source": [
    "class Parent:\n",
    "    hair_color = \"brown\"\n",
    "class Child(Parent):\n",
    "    hair_color = \"purple\""
   ]
  },
  {
   "cell_type": "markdown",
   "id": "46c3c648",
   "metadata": {},
   "source": [
    "## a. Run the code. "
   ]
  },
  {
   "cell_type": "code",
   "execution_count": 113,
   "id": "76046350",
   "metadata": {},
   "outputs": [
    {
     "data": {
      "text/plain": [
       "'brown'"
      ]
     },
     "execution_count": 113,
     "metadata": {},
     "output_type": "execute_result"
    }
   ],
   "source": [
    "az = Parent()\n",
    "az.hair_color"
   ]
  },
  {
   "cell_type": "markdown",
   "id": "ffab21bf",
   "metadata": {},
   "source": [
    "## b. Run the code and comment on what you observed. How this result is different from the task number 1 and why?"
   ]
  },
  {
   "cell_type": "code",
   "execution_count": 114,
   "id": "7f2ee832",
   "metadata": {},
   "outputs": [
    {
     "data": {
      "text/plain": [
       "'purple'"
      ]
     },
     "execution_count": 114,
     "metadata": {},
     "output_type": "execute_result"
    }
   ],
   "source": [
    "az = Child()\n",
    "az.hair_color"
   ]
  },
  {
   "cell_type": "code",
   "execution_count": 115,
   "id": "91dd7cf3",
   "metadata": {},
   "outputs": [],
   "source": [
    "## It is different because the both class atributes are different  "
   ]
  },
  {
   "cell_type": "markdown",
   "id": "a0dc514a",
   "metadata": {},
   "source": [
    "## 3. Extended your attributes because you’ve added an attribute that your parents don’t have"
   ]
  },
  {
   "cell_type": "code",
   "execution_count": 116,
   "id": "b640ab8d",
   "metadata": {},
   "outputs": [],
   "source": [
    "class Parent:\n",
    "    speaks = [\"English\"]\n",
    "class Child(Parent):\n",
    "    def __init__(self):\n",
    "        super().__init__()\n",
    "        self.speaks.append(\"German\")\n"
   ]
  },
  {
   "cell_type": "markdown",
   "id": "24c0e120",
   "metadata": {},
   "source": [
    "## a. Run the code."
   ]
  },
  {
   "cell_type": "code",
   "execution_count": 117,
   "id": "6305b86a",
   "metadata": {},
   "outputs": [
    {
     "data": {
      "text/plain": [
       "['English', 'German']"
      ]
     },
     "execution_count": 117,
     "metadata": {},
     "output_type": "execute_result"
    }
   ],
   "source": [
    "az = Child()\n",
    "az.speaks"
   ]
  },
  {
   "cell_type": "markdown",
   "id": "bd67f26a",
   "metadata": {},
   "source": [
    "## 4. The dog class is given below. \n",
    "### i. A simple dog class is given below."
   ]
  },
  {
   "cell_type": "code",
   "execution_count": 118,
   "id": "e712059b",
   "metadata": {},
   "outputs": [],
   "source": [
    "# dog.py\n",
    "class Dog:\n",
    "    species = \"Canis familiaris\"\n",
    "    def __init__(self, name, age):\n",
    "        self.name = name\n",
    "        self.age = age\n",
    "    def __str__(self):\n",
    "        return f\"{self.name} is {self.age} years old\"\n",
    "    def speak(self, sound):\n",
    "        return f\"The parrent class method call..... {self.name} says {sound}\"\n"
   ]
  },
  {
   "cell_type": "markdown",
   "id": "74af4d21",
   "metadata": {},
   "source": [
    "## a. Make the following object of the dog class"
   ]
  },
  {
   "cell_type": "code",
   "execution_count": 119,
   "id": "c1596033",
   "metadata": {},
   "outputs": [],
   "source": [
    "miles = Dog(\"Miles\", 4)\n",
    "buddy = Dog(\"Buddy\", 9)\n",
    "jack = Dog(\"Jack\", 3)\n",
    "jim = Dog(\"Jim\", 5)\n"
   ]
  },
  {
   "cell_type": "markdown",
   "id": "97492525",
   "metadata": {},
   "source": [
    "## b. Run the following code. "
   ]
  },
  {
   "cell_type": "code",
   "execution_count": 120,
   "id": "21b89d66",
   "metadata": {},
   "outputs": [
    {
     "name": "stdout",
     "output_type": "stream",
     "text": [
      "Miles is 4 years old\n"
     ]
    }
   ],
   "source": [
    "print(miles)"
   ]
  },
  {
   "cell_type": "code",
   "execution_count": 121,
   "id": "c32b7d80",
   "metadata": {},
   "outputs": [
    {
     "ename": "TypeError",
     "evalue": "Dog.speak() missing 1 required positional argument: 'sound'",
     "output_type": "error",
     "traceback": [
      "\u001b[1;31m---------------------------------------------------------------------------\u001b[0m",
      "\u001b[1;31mTypeError\u001b[0m                                 Traceback (most recent call last)",
      "Cell \u001b[1;32mIn[121], line 1\u001b[0m\n\u001b[1;32m----> 1\u001b[0m jack\u001b[38;5;241m.\u001b[39mspeak()\n",
      "\u001b[1;31mTypeError\u001b[0m: Dog.speak() missing 1 required positional argument: 'sound'"
     ]
    }
   ],
   "source": [
    "jack.speak()"
   ]
  },
  {
   "cell_type": "code",
   "execution_count": 122,
   "id": "b6b2f78b",
   "metadata": {},
   "outputs": [
    {
     "data": {
      "text/plain": [
       "'The parrent class method call..... Jim says yap yap'"
      ]
     },
     "execution_count": 122,
     "metadata": {},
     "output_type": "execute_result"
    }
   ],
   "source": [
    "jim.speak('yap yap')"
   ]
  },
  {
   "cell_type": "markdown",
   "id": "2f931975",
   "metadata": {},
   "source": [
    "## ii. Modify the Dog class in the editor by adding a .breed attribute."
   ]
  },
  {
   "cell_type": "code",
   "execution_count": 123,
   "id": "58bbe774",
   "metadata": {},
   "outputs": [],
   "source": [
    "# dog.py\n",
    "class Dog:\n",
    "    species = \"Canis familiaris\"\n",
    "    def __init__(self, name, age, breed):\n",
    "        self.name = name\n",
    "        self.age = age\n",
    "        self.breed = breed\n",
    "    def __str__(self):\n",
    "        return f\"{self.name} is {self.age} years old\"\n",
    "    def speak(self, sound):\n",
    "        return f\"{self.name} says {sound}\"\n"
   ]
  },
  {
   "cell_type": "markdown",
   "id": "efec6daf",
   "metadata": {},
   "source": [
    "## a. Make the following dog instances."
   ]
  },
  {
   "cell_type": "code",
   "execution_count": 124,
   "id": "79582643",
   "metadata": {},
   "outputs": [],
   "source": [
    "miles = Dog(\"Miles\", 4, \"Jack Russell Terrier\")\n",
    "buddy = Dog(\"Buddy\", 9, \"Dachshund\")\n",
    "jack = Dog(\"Jack\", 3, \"Bulldog\")\n",
    "jim = Dog(\"Jim\", 5, \"Bulldog\")"
   ]
  },
  {
   "cell_type": "markdown",
   "id": "0e4b21dc",
   "metadata": {},
   "source": [
    "## b. Using just the Dog class, you must supply a string for the sound argument of .speak() every time you call it on a Dog instance:"
   ]
  },
  {
   "cell_type": "code",
   "execution_count": 125,
   "id": "c103665d",
   "metadata": {},
   "outputs": [
    {
     "name": "stdout",
     "output_type": "stream",
     "text": [
      "Buddy says Yap\n",
      "Jim says Woof\n",
      "Jack says Woof\n"
     ]
    }
   ],
   "source": [
    "print(buddy.speak(\"Yap\"))\n",
    "print(jim.speak(\"Woof\"))\n",
    "print(jack.speak(\"Woof\"))"
   ]
  },
  {
   "cell_type": "markdown",
   "id": "0401b41f",
   "metadata": {},
   "source": [
    "## iii. Some Derived classes from the Dog class are given below in i."
   ]
  },
  {
   "cell_type": "code",
   "execution_count": 126,
   "id": "81a391f0",
   "metadata": {},
   "outputs": [],
   "source": [
    "class JackRussellTerrier(Dog):\n",
    "    pass\n",
    "class Dachshund(Dog):\n",
    "    pass\n",
    "class Bulldog(Dog):\n",
    "    pass\n",
    "\n"
   ]
  },
  {
   "cell_type": "markdown",
   "id": "75fe14d4",
   "metadata": {},
   "source": [
    "## a. The following is the object instantiation from the child class. "
   ]
  },
  {
   "cell_type": "code",
   "execution_count": 127,
   "id": "6eddf5b8",
   "metadata": {},
   "outputs": [
    {
     "ename": "TypeError",
     "evalue": "Dog.__init__() missing 1 required positional argument: 'breed'",
     "output_type": "error",
     "traceback": [
      "\u001b[1;31m---------------------------------------------------------------------------\u001b[0m",
      "\u001b[1;31mTypeError\u001b[0m                                 Traceback (most recent call last)",
      "Cell \u001b[1;32mIn[127], line 1\u001b[0m\n\u001b[1;32m----> 1\u001b[0m miles \u001b[38;5;241m=\u001b[39m JackRussellTerrier(\u001b[38;5;124m\"\u001b[39m\u001b[38;5;124mMiles\u001b[39m\u001b[38;5;124m\"\u001b[39m, \u001b[38;5;241m4\u001b[39m)\n",
      "\u001b[1;31mTypeError\u001b[0m: Dog.__init__() missing 1 required positional argument: 'breed'"
     ]
    }
   ],
   "source": [
    "miles = JackRussellTerrier(\"Miles\", 4)"
   ]
  },
  {
   "cell_type": "code",
   "execution_count": 128,
   "id": "961d5b38",
   "metadata": {},
   "outputs": [
    {
     "ename": "TypeError",
     "evalue": "Dog.__init__() missing 1 required positional argument: 'breed'",
     "output_type": "error",
     "traceback": [
      "\u001b[1;31m---------------------------------------------------------------------------\u001b[0m",
      "\u001b[1;31mTypeError\u001b[0m                                 Traceback (most recent call last)",
      "Cell \u001b[1;32mIn[128], line 1\u001b[0m\n\u001b[1;32m----> 1\u001b[0m buddy \u001b[38;5;241m=\u001b[39m Dachshund(\u001b[38;5;124m\"\u001b[39m\u001b[38;5;124mBuddy\u001b[39m\u001b[38;5;124m\"\u001b[39m, \u001b[38;5;241m9\u001b[39m)\n",
      "\u001b[1;31mTypeError\u001b[0m: Dog.__init__() missing 1 required positional argument: 'breed'"
     ]
    }
   ],
   "source": [
    "buddy = Dachshund(\"Buddy\", 9)"
   ]
  },
  {
   "cell_type": "code",
   "execution_count": 129,
   "id": "1394f1b9",
   "metadata": {},
   "outputs": [
    {
     "ename": "TypeError",
     "evalue": "Dog.__init__() missing 1 required positional argument: 'breed'",
     "output_type": "error",
     "traceback": [
      "\u001b[1;31m---------------------------------------------------------------------------\u001b[0m",
      "\u001b[1;31mTypeError\u001b[0m                                 Traceback (most recent call last)",
      "Cell \u001b[1;32mIn[129], line 1\u001b[0m\n\u001b[1;32m----> 1\u001b[0m jack \u001b[38;5;241m=\u001b[39m Bulldog(\u001b[38;5;124m\"\u001b[39m\u001b[38;5;124mJack\u001b[39m\u001b[38;5;124m\"\u001b[39m, \u001b[38;5;241m3\u001b[39m)\n",
      "\u001b[1;31mTypeError\u001b[0m: Dog.__init__() missing 1 required positional argument: 'breed'"
     ]
    }
   ],
   "source": [
    "jack = Bulldog(\"Jack\", 3)"
   ]
  },
  {
   "cell_type": "code",
   "execution_count": 130,
   "id": "5d5d634d",
   "metadata": {},
   "outputs": [
    {
     "ename": "TypeError",
     "evalue": "Dog.__init__() missing 1 required positional argument: 'breed'",
     "output_type": "error",
     "traceback": [
      "\u001b[1;31m---------------------------------------------------------------------------\u001b[0m",
      "\u001b[1;31mTypeError\u001b[0m                                 Traceback (most recent call last)",
      "Cell \u001b[1;32mIn[130], line 1\u001b[0m\n\u001b[1;32m----> 1\u001b[0m jim \u001b[38;5;241m=\u001b[39m Bulldog(\u001b[38;5;124m\"\u001b[39m\u001b[38;5;124mJim\u001b[39m\u001b[38;5;124m\"\u001b[39m, \u001b[38;5;241m5\u001b[39m)\n",
      "\u001b[1;31mTypeError\u001b[0m: Dog.__init__() missing 1 required positional argument: 'breed'"
     ]
    }
   ],
   "source": [
    "jim = Bulldog(\"Jim\", 5)"
   ]
  },
  {
   "cell_type": "markdown",
   "id": "ab97bbc1",
   "metadata": {},
   "source": [
    "#### The above cells gives us the error because there is one argumunt is missing the init reqiured three arguments but 2 were given and these are inhereted from the dog class"
   ]
  },
  {
   "cell_type": "markdown",
   "id": "91a0e681",
   "metadata": {},
   "source": [
    "## b. Run the following code and observe. "
   ]
  },
  {
   "cell_type": "code",
   "execution_count": 131,
   "id": "27a16331",
   "metadata": {},
   "outputs": [
    {
     "data": {
      "text/plain": [
       "'Canis familiaris'"
      ]
     },
     "execution_count": 131,
     "metadata": {},
     "output_type": "execute_result"
    }
   ],
   "source": [
    "miles.species"
   ]
  },
  {
   "cell_type": "code",
   "execution_count": 132,
   "id": "727f1149",
   "metadata": {},
   "outputs": [
    {
     "data": {
      "text/plain": [
       "'Buddy'"
      ]
     },
     "execution_count": 132,
     "metadata": {},
     "output_type": "execute_result"
    }
   ],
   "source": [
    "buddy.name"
   ]
  },
  {
   "cell_type": "code",
   "execution_count": 133,
   "id": "74b3ce64",
   "metadata": {},
   "outputs": [
    {
     "name": "stdout",
     "output_type": "stream",
     "text": [
      "Jack is 3 years old\n"
     ]
    }
   ],
   "source": [
    "print(jack)"
   ]
  },
  {
   "cell_type": "code",
   "execution_count": 134,
   "id": "279f914c",
   "metadata": {},
   "outputs": [
    {
     "data": {
      "text/plain": [
       "'Jim says Woof'"
      ]
     },
     "execution_count": 134,
     "metadata": {},
     "output_type": "execute_result"
    }
   ],
   "source": [
    "jim.speak(\"Woof\")"
   ]
  },
  {
   "cell_type": "markdown",
   "id": "b1a98460",
   "metadata": {},
   "source": [
    "## iv. One thing to keep in mind about class inheritance is that changes to the parent class automatically propagate to child classes. This occurs as long as the attribute or method being changed isn’t overridden in the child class.\n",
    "## Following is the class derived from the base class Dog. The default parameter, change says to bark in the speak.\n",
    "## Note: More generally, all objects created from a child class are instances of the parent class.\n"
   ]
  },
  {
   "cell_type": "code",
   "execution_count": 135,
   "id": "1309769b",
   "metadata": {},
   "outputs": [],
   "source": [
    "class JackRussellTerrier(Dog):\n",
    "    def speak(self, sound=\"Arf\"):\n",
    "        return f\"Chiled class call ….{self.name} says {sound}\""
   ]
  },
  {
   "cell_type": "markdown",
   "id": "d0bbcdd2",
   "metadata": {},
   "source": [
    "## a. Run the following code and observe. \n"
   ]
  },
  {
   "cell_type": "code",
   "execution_count": 136,
   "id": "945a6a07",
   "metadata": {},
   "outputs": [
    {
     "ename": "TypeError",
     "evalue": "Dog.__init__() missing 1 required positional argument: 'breed'",
     "output_type": "error",
     "traceback": [
      "\u001b[1;31m---------------------------------------------------------------------------\u001b[0m",
      "\u001b[1;31mTypeError\u001b[0m                                 Traceback (most recent call last)",
      "Cell \u001b[1;32mIn[136], line 1\u001b[0m\n\u001b[1;32m----> 1\u001b[0m miles \u001b[38;5;241m=\u001b[39m JackRussellTerrier(\u001b[38;5;124m\"\u001b[39m\u001b[38;5;124mMiles\u001b[39m\u001b[38;5;124m\"\u001b[39m, \u001b[38;5;241m4\u001b[39m)\n",
      "\u001b[1;31mTypeError\u001b[0m: Dog.__init__() missing 1 required positional argument: 'breed'"
     ]
    }
   ],
   "source": [
    "miles = JackRussellTerrier(\"Miles\", 4)\n",
    "\n"
   ]
  },
  {
   "cell_type": "code",
   "execution_count": 137,
   "id": "ce49e9b8",
   "metadata": {},
   "outputs": [
    {
     "ename": "TypeError",
     "evalue": "Dog.speak() missing 1 required positional argument: 'sound'",
     "output_type": "error",
     "traceback": [
      "\u001b[1;31m---------------------------------------------------------------------------\u001b[0m",
      "\u001b[1;31mTypeError\u001b[0m                                 Traceback (most recent call last)",
      "Cell \u001b[1;32mIn[137], line 1\u001b[0m\n\u001b[1;32m----> 1\u001b[0m miles\u001b[38;5;241m.\u001b[39mspeak()\n",
      "\u001b[1;31mTypeError\u001b[0m: Dog.speak() missing 1 required positional argument: 'sound'"
     ]
    }
   ],
   "source": [
    "miles.speak()"
   ]
  },
  {
   "cell_type": "markdown",
   "id": "f376cac1",
   "metadata": {},
   "source": [
    "## b. Run the following. \n"
   ]
  },
  {
   "cell_type": "code",
   "execution_count": 138,
   "id": "ccad8c02",
   "metadata": {},
   "outputs": [
    {
     "ename": "TypeError",
     "evalue": "Dog.__init__() missing 1 required positional argument: 'breed'",
     "output_type": "error",
     "traceback": [
      "\u001b[1;31m---------------------------------------------------------------------------\u001b[0m",
      "\u001b[1;31mTypeError\u001b[0m                                 Traceback (most recent call last)",
      "Cell \u001b[1;32mIn[138], line 1\u001b[0m\n\u001b[1;32m----> 1\u001b[0m miles \u001b[38;5;241m=\u001b[39m Dachshund(\u001b[38;5;124m\"\u001b[39m\u001b[38;5;124mMiles\u001b[39m\u001b[38;5;124m\"\u001b[39m, \u001b[38;5;241m4\u001b[39m)\n",
      "\u001b[1;31mTypeError\u001b[0m: Dog.__init__() missing 1 required positional argument: 'breed'"
     ]
    }
   ],
   "source": [
    "miles = Dachshund(\"Miles\", 4)\n",
    "\n"
   ]
  },
  {
   "cell_type": "code",
   "execution_count": 139,
   "id": "7da0f1c5",
   "metadata": {},
   "outputs": [
    {
     "data": {
      "text/plain": [
       "'Miles says aaaaaaaaa'"
      ]
     },
     "execution_count": 139,
     "metadata": {},
     "output_type": "execute_result"
    }
   ],
   "source": [
    "miles.speak('aaaaaaaaa')"
   ]
  },
  {
   "cell_type": "markdown",
   "id": "bf633417",
   "metadata": {},
   "source": [
    "## c. Run the following. \n"
   ]
  },
  {
   "cell_type": "code",
   "execution_count": 140,
   "id": "748a6bb9",
   "metadata": {},
   "outputs": [
    {
     "ename": "TypeError",
     "evalue": "Dog.__init__() missing 1 required positional argument: 'breed'",
     "output_type": "error",
     "traceback": [
      "\u001b[1;31m---------------------------------------------------------------------------\u001b[0m",
      "\u001b[1;31mTypeError\u001b[0m                                 Traceback (most recent call last)",
      "Cell \u001b[1;32mIn[140], line 1\u001b[0m\n\u001b[1;32m----> 1\u001b[0m miles \u001b[38;5;241m=\u001b[39m Bulldog(\u001b[38;5;124m\"\u001b[39m\u001b[38;5;124mMiles\u001b[39m\u001b[38;5;124m\"\u001b[39m, \u001b[38;5;241m4\u001b[39m)\n",
      "\u001b[1;31mTypeError\u001b[0m: Dog.__init__() missing 1 required positional argument: 'breed'"
     ]
    }
   ],
   "source": [
    "miles = Bulldog(\"Miles\", 4)\n"
   ]
  },
  {
   "cell_type": "code",
   "execution_count": 141,
   "id": "d053d586",
   "metadata": {},
   "outputs": [
    {
     "data": {
      "text/plain": [
       "'Miles says bbbbbbbbbbbbb'"
      ]
     },
     "execution_count": 141,
     "metadata": {},
     "output_type": "execute_result"
    }
   ],
   "source": [
    "miles.speak('bbbbbbbbbbbbb')"
   ]
  },
  {
   "cell_type": "markdown",
   "id": "fdbc313c",
   "metadata": {},
   "source": [
    "## d. Modify the other two child classes in part iii i.e. Dachshund and Bulldog. Update like in part I the JackRussellTerrier is modified."
   ]
  },
  {
   "cell_type": "code",
   "execution_count": 142,
   "id": "fb9f634e",
   "metadata": {},
   "outputs": [],
   "source": [
    "class Bulldog(Dog):\n",
    "    def speak(self, sound=\"Arf\"):\n",
    "        return f\"Chiled class call ….{self.name} says {sound}\""
   ]
  },
  {
   "cell_type": "code",
   "execution_count": 143,
   "id": "1fdd19ff",
   "metadata": {},
   "outputs": [],
   "source": [
    "class Dachshund(Dog):\n",
    "    def speak(self, sound=\"Arf\"):\n",
    "        return f\"Chiled class call ….{self.name} says {sound}\""
   ]
  },
  {
   "cell_type": "markdown",
   "id": "e0e4fe57",
   "metadata": {},
   "source": [
    "## e. You can access the parent class from inside a method of a child class by using super():"
   ]
  },
  {
   "cell_type": "code",
   "execution_count": 144,
   "id": "956e13d4",
   "metadata": {},
   "outputs": [],
   "source": [
    "class JackRussellTerrier(Dog):\n",
    "    def speak(self, sound=\"Arf\"):\n",
    "        return super().speak(sound)"
   ]
  },
  {
   "cell_type": "markdown",
   "id": "e4dd620c",
   "metadata": {},
   "source": [
    "## • Run the following. \n"
   ]
  },
  {
   "cell_type": "code",
   "execution_count": 145,
   "id": "5bee0631",
   "metadata": {},
   "outputs": [
    {
     "ename": "TypeError",
     "evalue": "Dog.__init__() missing 1 required positional argument: 'breed'",
     "output_type": "error",
     "traceback": [
      "\u001b[1;31m---------------------------------------------------------------------------\u001b[0m",
      "\u001b[1;31mTypeError\u001b[0m                                 Traceback (most recent call last)",
      "Cell \u001b[1;32mIn[145], line 1\u001b[0m\n\u001b[1;32m----> 1\u001b[0m miles \u001b[38;5;241m=\u001b[39m JackRussellTerrier(\u001b[38;5;124m\"\u001b[39m\u001b[38;5;124mMiles\u001b[39m\u001b[38;5;124m\"\u001b[39m, \u001b[38;5;241m4\u001b[39m)\n",
      "\u001b[1;31mTypeError\u001b[0m: Dog.__init__() missing 1 required positional argument: 'breed'"
     ]
    }
   ],
   "source": [
    "miles = JackRussellTerrier(\"Miles\", 4)\n"
   ]
  },
  {
   "cell_type": "code",
   "execution_count": 146,
   "id": "00eab94b",
   "metadata": {},
   "outputs": [
    {
     "ename": "TypeError",
     "evalue": "Dog.speak() missing 1 required positional argument: 'sound'",
     "output_type": "error",
     "traceback": [
      "\u001b[1;31m---------------------------------------------------------------------------\u001b[0m",
      "\u001b[1;31mTypeError\u001b[0m                                 Traceback (most recent call last)",
      "Cell \u001b[1;32mIn[146], line 1\u001b[0m\n\u001b[1;32m----> 1\u001b[0m miles\u001b[38;5;241m.\u001b[39mspeak()\n",
      "\u001b[1;31mTypeError\u001b[0m: Dog.speak() missing 1 required positional argument: 'sound'"
     ]
    }
   ],
   "source": [
    "miles.speak()"
   ]
  },
  {
   "cell_type": "markdown",
   "id": "a36ecf03",
   "metadata": {},
   "source": [
    "## Encouraging:\n",
    "1. Person and Employ \n",
    "If your subclasses provide a .__init__() method, then this method must explicitly call the \n",
    "base class’s .__init__() method with appropriate arguments to ensure the correct \n",
    "initialization of instances. To do this, you should use the built-in super() function.\n",
    "Run and understand the following code. Also, print the attributes. "
   ]
  },
  {
   "cell_type": "code",
   "execution_count": 24,
   "id": "7839cb31",
   "metadata": {},
   "outputs": [],
   "source": [
    "class Person:\n",
    "    def __init__(self, name, birth_date):\n",
    "        self.name = name\n",
    "        self.birth_date = birth_date\n",
    "class Employee(Person):\n",
    "    def __init__(self, name, birth_date, position):\n",
    "        super().__init__(name, birth_date)\n",
    "        self.position = position\n",
    "        \n",
    "        \n",
    "        \n",
    "john = Employee(\"John Doe\", \"2001-02-07\", \"Python Developer\")\n"
   ]
  },
  {
   "cell_type": "markdown",
   "id": "1d1a0356",
   "metadata": {},
   "source": [
    "## 2. Consider the following class and sub-class."
   ]
  },
  {
   "cell_type": "code",
   "execution_count": 25,
   "id": "104f5a30",
   "metadata": {},
   "outputs": [],
   "source": [
    "class Contact:\n",
    "    all_contacts = []\n",
    "    def __init__(self, name, email):\n",
    "        self.name = name\n",
    "        self.email = email\n",
    "        Contact.all_contacts.append(self)\n",
    "class Supplier(Contact):\n",
    "    def order(self, order):\n",
    "        print(\"If this were a real system we would send '{}' order to '{}'\".format(order, self.name))\n"
   ]
  },
  {
   "cell_type": "markdown",
   "id": "13f0b51f",
   "metadata": {},
   "source": [
    "## Instantiate two objects c and s. "
   ]
  },
  {
   "cell_type": "code",
   "execution_count": 26,
   "id": "895daea2",
   "metadata": {},
   "outputs": [],
   "source": [
    "c = Contact(\"Some Body\", \"somebody@example.net\")\n",
    "s = Supplier(\"Sup Plier\", \"supplier@example.net\")"
   ]
  },
  {
   "cell_type": "markdown",
   "id": "b761ccfb",
   "metadata": {},
   "source": [
    "## a. Print the attributes of c and s."
   ]
  },
  {
   "cell_type": "code",
   "execution_count": 29,
   "id": "a256611d",
   "metadata": {},
   "outputs": [
    {
     "data": {
      "text/plain": [
       "[<__main__.Contact at 0x1b703d36610>, <__main__.Supplier at 0x1b703d3b410>]"
      ]
     },
     "execution_count": 29,
     "metadata": {},
     "output_type": "execute_result"
    }
   ],
   "source": [
    "c.all_contacts"
   ]
  },
  {
   "cell_type": "code",
   "execution_count": 30,
   "id": "d93715a9",
   "metadata": {},
   "outputs": [
    {
     "data": {
      "text/plain": [
       "'somebody@example.net'"
      ]
     },
     "execution_count": 30,
     "metadata": {},
     "output_type": "execute_result"
    }
   ],
   "source": [
    "c.email"
   ]
  },
  {
   "cell_type": "code",
   "execution_count": 31,
   "id": "435b4133",
   "metadata": {},
   "outputs": [
    {
     "data": {
      "text/plain": [
       "'Some Body'"
      ]
     },
     "execution_count": 31,
     "metadata": {},
     "output_type": "execute_result"
    }
   ],
   "source": [
    "c.name"
   ]
  },
  {
   "cell_type": "code",
   "execution_count": 32,
   "id": "d1d8bb72",
   "metadata": {},
   "outputs": [
    {
     "data": {
      "text/plain": [
       "[<__main__.Contact at 0x1b703d36610>, <__main__.Supplier at 0x1b703d3b410>]"
      ]
     },
     "execution_count": 32,
     "metadata": {},
     "output_type": "execute_result"
    }
   ],
   "source": [
    "s.all_contacts"
   ]
  },
  {
   "cell_type": "code",
   "execution_count": 33,
   "id": "e3c4195e",
   "metadata": {},
   "outputs": [
    {
     "data": {
      "text/plain": [
       "'supplier@example.net'"
      ]
     },
     "execution_count": 33,
     "metadata": {},
     "output_type": "execute_result"
    }
   ],
   "source": [
    "s.email"
   ]
  },
  {
   "cell_type": "code",
   "execution_count": 34,
   "id": "e6161163",
   "metadata": {},
   "outputs": [
    {
     "data": {
      "text/plain": [
       "'Sup Plier'"
      ]
     },
     "execution_count": 34,
     "metadata": {},
     "output_type": "execute_result"
    }
   ],
   "source": [
    "s.name"
   ]
  },
  {
   "cell_type": "code",
   "execution_count": 35,
   "id": "bd95e2b3",
   "metadata": {},
   "outputs": [
    {
     "data": {
      "text/plain": [
       "<bound method Supplier.order of <__main__.Supplier object at 0x000001B703D3B410>>"
      ]
     },
     "execution_count": 35,
     "metadata": {},
     "output_type": "execute_result"
    }
   ],
   "source": [
    "s.order"
   ]
  },
  {
   "cell_type": "markdown",
   "id": "33809c6e",
   "metadata": {},
   "source": [
    "## b. Call the order method on c.\n"
   ]
  },
  {
   "cell_type": "code",
   "execution_count": 37,
   "id": "5fa35ac0",
   "metadata": {},
   "outputs": [
    {
     "ename": "AttributeError",
     "evalue": "'Contact' object has no attribute 'order'",
     "output_type": "error",
     "traceback": [
      "\u001b[1;31m---------------------------------------------------------------------------\u001b[0m",
      "\u001b[1;31mAttributeError\u001b[0m                            Traceback (most recent call last)",
      "Cell \u001b[1;32mIn[37], line 1\u001b[0m\n\u001b[1;32m----> 1\u001b[0m c\u001b[38;5;241m.\u001b[39morder\n",
      "\u001b[1;31mAttributeError\u001b[0m: 'Contact' object has no attribute 'order'"
     ]
    }
   ],
   "source": [
    "c.order"
   ]
  },
  {
   "cell_type": "markdown",
   "id": "aee07e87",
   "metadata": {},
   "source": [
    "## c. Call the order method on s. Observe the difference."
   ]
  },
  {
   "cell_type": "code",
   "execution_count": 38,
   "id": "2dead2dd",
   "metadata": {},
   "outputs": [
    {
     "data": {
      "text/plain": [
       "<bound method Supplier.order of <__main__.Supplier object at 0x000001B703D3B410>>"
      ]
     },
     "execution_count": 38,
     "metadata": {},
     "output_type": "execute_result"
    }
   ],
   "source": [
    "s.order"
   ]
  },
  {
   "cell_type": "markdown",
   "id": "c18f458a",
   "metadata": {},
   "source": [
    "## Note: \n",
    "• Supplier class can do everything a contact can do (including adding itself to the list of \n",
    "all_contacts) and all the special things it needs to handle as a supplier"
   ]
  },
  {
   "cell_type": "markdown",
   "id": "9de10148",
   "metadata": {},
   "source": [
    "## 3. Extending built-ins: List is a built-in class. In the following code block “ContactList“is derived.\n"
   ]
  },
  {
   "cell_type": "code",
   "execution_count": 16,
   "id": "3b5ee387",
   "metadata": {},
   "outputs": [],
   "source": [
    "class ContactList(list):\n",
    "    def search(self, name):\n",
    "        '''Return all contacts that contain the search value in their name.'''\n",
    "        matching_contacts = []\n",
    "        for contact in self:\n",
    "            if name in contact.name:\n",
    "                matching_contacts.append(contact)\n",
    "                return matching_contacts\n",
    "class Contact:\n",
    "    all_contacts = ContactList()\n",
    "    def __init__(self, name, email):\n",
    "        self.name = name\n",
    "        self.email = email\n",
    "        self.all_contacts.append(self)\n",
    "  "
   ]
  },
  {
   "cell_type": "markdown",
   "id": "f0e2f912",
   "metadata": {},
   "source": [
    "## a. Make the following three objects."
   ]
  },
  {
   "cell_type": "code",
   "execution_count": 17,
   "id": "be102b26",
   "metadata": {},
   "outputs": [],
   "source": [
    "c1 = Contact(\"John A\", \"johna@example.net\")\n",
    "c2 = Contact(\"John B\", \"johnb@example.net\")\n",
    "c3 = Contact(\"Jenna C\", \"jennac@example.net\")"
   ]
  },
  {
   "cell_type": "code",
   "execution_count": 18,
   "id": "3a71ce3d",
   "metadata": {},
   "outputs": [],
   "source": [
    "a = ContactList('as')"
   ]
  },
  {
   "cell_type": "code",
   "execution_count": 19,
   "id": "06731173",
   "metadata": {},
   "outputs": [
    {
     "data": {
      "text/plain": [
       "[<__main__.Contact at 0x18041bba910>]"
      ]
     },
     "execution_count": 19,
     "metadata": {},
     "output_type": "execute_result"
    }
   ],
   "source": [
    "c1.all_contacts.search('John')"
   ]
  },
  {
   "cell_type": "markdown",
   "id": "03d24a79",
   "metadata": {},
   "source": [
    "## b. Make a list of names that contain John. For this use the search method. "
   ]
  },
  {
   "cell_type": "code",
   "execution_count": 20,
   "id": "422236f6",
   "metadata": {},
   "outputs": [
    {
     "data": {
      "text/plain": [
       "[<__main__.Contact at 0x18041bba910>]"
      ]
     },
     "execution_count": 20,
     "metadata": {},
     "output_type": "execute_result"
    }
   ],
   "source": [
    "c1.all_contacts.search('John')"
   ]
  },
  {
   "cell_type": "markdown",
   "id": "5f1420c9",
   "metadata": {},
   "source": [
    "## Note:\n",
    "• In the Contact class seen earlier, we are adding contacts to a list of all contacts. \n",
    "What if we also wanted to search that list by name? Well, we could add a method \n",
    "on the Contact class to search it, but it feels like this method actually belongs to \n",
    "the list itself.\n",
    "• Instead of instantiating a normal list as our class variable, we create a new \n",
    "ContactList class that extends the built-in list. Then, we instantiate this \n",
    "subclass as our all_contacts list"
   ]
  },
  {
   "cell_type": "markdown",
   "id": "d88b9b39",
   "metadata": {},
   "source": [
    "## 4. Overriding and super\n",
    "Consider the following contact class allows only a name and an e-mail address. "
   ]
  },
  {
   "cell_type": "code",
   "execution_count": 34,
   "id": "975ddfbc",
   "metadata": {},
   "outputs": [],
   "source": [
    "class Contact:\n",
    "    all_contacts = []\n",
    "    def __init__(self, name, email):\n",
    "        self.name = name\n",
    "        self.email = email\n",
    "        Contact.all_contacts.append(self)\n",
    "   "
   ]
  },
  {
   "cell_type": "markdown",
   "id": "767ae85e",
   "metadata": {},
   "source": [
    "### This may be sufficient for most contacts, but what if we want to add a phone number for our close friends?To add a new attribute phone can be done easily by just setting a phone attribute on the contact after it is constructed."
   ]
  },
  {
   "cell_type": "code",
   "execution_count": 35,
   "id": "48b73111",
   "metadata": {},
   "outputs": [],
   "source": [
    "class Friend(Contact):\n",
    "    def __init__(self, name, email, phone):\n",
    "        self.name = name\n",
    "        self.email = email\n",
    "        self.phone = phone\n",
    "\n"
   ]
  },
  {
   "cell_type": "markdown",
   "id": "2d8ec53c",
   "metadata": {},
   "source": [
    "## a. Make an object Friend class and print its attributes. "
   ]
  },
  {
   "cell_type": "code",
   "execution_count": 36,
   "id": "8653551f",
   "metadata": {},
   "outputs": [],
   "source": [
    "friend1  = Friend('ibraheem','ibrahem@12','0312')"
   ]
  },
  {
   "cell_type": "code",
   "execution_count": 37,
   "id": "c6c250a4",
   "metadata": {},
   "outputs": [
    {
     "data": {
      "text/plain": [
       "'ibrahem@12'"
      ]
     },
     "execution_count": 37,
     "metadata": {},
     "output_type": "execute_result"
    }
   ],
   "source": [
    "friend1.email"
   ]
  },
  {
   "cell_type": "code",
   "execution_count": 38,
   "id": "bdeea37e",
   "metadata": {},
   "outputs": [
    {
     "data": {
      "text/plain": [
       "'ibraheem'"
      ]
     },
     "execution_count": 38,
     "metadata": {},
     "output_type": "execute_result"
    }
   ],
   "source": [
    "friend1.name"
   ]
  },
  {
   "cell_type": "code",
   "execution_count": 39,
   "id": "0db3d295",
   "metadata": {},
   "outputs": [
    {
     "data": {
      "text/plain": [
       "'0312'"
      ]
     },
     "execution_count": 39,
     "metadata": {},
     "output_type": "execute_result"
    }
   ],
   "source": [
    "friend1.phone"
   ]
  },
  {
   "cell_type": "markdown",
   "id": "548a5aaa",
   "metadata": {},
   "source": [
    "\n",
    "What we really need is a way to execute the original __init__ method on the Contact \n",
    "class. This is what the super function does; it returns the object as an instance of the \n",
    "parent class, allowing us to call the parent method directly:\n"
   ]
  },
  {
   "cell_type": "code",
   "execution_count": 40,
   "id": "8067b16a",
   "metadata": {},
   "outputs": [],
   "source": [
    "class Friend(Contact):\n",
    "    def __init__(self, name, email, phone):\n",
    "        super().__init__(name, email)\n",
    "        self.phone = phone\n"
   ]
  },
  {
   "cell_type": "markdown",
   "id": "9e7ebbfb",
   "metadata": {},
   "source": [
    " This example first gets the instance of the parent object using super, and calls __init__ \n",
    "on that object, passing in the expected arguments. It then does its own initialization, \n",
    "namely, setting the phone attribute"
   ]
  },
  {
   "cell_type": "markdown",
   "id": "a8716f7b",
   "metadata": {},
   "source": [
    "## b. Make an object Friend class and print its attributes. "
   ]
  },
  {
   "cell_type": "code",
   "execution_count": 46,
   "id": "6c38cd6a",
   "metadata": {},
   "outputs": [],
   "source": [
    "friend1  = Friend('ibraheem','ibrahem@12','0312')"
   ]
  },
  {
   "cell_type": "code",
   "execution_count": 47,
   "id": "c7cf5993",
   "metadata": {},
   "outputs": [
    {
     "data": {
      "text/plain": [
       "'ibrahem@12'"
      ]
     },
     "execution_count": 47,
     "metadata": {},
     "output_type": "execute_result"
    }
   ],
   "source": [
    "friend1.email"
   ]
  },
  {
   "cell_type": "code",
   "execution_count": 48,
   "id": "f38a677e",
   "metadata": {},
   "outputs": [
    {
     "data": {
      "text/plain": [
       "'ibraheem'"
      ]
     },
     "execution_count": 48,
     "metadata": {},
     "output_type": "execute_result"
    }
   ],
   "source": [
    "friend1.name"
   ]
  },
  {
   "cell_type": "code",
   "execution_count": 49,
   "id": "71c7b0fc",
   "metadata": {},
   "outputs": [
    {
     "data": {
      "text/plain": [
       "'0312'"
      ]
     },
     "execution_count": 49,
     "metadata": {},
     "output_type": "execute_result"
    }
   ],
   "source": [
    "friend1.phone"
   ]
  },
  {
   "cell_type": "code",
   "execution_count": 50,
   "id": "b7ba52f0",
   "metadata": {},
   "outputs": [
    {
     "data": {
      "text/plain": [
       "[<__main__.Friend at 0x18041c03a90>, <__main__.Friend at 0x18041ba8150>]"
      ]
     },
     "execution_count": 50,
     "metadata": {},
     "output_type": "execute_result"
    }
   ],
   "source": [
    "friend1.all_contacts"
   ]
  },
  {
   "cell_type": "code",
   "execution_count": null,
   "id": "0e5ac984",
   "metadata": {},
   "outputs": [],
   "source": []
  },
  {
   "cell_type": "code",
   "execution_count": null,
   "id": "6ddb3f55",
   "metadata": {},
   "outputs": [],
   "source": []
  }
 ],
 "metadata": {
  "kernelspec": {
   "display_name": "Python 3 (ipykernel)",
   "language": "python",
   "name": "python3"
  },
  "language_info": {
   "codemirror_mode": {
    "name": "ipython",
    "version": 3
   },
   "file_extension": ".py",
   "mimetype": "text/x-python",
   "name": "python",
   "nbconvert_exporter": "python",
   "pygments_lexer": "ipython3",
   "version": "3.11.4"
  }
 },
 "nbformat": 4,
 "nbformat_minor": 5
}
