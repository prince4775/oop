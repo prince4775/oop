{
 "cells": [
  {
   "cell_type": "markdown",
   "id": "80303ca6",
   "metadata": {},
   "source": [
    "# lab no 4"
   ]
  },
  {
   "cell_type": "markdown",
   "id": "56570764",
   "metadata": {},
   "source": [
    "#Lab work tasks:\n",
    "## 1. Motivation \n",
    "### Interest is to make a list that can store employee data. \n",
    "#### [name, age, position, the year they started working]\n",
    "##### For example"
   ]
  },
  {
   "cell_type": "code",
   "execution_count": 1,
   "id": "85d33797",
   "metadata": {},
   "outputs": [],
   "source": [
    "kirk = [\"James Kirk\", 34, \"Captain\", 2265]\n",
    "spock = [\"Spock\", 35, \"Science Officer\", 2254]\n",
    "mccoy = [\"Leonard McCoy\", \"Chief Medical Officer\", 2266]"
   ]
  },
  {
   "cell_type": "markdown",
   "id": "1349015e",
   "metadata": {},
   "source": [
    "# a. "
   ]
  },
  {
   "cell_type": "markdown",
   "id": "9774a5cc",
   "metadata": {},
   "source": [
    "## Hints: First, when you reference kirk[0] several lines away from where the kirk list is declared, will you remember that the 0th element of the list is the employee’s name?\n",
    "## we will print the krick name by using index method so the index of the name is 0"
   ]
  },
  {
   "cell_type": "code",
   "execution_count": 2,
   "id": "8b516906",
   "metadata": {},
   "outputs": [
    {
     "name": "stdout",
     "output_type": "stream",
     "text": [
      "James Kirk\n"
     ]
    }
   ],
   "source": [
    "print(kirk[0])"
   ]
  },
  {
   "cell_type": "markdown",
   "id": "bd8bc433",
   "metadata": {},
   "source": [
    "# Hints: What if not every employee has the same number of elements in the list? In the mccoy list above, the age is missing, so mccoy[1] will return \"Chief Medical Officer\" instead of Dr. McCoy’s age"
   ]
  },
  {
   "cell_type": "code",
   "execution_count": 3,
   "id": "53c1d20e",
   "metadata": {},
   "outputs": [
    {
     "name": "stdout",
     "output_type": "stream",
     "text": [
      "Chief Medical Officer\n"
     ]
    }
   ],
   "source": [
    "print(mccoy[1])\n"
   ]
  },
  {
   "cell_type": "markdown",
   "id": "37b37709",
   "metadata": {},
   "source": [
    "# A great way to make this type of code more manageable and more maintainable is to use classes.\n",
    "# In the following section a brief introduction to classes, how to make instances/ objects of those classes, and how to use them."
   ]
  },
  {
   "cell_type": "markdown",
   "id": "5f0bd969",
   "metadata": {},
   "source": [
    "# 2. Dog class"
   ]
  },
  {
   "cell_type": "code",
   "execution_count": 4,
   "id": "24bd5f91",
   "metadata": {},
   "outputs": [],
   "source": [
    "# dog.py\n",
    "class Dog:\n",
    "    pass"
   ]
  },
  {
   "cell_type": "markdown",
   "id": "a15688c8",
   "metadata": {},
   "source": [
    "# Creating a new object from a class is called instantiating a class. You can create a new object by typing the name of the class, followed by opening and closing parentheses:"
   ]
  },
  {
   "cell_type": "markdown",
   "id": "1a76fcac",
   "metadata": {},
   "source": [
    "# a.\n",
    "\n"
   ]
  },
  {
   "cell_type": "code",
   "execution_count": 5,
   "id": "4639e4a4",
   "metadata": {},
   "outputs": [],
   "source": [
    "# it will print the location of dog class"
   ]
  },
  {
   "cell_type": "code",
   "execution_count": 6,
   "id": "a07951e8",
   "metadata": {},
   "outputs": [
    {
     "data": {
      "text/plain": [
       "<__main__.Dog at 0x247873ca910>"
      ]
     },
     "execution_count": 6,
     "metadata": {},
     "output_type": "execute_result"
    }
   ],
   "source": [
    "Dog()"
   ]
  },
  {
   "cell_type": "markdown",
   "id": "19427628",
   "metadata": {},
   "source": [
    "# b."
   ]
  },
  {
   "cell_type": "code",
   "execution_count": 7,
   "id": "d6e29306",
   "metadata": {},
   "outputs": [],
   "source": [
    "# it will assign the value to the ints which is actually a location of god class"
   ]
  },
  {
   "cell_type": "code",
   "execution_count": 8,
   "id": "5655093c",
   "metadata": {},
   "outputs": [],
   "source": [
    "Inst=Dog()"
   ]
  },
  {
   "cell_type": "markdown",
   "id": "6ef504fa",
   "metadata": {},
   "source": [
    "# c. Create two new Dog objects and assign them to the variables a and b."
   ]
  },
  {
   "cell_type": "code",
   "execution_count": 9,
   "id": "4a0e3ba2",
   "metadata": {},
   "outputs": [],
   "source": [
    "a = Dog()\n",
    "b = Dog()"
   ]
  },
  {
   "cell_type": "markdown",
   "id": "5e24b990",
   "metadata": {},
   "source": [
    "# d. When you compare a and b using the == operator, the result is False. Even though a and b are both instances of the Dog class, they represent two distinct objects in memory."
   ]
  },
  {
   "cell_type": "code",
   "execution_count": 10,
   "id": "8bbb2c7a",
   "metadata": {},
   "outputs": [],
   "source": [
    "# it will print false because a and b is the different objects which is stored the different location in the memory"
   ]
  },
  {
   "cell_type": "code",
   "execution_count": 11,
   "id": "793fa624",
   "metadata": {},
   "outputs": [
    {
     "data": {
      "text/plain": [
       "False"
      ]
     },
     "execution_count": 11,
     "metadata": {},
     "output_type": "execute_result"
    }
   ],
   "source": [
    "a == b"
   ]
  },
  {
   "cell_type": "markdown",
   "id": "b272e052",
   "metadata": {},
   "source": [
    "# e. Use the print command and print both instances/ objects. "
   ]
  },
  {
   "cell_type": "code",
   "execution_count": 12,
   "id": "30884bf3",
   "metadata": {},
   "outputs": [
    {
     "name": "stdout",
     "output_type": "stream",
     "text": [
      "<__main__.Dog object at 0x00000247873CFFD0>\n"
     ]
    }
   ],
   "source": [
    "print(a)"
   ]
  },
  {
   "cell_type": "code",
   "execution_count": 13,
   "id": "bb22e34c",
   "metadata": {},
   "outputs": [
    {
     "name": "stdout",
     "output_type": "stream",
     "text": [
      "<__main__.Dog object at 0x00000247873C9D50>\n"
     ]
    }
   ],
   "source": [
    "print(b)"
   ]
  },
  {
   "cell_type": "markdown",
   "id": "d96115a4",
   "metadata": {},
   "source": [
    "# 3. Following is a class named MyFirstClass.\n",
    "# • The pass keyword on the second line indicates that no further action needs to be taken\n"
   ]
  },
  {
   "cell_type": "code",
   "execution_count": 14,
   "id": "0a853606",
   "metadata": {},
   "outputs": [],
   "source": [
    "class MyFirstClass:\n",
    "    pass\n"
   ]
  },
  {
   "cell_type": "markdown",
   "id": "27ace731",
   "metadata": {},
   "source": [
    "# a. Make two instances named FC1 and FC2."
   ]
  },
  {
   "cell_type": "code",
   "execution_count": 15,
   "id": "7afca17f",
   "metadata": {},
   "outputs": [],
   "source": [
    "FC1 = MyFirstClass()\n",
    "FC2 = MyFirstClass()"
   ]
  },
  {
   "cell_type": "markdown",
   "id": "b68b6230",
   "metadata": {},
   "source": [
    "# b. Check whether FC1 and FC2 represent the same object or not"
   ]
  },
  {
   "cell_type": "code",
   "execution_count": 16,
   "id": "6ab2873f",
   "metadata": {},
   "outputs": [
    {
     "data": {
      "text/plain": [
       "False"
      ]
     },
     "execution_count": 16,
     "metadata": {},
     "output_type": "execute_result"
    }
   ],
   "source": [
    "FC1 == FC2"
   ]
  },
  {
   "cell_type": "code",
   "execution_count": 17,
   "id": "f1465a71",
   "metadata": {},
   "outputs": [],
   "source": [
    "# No the objects are different from each other because it is stored in the different location"
   ]
  },
  {
   "cell_type": "markdown",
   "id": "32ecc8d4",
   "metadata": {},
   "source": [
    "# c. Use the print command and print both instances. "
   ]
  },
  {
   "cell_type": "code",
   "execution_count": 18,
   "id": "c510137a",
   "metadata": {},
   "outputs": [
    {
     "name": "stdout",
     "output_type": "stream",
     "text": [
      "<__main__.MyFirstClass object at 0x0000024787343B90>\n"
     ]
    }
   ],
   "source": [
    "print(FC1)"
   ]
  },
  {
   "cell_type": "code",
   "execution_count": 19,
   "id": "cbf5a5ca",
   "metadata": {},
   "outputs": [
    {
     "name": "stdout",
     "output_type": "stream",
     "text": [
      "<__main__.MyFirstClass object at 0x00000247873BA390>\n"
     ]
    }
   ],
   "source": [
    "print(FC2)"
   ]
  },
  {
   "cell_type": "markdown",
   "id": "86807823",
   "metadata": {},
   "source": [
    "# • When printed, the two objects tell us which class they are and what memory address they live at. Memory addresses aren't used much in Python code, but here, they demonstrate that there are two distinct objects involved.\n"
   ]
  },
  {
   "cell_type": "markdown",
   "id": "3bb892b2",
   "metadata": {},
   "source": [
    "# 4. Consider the following class definition. "
   ]
  },
  {
   "cell_type": "code",
   "execution_count": 20,
   "id": "26b422f0",
   "metadata": {},
   "outputs": [],
   "source": [
    "class Point:\n",
    "    pass"
   ]
  },
  {
   "cell_type": "markdown",
   "id": "3a590eca",
   "metadata": {},
   "source": [
    "# a. Make two instances named p1 and p2."
   ]
  },
  {
   "cell_type": "code",
   "execution_count": 21,
   "id": "a55b66c9",
   "metadata": {},
   "outputs": [],
   "source": [
    "p1 = Point()"
   ]
  },
  {
   "cell_type": "code",
   "execution_count": 22,
   "id": "334b2035",
   "metadata": {},
   "outputs": [],
   "source": [
    "p2 = Point()"
   ]
  },
  {
   "cell_type": "markdown",
   "id": "13f73322",
   "metadata": {},
   "source": [
    "# b. Print both objects p1 and p2."
   ]
  },
  {
   "cell_type": "code",
   "execution_count": 23,
   "id": "554b10c3",
   "metadata": {},
   "outputs": [
    {
     "name": "stdout",
     "output_type": "stream",
     "text": [
      "<__main__.Point object at 0x00000247873D0D50>\n"
     ]
    }
   ],
   "source": [
    "print(p1)"
   ]
  },
  {
   "cell_type": "code",
   "execution_count": 24,
   "id": "af61266b",
   "metadata": {},
   "outputs": [
    {
     "name": "stdout",
     "output_type": "stream",
     "text": [
      "<__main__.Point object at 0x00000247873BAED0>\n"
     ]
    }
   ],
   "source": [
    "print(p2)"
   ]
  },
  {
   "cell_type": "markdown",
   "id": "0bb12121",
   "metadata": {},
   "source": [
    "# c. Try different names for objects, instead of p1 and p2. Also, use different attribute names."
   ]
  },
  {
   "cell_type": "code",
   "execution_count": 25,
   "id": "2f41b1fb",
   "metadata": {},
   "outputs": [],
   "source": [
    "class point1:\n",
    "    def __init__ (self,a,b):\n",
    "        self.a=a\n",
    "        self.b=b\n",
    "    def __str__(self):\n",
    "        return f'{self.a},{self.b}'"
   ]
  },
  {
   "cell_type": "code",
   "execution_count": 26,
   "id": "6fae884d",
   "metadata": {},
   "outputs": [],
   "source": [
    "s = point1('ayub',2)"
   ]
  },
  {
   "cell_type": "code",
   "execution_count": 27,
   "id": "ed9502fb",
   "metadata": {},
   "outputs": [],
   "source": [
    "c = point1(3,4)"
   ]
  },
  {
   "cell_type": "code",
   "execution_count": 28,
   "id": "dd31c59b",
   "metadata": {},
   "outputs": [
    {
     "name": "stdout",
     "output_type": "stream",
     "text": [
      "ayub,2\n"
     ]
    }
   ],
   "source": [
    "print(s)"
   ]
  },
  {
   "cell_type": "code",
   "execution_count": 29,
   "id": "f849ac61",
   "metadata": {},
   "outputs": [
    {
     "name": "stdout",
     "output_type": "stream",
     "text": [
      "3,4\n"
     ]
    }
   ],
   "source": [
    "print(c)"
   ]
  },
  {
   "cell_type": "markdown",
   "id": "f3c15e50",
   "metadata": {},
   "source": [
    "# Note: • The value assigned to attribute can be anything: a Python primitive, a built-in data type, or another object. It can even be a function or another class!"
   ]
  },
  {
   "cell_type": "markdown",
   "id": "19ae0cda",
   "metadata": {},
   "source": [
    "# 5. Consider the following class. "
   ]
  },
  {
   "cell_type": "code",
   "execution_count": 30,
   "id": "670ac2f4",
   "metadata": {},
   "outputs": [],
   "source": [
    "class MyClass:\n",
    "    \"\"\"A simple example class\"\"\"\n",
    "    i = 12345\n",
    "    def f(self):\n",
    "        return 'hello world'"
   ]
  },
  {
   "cell_type": "markdown",
   "id": "c66eb3cb",
   "metadata": {},
   "source": [
    "# a. Print: MyClass.i"
   ]
  },
  {
   "cell_type": "code",
   "execution_count": 31,
   "id": "0d33ea56",
   "metadata": {},
   "outputs": [
    {
     "name": "stdout",
     "output_type": "stream",
     "text": [
      "12345\n"
     ]
    }
   ],
   "source": [
    "print(MyClass.i)"
   ]
  },
  {
   "cell_type": "markdown",
   "id": "f668af18",
   "metadata": {},
   "source": [
    "# b. Print: MyClass.f"
   ]
  },
  {
   "cell_type": "code",
   "execution_count": 32,
   "id": "380759fb",
   "metadata": {},
   "outputs": [
    {
     "name": "stdout",
     "output_type": "stream",
     "text": [
      "<function MyClass.f at 0x00000247874549A0>\n"
     ]
    }
   ],
   "source": [
    "print(MyClass.f)"
   ]
  },
  {
   "cell_type": "markdown",
   "id": "9da93a41",
   "metadata": {},
   "source": [
    "# Run: x = MyClass()\n"
   ]
  },
  {
   "cell_type": "code",
   "execution_count": 33,
   "id": "43706d4b",
   "metadata": {},
   "outputs": [],
   "source": [
    "x=MyClass()"
   ]
  },
  {
   "cell_type": "markdown",
   "id": "7f2ce38e",
   "metadata": {},
   "source": [
    "# Where x is called the instance or object.\n",
    "## Note: Class instantiation uses function notation. Just pretend that the class object is a parameterless function that returns a new instance of the class. "
   ]
  },
  {
   "cell_type": "markdown",
   "id": "18b9cac4",
   "metadata": {},
   "source": [
    "# 6. Update the Dog class with an __init__() method that creates .name and .age attributes:"
   ]
  },
  {
   "cell_type": "code",
   "execution_count": 34,
   "id": "6bf0f6bd",
   "metadata": {},
   "outputs": [],
   "source": [
    "# dog.py\n",
    "class Dog:\n",
    "    def __init__(self, name, age):\n",
    "        self.name = name\n",
    "        self.age = age\n"
   ]
  },
  {
   "cell_type": "markdown",
   "id": "df0bb49e",
   "metadata": {},
   "source": [
    "# a. Run: \n"
   ]
  },
  {
   "cell_type": "code",
   "execution_count": 35,
   "id": "cfe8e10e",
   "metadata": {},
   "outputs": [],
   "source": [
    "miles = Dog(\"Miles\", 4)"
   ]
  },
  {
   "cell_type": "markdown",
   "id": "6a3e22b8",
   "metadata": {},
   "source": [
    "# b. Print miles"
   ]
  },
  {
   "cell_type": "code",
   "execution_count": 36,
   "id": "9017fa37",
   "metadata": {},
   "outputs": [
    {
     "name": "stdout",
     "output_type": "stream",
     "text": [
      "<__main__.Dog object at 0x0000024787470490>\n"
     ]
    }
   ],
   "source": [
    "print(miles)"
   ]
  },
  {
   "cell_type": "markdown",
   "id": "1f383caf",
   "metadata": {},
   "source": [
    "# 7. Create a new Dog class with a class attribute called. species and two instance attributes called .name and .age:Class attribute: You define class attributes directly beneath the first line of the class name and indent them by four spaces"
   ]
  },
  {
   "cell_type": "code",
   "execution_count": 37,
   "id": "88a6ffe0",
   "metadata": {},
   "outputs": [],
   "source": [
    "class Dog:\n",
    "    species = \"Canis familiaris\"\n",
    "    def __init__(self, name, age):\n",
    "        self.name = name\n",
    "        self.age = age\n"
   ]
  },
  {
   "cell_type": "markdown",
   "id": "6eb8991c",
   "metadata": {},
   "source": [
    "# a. To instantiate this Dog class, you need to provide values for name and age. If you don’t, then Python raises a TypeError:"
   ]
  },
  {
   "cell_type": "markdown",
   "id": "a54d6e8d",
   "metadata": {},
   "source": [
    "# • Run: Dog()\n"
   ]
  },
  {
   "cell_type": "code",
   "execution_count": 38,
   "id": "378e9ef0",
   "metadata": {},
   "outputs": [
    {
     "ename": "TypeError",
     "evalue": "Dog.__init__() missing 2 required positional arguments: 'name' and 'age'",
     "output_type": "error",
     "traceback": [
      "\u001b[1;31m---------------------------------------------------------------------------\u001b[0m",
      "\u001b[1;31mTypeError\u001b[0m                                 Traceback (most recent call last)",
      "Cell \u001b[1;32mIn[38], line 1\u001b[0m\n\u001b[1;32m----> 1\u001b[0m Dog()\n",
      "\u001b[1;31mTypeError\u001b[0m: Dog.__init__() missing 2 required positional arguments: 'name' and 'age'"
     ]
    }
   ],
   "source": [
    "Dog()"
   ]
  },
  {
   "cell_type": "code",
   "execution_count": null,
   "id": "74e81629",
   "metadata": {},
   "outputs": [],
   "source": [
    "# it will give us error because of the class need arguments name and age \n",
    "# which are missing in the Dog class which we call or run "
   ]
  },
  {
   "cell_type": "markdown",
   "id": "49e0e697",
   "metadata": {},
   "source": [
    "# b. To pass arguments to the name and age parameters, put values into the parentheses after  the class name:"
   ]
  },
  {
   "cell_type": "code",
   "execution_count": 39,
   "id": "da3361b6",
   "metadata": {},
   "outputs": [],
   "source": [
    "miles = Dog(\"Miles\", 4)\n",
    "buddy = Dog(\"Buddy\", 9)\n"
   ]
  },
  {
   "cell_type": "markdown",
   "id": "af88ef4f",
   "metadata": {},
   "source": [
    "# c. After you create the Dog instances, you can access their instance attributes using dot notation:"
   ]
  },
  {
   "cell_type": "code",
   "execution_count": 40,
   "id": "1145e4fd",
   "metadata": {},
   "outputs": [
    {
     "name": "stdout",
     "output_type": "stream",
     "text": [
      "Miles\n",
      "4\n",
      "Buddy\n",
      "9\n"
     ]
    }
   ],
   "source": [
    "print(miles.name)\n",
    "print(miles.age)\n",
    "\n",
    "print(buddy.name)\n",
    "print(buddy.age)\n"
   ]
  },
  {
   "cell_type": "markdown",
   "id": "3f130a78",
   "metadata": {},
   "source": [
    "# d. Although the attributes are guaranteed to exist, their values can change dynamically:\n"
   ]
  },
  {
   "cell_type": "code",
   "execution_count": 41,
   "id": "7ee0f1a2",
   "metadata": {},
   "outputs": [
    {
     "name": "stdout",
     "output_type": "stream",
     "text": [
      "10\n",
      "Felis silvestris\n"
     ]
    }
   ],
   "source": [
    "buddy.age = 10\n",
    "print(buddy.age)\n",
    "miles.species = \"Felis silvestris\"\n",
    "print(miles.species)\n"
   ]
  },
  {
   "cell_type": "markdown",
   "id": "77543d15",
   "metadata": {},
   "source": [
    "# 8. Create a Car class with two instance attributes:\n",
    "# • .color, which stores the name of the car’s color as a string\n",
    "# • .mileage, which stores the number of miles on the car as an integer\n",
    "# Then create two Car objects—a blue car with twenty thousand miles and a red car with thirty thousand miles—and print out their colors and mileage. Your output should look like this:\n",
    "### The blue car has 20,000 miles\n",
    "### The red car has 30,000 miles\n",
    "\n"
   ]
  },
  {
   "cell_type": "markdown",
   "id": "9edf4107",
   "metadata": {},
   "source": [
    "# Solution: Run the code."
   ]
  },
  {
   "cell_type": "code",
   "execution_count": 42,
   "id": "e6a1f052",
   "metadata": {},
   "outputs": [],
   "source": [
    "class Car:\n",
    "    def __init__(self, color, mileage):\n",
    "        self.color = color\n",
    "        self.mileage = mileage\n",
    "    def __str__(self):\n",
    "        return f\"The {self.color} car has {self.mileage:,} miles\"\n",
    "\n"
   ]
  },
  {
   "cell_type": "code",
   "execution_count": 43,
   "id": "5ccb126f",
   "metadata": {},
   "outputs": [
    {
     "name": "stdout",
     "output_type": "stream",
     "text": [
      "The blue car has 20,000 miles\n",
      "The red car has 30,000 miles\n"
     ]
    }
   ],
   "source": [
    "blue_car = Car(color=\"blue\", mileage=20000)\n",
    "red_car = Car(color=\"red\", mileage=30000)\n",
    "for car in (blue_car, red_car):\n",
    "    print(car)"
   ]
  },
  {
   "cell_type": "markdown",
   "id": "9a9f2be6",
   "metadata": {},
   "source": [
    "# a. Modify the Car class with an instance method called .drive() that takes a number as an argument and adds that number to the .mileage attribute. \n",
    "# Test that your solution works by instantiating a car with 0 miles, then call .drive(100) and print the .mileage attribute to check that it is set to 100."
   ]
  },
  {
   "cell_type": "markdown",
   "id": "ff4c0dd2",
   "metadata": {},
   "source": [
    "# In the below calss we will add the new method which will increase the mileage of the car that it will be more driven and we will add the the mileage in the car so we will use the another method that can add the more mileage in the car attributes"
   ]
  },
  {
   "cell_type": "code",
   "execution_count": 44,
   "id": "635c9350",
   "metadata": {},
   "outputs": [],
   "source": [
    "class Car:\n",
    "    def __init__(self, color, mileage):\n",
    "        self.color = color\n",
    "        self.mileage = mileage\n",
    "    def __str__(self):\n",
    "        return f\"The {self.color} car has {self.mileage:,} miles\"\n",
    "    def drive(self,a):\n",
    "        return self.mileage + a\n",
    "\n"
   ]
  },
  {
   "cell_type": "code",
   "execution_count": 45,
   "id": "f209d165",
   "metadata": {},
   "outputs": [],
   "source": [
    "blue_car = Car(color=\"blue\", mileage=12)\n",
    "red_car = Car(color=\"red\", mileage=100)"
   ]
  },
  {
   "cell_type": "code",
   "execution_count": 46,
   "id": "f54de817",
   "metadata": {},
   "outputs": [
    {
     "data": {
      "text/plain": [
       "12"
      ]
     },
     "execution_count": 46,
     "metadata": {},
     "output_type": "execute_result"
    }
   ],
   "source": [
    "blue_car.mileage"
   ]
  },
  {
   "cell_type": "code",
   "execution_count": 47,
   "id": "a2782e99",
   "metadata": {},
   "outputs": [
    {
     "data": {
      "text/plain": [
       "112"
      ]
     },
     "execution_count": 47,
     "metadata": {},
     "output_type": "execute_result"
    }
   ],
   "source": [
    "blue_car.drive(100)"
   ]
  },
  {
   "cell_type": "code",
   "execution_count": 48,
   "id": "355efa02",
   "metadata": {},
   "outputs": [
    {
     "data": {
      "text/plain": [
       "300"
      ]
     },
     "execution_count": 48,
     "metadata": {},
     "output_type": "execute_result"
    }
   ],
   "source": [
    "red_car.drive(200)"
   ]
  },
  {
   "cell_type": "markdown",
   "id": "cd290d82",
   "metadata": {},
   "source": [
    "# 9. Consider the point class below.\n",
    "# b. Make an object and print its x and y coordinates. "
   ]
  },
  {
   "cell_type": "code",
   "execution_count": 49,
   "id": "6acadd39",
   "metadata": {},
   "outputs": [],
   "source": [
    "import math\n",
    "class Point:\n",
    "    def __init__(self, x, y):\n",
    "        self.x = x\n",
    "        self.y = y\n",
    "    def distance(self, p2):\n",
    "        return math.sqrt((self.x-p2.x)**2 + (self.y-p2.y)**2)\n"
   ]
  },
  {
   "cell_type": "markdown",
   "id": "d1516aac",
   "metadata": {},
   "source": [
    "# g. Define point1 and pass two number. "
   ]
  },
  {
   "cell_type": "code",
   "execution_count": 50,
   "id": "ef45be35",
   "metadata": {},
   "outputs": [],
   "source": [
    "point1 = Point(2,4)"
   ]
  },
  {
   "cell_type": "markdown",
   "id": "be8b448e",
   "metadata": {},
   "source": [
    "# h. Make another instance of the point class, say its name is p2. "
   ]
  },
  {
   "cell_type": "code",
   "execution_count": 51,
   "id": "8ea92af9",
   "metadata": {},
   "outputs": [],
   "source": [
    "point2 = Point(5,6)"
   ]
  },
  {
   "cell_type": "markdown",
   "id": "73827b82",
   "metadata": {},
   "source": [
    "# i. Print p1 and p2, for this use print command and pass the point as input. "
   ]
  },
  {
   "cell_type": "code",
   "execution_count": 52,
   "id": "7465a117",
   "metadata": {},
   "outputs": [
    {
     "name": "stdout",
     "output_type": "stream",
     "text": [
      "<__main__.Point object at 0x00000247874708D0>\n"
     ]
    }
   ],
   "source": [
    "print(point1)"
   ]
  },
  {
   "cell_type": "code",
   "execution_count": 53,
   "id": "3803b1d6",
   "metadata": {},
   "outputs": [
    {
     "name": "stdout",
     "output_type": "stream",
     "text": [
      "<__main__.Point object at 0x00000247880A0F10>\n"
     ]
    }
   ],
   "source": [
    "print(point2)"
   ]
  },
  {
   "cell_type": "markdown",
   "id": "8b86d010",
   "metadata": {},
   "source": [
    "# j. Print the coordinate by using object and dot operator.\n"
   ]
  },
  {
   "cell_type": "markdown",
   "id": "a013aa65",
   "metadata": {},
   "source": [
    "# coordinates of point1"
   ]
  },
  {
   "cell_type": "code",
   "execution_count": 54,
   "id": "218c3f0d",
   "metadata": {},
   "outputs": [
    {
     "data": {
      "text/plain": [
       "2"
      ]
     },
     "execution_count": 54,
     "metadata": {},
     "output_type": "execute_result"
    }
   ],
   "source": [
    "point1.x"
   ]
  },
  {
   "cell_type": "code",
   "execution_count": 55,
   "id": "3db29ae6",
   "metadata": {},
   "outputs": [
    {
     "data": {
      "text/plain": [
       "4"
      ]
     },
     "execution_count": 55,
     "metadata": {},
     "output_type": "execute_result"
    }
   ],
   "source": [
    "point1.y"
   ]
  },
  {
   "cell_type": "markdown",
   "id": "0710e5ed",
   "metadata": {},
   "source": [
    "# coordinates of point2"
   ]
  },
  {
   "cell_type": "code",
   "execution_count": 56,
   "id": "4543c11d",
   "metadata": {},
   "outputs": [
    {
     "data": {
      "text/plain": [
       "5"
      ]
     },
     "execution_count": 56,
     "metadata": {},
     "output_type": "execute_result"
    }
   ],
   "source": [
    "point2.x"
   ]
  },
  {
   "cell_type": "code",
   "execution_count": 57,
   "id": "a78324ee",
   "metadata": {},
   "outputs": [
    {
     "data": {
      "text/plain": [
       "6"
      ]
     },
     "execution_count": 57,
     "metadata": {},
     "output_type": "execute_result"
    }
   ],
   "source": [
    "point2.y"
   ]
  },
  {
   "cell_type": "markdown",
   "id": "f57b32b9",
   "metadata": {},
   "source": [
    "# k. Add a new method to the point class that can print the points in effective way. Print both the point using that function. "
   ]
  },
  {
   "cell_type": "code",
   "execution_count": 1,
   "id": "10138202",
   "metadata": {},
   "outputs": [],
   "source": [
    "import math\n",
    "class Point:\n",
    "    def __init__(self, x, y):\n",
    "        self.x = x\n",
    "        self.y = y\n",
    "    def distance(self, p2):\n",
    "        return math.sqrt((self.x-p2.x)**2 + (self.y-p2.y)**2)\n",
    "    def display(self):\n",
    "        return f'The coordinates is {self.x} and {self.y}'"
   ]
  },
  {
   "cell_type": "code",
   "execution_count": 2,
   "id": "fd1e1c08",
   "metadata": {},
   "outputs": [],
   "source": [
    "point3  = Point(2,6)"
   ]
  },
  {
   "cell_type": "code",
   "execution_count": 3,
   "id": "d80fd52c",
   "metadata": {},
   "outputs": [
    {
     "data": {
      "text/plain": [
       "'The coordinates is 2 and 6'"
      ]
     },
     "execution_count": 3,
     "metadata": {},
     "output_type": "execute_result"
    }
   ],
   "source": [
    "point3.display()"
   ]
  },
  {
   "cell_type": "markdown",
   "id": "2669280c",
   "metadata": {},
   "source": [
    "# l. Calculate the distance between these two pints."
   ]
  },
  {
   "cell_type": "markdown",
   "id": "b8c6b062",
   "metadata": {},
   "source": [
    "#### we will use the distance methode to calculate the distance between the points we will call the distance function and pass the argument (i.e) name of the object"
   ]
  },
  {
   "cell_type": "code",
   "execution_count": 61,
   "id": "b6cb1b86",
   "metadata": {},
   "outputs": [
    {
     "data": {
      "text/plain": [
       "0.0"
      ]
     },
     "execution_count": 61,
     "metadata": {},
     "output_type": "execute_result"
    }
   ],
   "source": [
    "point1.distance(point1)"
   ]
  },
  {
   "cell_type": "code",
   "execution_count": 62,
   "id": "4f90a831",
   "metadata": {},
   "outputs": [
    {
     "data": {
      "text/plain": [
       "3.605551275463989"
      ]
     },
     "execution_count": 62,
     "metadata": {},
     "output_type": "execute_result"
    }
   ],
   "source": [
    "point1.distance(point2)"
   ]
  },
  {
   "cell_type": "code",
   "execution_count": 63,
   "id": "9877a588",
   "metadata": {},
   "outputs": [
    {
     "data": {
      "text/plain": [
       "2.0"
      ]
     },
     "execution_count": 63,
     "metadata": {},
     "output_type": "execute_result"
    }
   ],
   "source": [
    "point1.distance(point3)"
   ]
  },
  {
   "cell_type": "markdown",
   "id": "6779b95a",
   "metadata": {},
   "source": [
    "# 10. Consider the following class definition. \n"
   ]
  },
  {
   "cell_type": "code",
   "execution_count": 1,
   "id": "0b7c3740",
   "metadata": {},
   "outputs": [],
   "source": [
    "class Point:\n",
    "    def __init__(self,x,y):\n",
    "        self.x=x\n",
    "        self.y=y"
   ]
  },
  {
   "cell_type": "markdown",
   "id": "071b8d37",
   "metadata": {},
   "source": [
    "# a. Create two objects and print them."
   ]
  },
  {
   "cell_type": "code",
   "execution_count": 2,
   "id": "4eedd35a",
   "metadata": {},
   "outputs": [],
   "source": [
    "obj1 = Point(3,4)"
   ]
  },
  {
   "cell_type": "code",
   "execution_count": 3,
   "id": "0681020a",
   "metadata": {},
   "outputs": [],
   "source": [
    "obj2 = Point(32,90)"
   ]
  },
  {
   "cell_type": "markdown",
   "id": "8b6a519f",
   "metadata": {},
   "source": [
    "# b. Modify the x and y coordinate using the syntax like:\n",
    "\n"
   ]
  },
  {
   "cell_type": "code",
   "execution_count": 4,
   "id": "8dae61d0",
   "metadata": {},
   "outputs": [],
   "source": [
    "obj1.a= 2\n",
    "obj1.b =5"
   ]
  },
  {
   "cell_type": "markdown",
   "id": "d0f6fd67",
   "metadata": {},
   "source": [
    "# c. Add the x and y coordinate objects as the addition of components is needed for vector addition. "
   ]
  },
  {
   "cell_type": "code",
   "execution_count": 9,
   "id": "b635c799",
   "metadata": {},
   "outputs": [
    {
     "name": "stdout",
     "output_type": "stream",
     "text": [
      "the sum of the cordinates are(35 , 94)\n"
     ]
    }
   ],
   "source": [
    "x_sum = obj1.x +obj2.x\n",
    "y_sum = obj1.y +obj2.y\n",
    "print(f\"the sum of the cordinates are({x_sum} , {y_sum})\")"
   ]
  },
  {
   "cell_type": "markdown",
   "id": "f6752509",
   "metadata": {},
   "source": [
    "# Encouraging\n",
    "a. Modify the Dog class to include a third instance attribute called coat_color that stores the \n",
    "color of the dog’s coat as a string. Store your new class in a script and test it out by \n",
    "adding the following code at the bottom of the script: philo = Dog(\"Philo\", 5, \"brown\") \n",
    "print(f\"{philo.name}'s coat is {philo.coat_color}.\") The output of your script should be: \n",
    "Philo's coat is brown"
   ]
  },
  {
   "cell_type": "code",
   "execution_count": 4,
   "id": "8db9e1e0",
   "metadata": {},
   "outputs": [],
   "source": [
    "class Dog:\n",
    "    def __init__(self, name, age, color):\n",
    "        self.name = name\n",
    "        self.age = age\n",
    "        self.color=color\n",
    "philo = Dog('philo',5,'brown')"
   ]
  },
  {
   "cell_type": "code",
   "execution_count": 5,
   "id": "438ada4a",
   "metadata": {},
   "outputs": [
    {
     "name": "stdout",
     "output_type": "stream",
     "text": [
      "philo's coat is brown.\n"
     ]
    }
   ],
   "source": [
    "print(f\"{philo.name}'s coat is {philo.color}.\")"
   ]
  },
  {
   "cell_type": "markdown",
   "id": "b161206d",
   "metadata": {},
   "source": [
    "## lab report task"
   ]
  },
  {
   "cell_type": "markdown",
   "id": "63ebcb02",
   "metadata": {},
   "source": [
    "## 1. Consider the point class below."
   ]
  },
  {
   "cell_type": "markdown",
   "id": "76ab4cfd",
   "metadata": {},
   "source": [
    "## a. Make an object and print its x and y coordinates."
   ]
  },
  {
   "cell_type": "code",
   "execution_count": 7,
   "id": "d440d8c5",
   "metadata": {},
   "outputs": [],
   "source": [
    "import math\n",
    "class Point:\n",
    "    def __init__(self, x, y):\n",
    "        self.x = x\n",
    "        self.y = y\n",
    "    def distance(self, p2):\n",
    "        return math.sqrt((self.x-p2.x)**2 + (self.y-p2.y)**2)\n"
   ]
  },
  {
   "cell_type": "markdown",
   "id": "6b8ce8d5",
   "metadata": {},
   "source": [
    "## a. Define point1 and pass two number."
   ]
  },
  {
   "cell_type": "code",
   "execution_count": 45,
   "id": "0932974a",
   "metadata": {},
   "outputs": [],
   "source": [
    "point1 = Point(2, 3)"
   ]
  },
  {
   "cell_type": "markdown",
   "id": "87b4f6fa",
   "metadata": {},
   "source": [
    "## b. Make another instance of the point class, say its name is p2"
   ]
  },
  {
   "cell_type": "code",
   "execution_count": 46,
   "id": "bd308cf6",
   "metadata": {},
   "outputs": [],
   "source": [
    "point2 = Point(3, 6)"
   ]
  },
  {
   "cell_type": "markdown",
   "id": "bab67f53",
   "metadata": {},
   "source": [
    "## c. Print p1 and p2, for this use print command and pass the point as input. "
   ]
  },
  {
   "cell_type": "code",
   "execution_count": 10,
   "id": "dc3601c3",
   "metadata": {},
   "outputs": [
    {
     "name": "stdout",
     "output_type": "stream",
     "text": [
      "<__main__.Point object at 0x0000019BD9799690>\n"
     ]
    }
   ],
   "source": [
    "print(point1)"
   ]
  },
  {
   "cell_type": "code",
   "execution_count": 11,
   "id": "8f9f2be6",
   "metadata": {},
   "outputs": [
    {
     "name": "stdout",
     "output_type": "stream",
     "text": [
      "<__main__.Point object at 0x0000019BD97436D0>\n"
     ]
    }
   ],
   "source": [
    "print(point2)"
   ]
  },
  {
   "cell_type": "markdown",
   "id": "6e014c74",
   "metadata": {},
   "source": [
    "## d. Print the coordinate by using object and dot operator"
   ]
  },
  {
   "cell_type": "code",
   "execution_count": 12,
   "id": "7888eed0",
   "metadata": {},
   "outputs": [
    {
     "name": "stdout",
     "output_type": "stream",
     "text": [
      "2\n"
     ]
    }
   ],
   "source": [
    "print(point1.x)"
   ]
  },
  {
   "cell_type": "code",
   "execution_count": 13,
   "id": "94db50a9",
   "metadata": {},
   "outputs": [
    {
     "name": "stdout",
     "output_type": "stream",
     "text": [
      "3\n"
     ]
    }
   ],
   "source": [
    "print(point1.y)"
   ]
  },
  {
   "cell_type": "code",
   "execution_count": 14,
   "id": "a359fc34",
   "metadata": {},
   "outputs": [
    {
     "name": "stdout",
     "output_type": "stream",
     "text": [
      "3\n"
     ]
    }
   ],
   "source": [
    "print(point2.x)"
   ]
  },
  {
   "cell_type": "code",
   "execution_count": 15,
   "id": "6db664cb",
   "metadata": {},
   "outputs": [
    {
     "name": "stdout",
     "output_type": "stream",
     "text": [
      "6\n"
     ]
    }
   ],
   "source": [
    "print(point2.y)"
   ]
  },
  {
   "cell_type": "markdown",
   "id": "f35415bf",
   "metadata": {},
   "source": [
    "## e. Add a new method to the point class that can print the points in effective way. Print both the point using that function. "
   ]
  },
  {
   "cell_type": "code",
   "execution_count": 47,
   "id": "a44834db",
   "metadata": {},
   "outputs": [],
   "source": [
    "import math\n",
    "class Point:\n",
    "    def __init__(self, x, y):\n",
    "        self.x = x\n",
    "        self.y = y\n",
    "    def distance(self, p2):\n",
    "        return math.sqrt((self.x-p2.x)**2 + (self.y-p2.y)**2)\n",
    "    def ptr(self):\n",
    "        return f'x = {self.x} and y = {self.y}'\n"
   ]
  },
  {
   "cell_type": "code",
   "execution_count": 48,
   "id": "cd3b5e8c",
   "metadata": {},
   "outputs": [
    {
     "name": "stdout",
     "output_type": "stream",
     "text": [
      "x = 2 and y = 3\n"
     ]
    }
   ],
   "source": [
    "print(point1.ptr())"
   ]
  },
  {
   "cell_type": "code",
   "execution_count": 49,
   "id": "78dbc786",
   "metadata": {},
   "outputs": [
    {
     "name": "stdout",
     "output_type": "stream",
     "text": [
      "x = 3 and y = 6\n"
     ]
    }
   ],
   "source": [
    "print(point2.ptr())"
   ]
  },
  {
   "cell_type": "markdown",
   "id": "400320ef",
   "metadata": {},
   "source": [
    "## f. Calculate the distance between these two pints."
   ]
  },
  {
   "cell_type": "code",
   "execution_count": 54,
   "id": "b434fd12",
   "metadata": {},
   "outputs": [
    {
     "data": {
      "text/plain": [
       "3.1622776601683795"
      ]
     },
     "execution_count": 54,
     "metadata": {},
     "output_type": "execute_result"
    }
   ],
   "source": [
    "point1.distance(point2)"
   ]
  },
  {
   "cell_type": "code",
   "execution_count": 51,
   "id": "64ce6b57",
   "metadata": {},
   "outputs": [
    {
     "data": {
      "text/plain": [
       "3.1622776601683795"
      ]
     },
     "execution_count": 51,
     "metadata": {},
     "output_type": "execute_result"
    }
   ],
   "source": [
    "point2.distance(point1)"
   ]
  },
  {
   "cell_type": "code",
   "execution_count": null,
   "id": "b204da72",
   "metadata": {},
   "outputs": [],
   "source": []
  },
  {
   "cell_type": "code",
   "execution_count": null,
   "id": "675e0045",
   "metadata": {},
   "outputs": [],
   "source": []
  },
  {
   "cell_type": "code",
   "execution_count": null,
   "id": "adef1ef7",
   "metadata": {},
   "outputs": [],
   "source": []
  },
  {
   "cell_type": "code",
   "execution_count": null,
   "id": "12b55511",
   "metadata": {},
   "outputs": [],
   "source": []
  }
 ],
 "metadata": {
  "kernelspec": {
   "display_name": "Python 3 (ipykernel)",
   "language": "python",
   "name": "python3"
  },
  "language_info": {
   "codemirror_mode": {
    "name": "ipython",
    "version": 3
   },
   "file_extension": ".py",
   "mimetype": "text/x-python",
   "name": "python",
   "nbconvert_exporter": "python",
   "pygments_lexer": "ipython3",
   "version": "3.11.4"
  }
 },
 "nbformat": 4,
 "nbformat_minor": 5
}
