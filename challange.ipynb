{
 "cells": [
  {
   "cell_type": "code",
   "execution_count": 17,
   "id": "401856bb",
   "metadata": {},
   "outputs": [
    {
     "data": {
      "text/plain": [
       "<__main__.Dog at 0x1b294473150>"
      ]
     },
     "execution_count": 17,
     "metadata": {},
     "output_type": "execute_result"
    }
   ],
   "source": [
    "class Dog:\n",
    "    pass\n",
    "Dog()"
   ]
  },
  {
   "cell_type": "code",
   "execution_count": 18,
   "id": "03fe78c1",
   "metadata": {},
   "outputs": [
    {
     "data": {
      "text/plain": [
       "False"
      ]
     },
     "execution_count": 18,
     "metadata": {},
     "output_type": "execute_result"
    }
   ],
   "source": [
    "a=Dog()\n",
    "b=Dog()\n",
    "a==b"
   ]
  },
  {
   "cell_type": "code",
   "execution_count": 19,
   "id": "c1eb7ae7",
   "metadata": {},
   "outputs": [],
   "source": [
    "class Dog:\n",
    "    species = \"Canis famiaris\"\n",
    "    def __init__(self,name,age):\n",
    "        self.name=name\n",
    "        self.age=age"
   ]
  },
  {
   "cell_type": "code",
   "execution_count": 20,
   "id": "b15dbc60",
   "metadata": {},
   "outputs": [],
   "source": [
    "miles = Dog('Miles',4)\n",
    "buddy = Dog('buddy',9)"
   ]
  },
  {
   "cell_type": "code",
   "execution_count": 21,
   "id": "2948611e",
   "metadata": {},
   "outputs": [
    {
     "data": {
      "text/plain": [
       "'Miles'"
      ]
     },
     "execution_count": 21,
     "metadata": {},
     "output_type": "execute_result"
    }
   ],
   "source": [
    "# it will show the name of miles\n",
    "miles.name"
   ]
  },
  {
   "cell_type": "code",
   "execution_count": 22,
   "id": "30504273",
   "metadata": {},
   "outputs": [
    {
     "data": {
      "text/plain": [
       "4"
      ]
     },
     "execution_count": 22,
     "metadata": {},
     "output_type": "execute_result"
    }
   ],
   "source": [
    "# it will show the age of miles\n",
    "miles.age"
   ]
  },
  {
   "cell_type": "code",
   "execution_count": 23,
   "id": "bd4952df",
   "metadata": {},
   "outputs": [
    {
     "data": {
      "text/plain": [
       "'buddy'"
      ]
     },
     "execution_count": 23,
     "metadata": {},
     "output_type": "execute_result"
    }
   ],
   "source": [
    "# it will show the the namer of buddy\n",
    "buddy.name"
   ]
  },
  {
   "cell_type": "code",
   "execution_count": 24,
   "id": "098c84d6",
   "metadata": {},
   "outputs": [
    {
     "data": {
      "text/plain": [
       "9"
      ]
     },
     "execution_count": 24,
     "metadata": {},
     "output_type": "execute_result"
    }
   ],
   "source": [
    "# it will show the age of buddy\n",
    "buddy.age"
   ]
  },
  {
   "cell_type": "code",
   "execution_count": 25,
   "id": "65e7c745",
   "metadata": {},
   "outputs": [
    {
     "data": {
      "text/plain": [
       "'Canis famiaris'"
      ]
     },
     "execution_count": 25,
     "metadata": {},
     "output_type": "execute_result"
    }
   ],
   "source": [
    "# it will show the specie of buddy\n",
    "buddy.species"
   ]
  },
  {
   "cell_type": "code",
   "execution_count": 26,
   "id": "745c3ffd",
   "metadata": {},
   "outputs": [
    {
     "data": {
      "text/plain": [
       "'Canis famiaris'"
      ]
     },
     "execution_count": 26,
     "metadata": {},
     "output_type": "execute_result"
    }
   ],
   "source": [
    "# it will show the specie of miles\n",
    "miles.species"
   ]
  },
  {
   "cell_type": "code",
   "execution_count": 27,
   "id": "681318cf",
   "metadata": {},
   "outputs": [
    {
     "data": {
      "text/plain": [
       "10"
      ]
     },
     "execution_count": 27,
     "metadata": {},
     "output_type": "execute_result"
    }
   ],
   "source": [
    "# it will change the age \n",
    "buddy.age=10\n",
    "buddy.age"
   ]
  },
  {
   "cell_type": "code",
   "execution_count": 28,
   "id": "484ce231",
   "metadata": {},
   "outputs": [
    {
     "data": {
      "text/plain": [
       "'felis silvesttris'"
      ]
     },
     "execution_count": 28,
     "metadata": {},
     "output_type": "execute_result"
    }
   ],
   "source": [
    "# it will change the specie\n",
    "miles.species = 'felis silvesttris'\n",
    "miles.species"
   ]
  },
  {
   "cell_type": "code",
   "execution_count": 29,
   "id": "f508e824",
   "metadata": {},
   "outputs": [],
   "source": [
    "class Dog:\n",
    "    species = \"Canis famiaris\"\n",
    "    def __init__(self,name,age):\n",
    "        self.name=name\n",
    "        self.age=age\n",
    "    def __str__(self):\n",
    "        return f'{self.name} is {self.age} yeras old '\n",
    "    def description(self):\n",
    "        return f'{self.name} is {self.age} yeras old' \n",
    "    def speak(self, sound):\n",
    "        return f'{self.name} says {sound}'\n",
    "    "
   ]
  },
  {
   "cell_type": "code",
   "execution_count": 30,
   "id": "aa232bfb",
   "metadata": {},
   "outputs": [
    {
     "data": {
      "text/plain": [
       "'miles is 4 yeras old'"
      ]
     },
     "execution_count": 30,
     "metadata": {},
     "output_type": "execute_result"
    }
   ],
   "source": [
    "miles = Dog('miles',4)\n",
    "\n",
    "miles.description()"
   ]
  },
  {
   "cell_type": "code",
   "execution_count": 31,
   "id": "0ed9d979",
   "metadata": {},
   "outputs": [
    {
     "data": {
      "text/plain": [
       "'miles says woof woof'"
      ]
     },
     "execution_count": 31,
     "metadata": {},
     "output_type": "execute_result"
    }
   ],
   "source": [
    "miles.speak('woof woof')"
   ]
  },
  {
   "cell_type": "code",
   "execution_count": 32,
   "id": "d28e29a6",
   "metadata": {},
   "outputs": [
    {
     "data": {
      "text/plain": [
       "'miles says bow bow'"
      ]
     },
     "execution_count": 32,
     "metadata": {},
     "output_type": "execute_result"
    }
   ],
   "source": [
    " miles.speak('bow bow')"
   ]
  },
  {
   "cell_type": "code",
   "execution_count": 33,
   "id": "5ccebcef",
   "metadata": {},
   "outputs": [
    {
     "name": "stdout",
     "output_type": "stream",
     "text": [
      "['miles', 'buddy', 'jack']\n"
     ]
    }
   ],
   "source": [
    "names=['miles','buddy','jack']\n",
    "print(names)"
   ]
  },
  {
   "cell_type": "code",
   "execution_count": 34,
   "id": "41c3e6a6",
   "metadata": {},
   "outputs": [
    {
     "name": "stdout",
     "output_type": "stream",
     "text": [
      "miles is 4 yeras old \n"
     ]
    }
   ],
   "source": [
    "print(miles)"
   ]
  },
  {
   "cell_type": "markdown",
   "id": "afb6bdab",
   "metadata": {},
   "source": [
    "# inheritance"
   ]
  },
  {
   "cell_type": "code",
   "execution_count": 3,
   "id": "7a3167a2",
   "metadata": {},
   "outputs": [],
   "source": [
    "class parent:\n",
    "    hair_color='brown'\n",
    "    \n",
    "class child(parent):\n",
    "    hair_color = 'purple'"
   ]
  },
  {
   "cell_type": "code",
   "execution_count": 5,
   "id": "54ecc517",
   "metadata": {},
   "outputs": [
    {
     "ename": "AttributeError",
     "evalue": "type object 'child' has no attribute 'speaks'",
     "output_type": "error",
     "traceback": [
      "\u001b[1;31m---------------------------------------------------------------------------\u001b[0m",
      "\u001b[1;31mAttributeError\u001b[0m                            Traceback (most recent call last)",
      "Cell \u001b[1;32mIn[5], line 10\u001b[0m\n\u001b[0;32m      8\u001b[0m         \u001b[38;5;28msuper\u001b[39m()\u001b[38;5;241m.\u001b[39m\u001b[38;5;21m__init__\u001b[39m(speaks)\n\u001b[0;32m      9\u001b[0m         \u001b[38;5;28mself\u001b[39m\u001b[38;5;241m.\u001b[39mspeaks\u001b[38;5;241m.\u001b[39mappend(\u001b[38;5;124m\"\u001b[39m\u001b[38;5;124mgerman\u001b[39m\u001b[38;5;124m\"\u001b[39m)\n\u001b[1;32m---> 10\u001b[0m child\u001b[38;5;241m.\u001b[39mspeaks()\n",
      "\u001b[1;31mAttributeError\u001b[0m: type object 'child' has no attribute 'speaks'"
     ]
    }
   ],
   "source": [
    "class parent:\n",
    "    speaks = ['english']\n",
    "    hair_color='brown'\n",
    "    \n",
    "    class child(parent):\n",
    "        hair_color = 'purple'\n",
    "    def __init__(self):\n",
    "        super().__init__(speaks)\n",
    "        self.speaks.append(\"german\")\n",
    "child.speaks()"
   ]
  },
  {
   "cell_type": "code",
   "execution_count": 6,
   "id": "0ad97a4a",
   "metadata": {},
   "outputs": [],
   "source": [
    "class Dog:\n",
    "    species = 'canis familiaris'\n",
    "    \n",
    "    def __init__(self,name,age,breed):\n",
    "        self.name = name\n",
    "        self.age = age\n",
    "        self.breed = breed\n",
    "        \n",
    "    def __str__(self):\n",
    "        return f'{self.name} is {self.age} years old & breed is {self.breed}'\n",
    "    def speak(self,sound):\n",
    "        return f\"{self.name} says {sound}\""
   ]
  },
  {
   "cell_type": "code",
   "execution_count": 7,
   "id": "7e0533b5",
   "metadata": {},
   "outputs": [],
   "source": [
    "miles = Dog(\"miles\", 5 , \"jack russe\")"
   ]
  },
  {
   "cell_type": "code",
   "execution_count": 8,
   "id": "92354485",
   "metadata": {},
   "outputs": [
    {
     "name": "stdout",
     "output_type": "stream",
     "text": [
      "miles is 5 years old & breed is jack russe\n"
     ]
    }
   ],
   "source": [
    "print(miles)"
   ]
  },
  {
   "cell_type": "code",
   "execution_count": 82,
   "id": "b263aa7a",
   "metadata": {},
   "outputs": [
    {
     "name": "stdout",
     "output_type": "stream",
     "text": [
      "buddy is 9 years old & breed is dachshund\n"
     ]
    }
   ],
   "source": [
    "buddy = Dog('buddy' , 9 , 'dachshund')\n",
    "print(buddy)"
   ]
  },
  {
   "cell_type": "code",
   "execution_count": 83,
   "id": "8bb31276",
   "metadata": {},
   "outputs": [
    {
     "name": "stdout",
     "output_type": "stream",
     "text": [
      "jack is 3 years old & breed is bulldog\n"
     ]
    }
   ],
   "source": [
    "jack = Dog('jack', 3,'bulldog')\n",
    "print(jack)"
   ]
  },
  {
   "cell_type": "code",
   "execution_count": 84,
   "id": "30d70a55",
   "metadata": {},
   "outputs": [
    {
     "name": "stdout",
     "output_type": "stream",
     "text": [
      "jim is 7 years old & breed is bulldog\n"
     ]
    }
   ],
   "source": [
    "jim = Dog('jim',7,'bulldog')\n",
    "print(jim)"
   ]
  },
  {
   "cell_type": "code",
   "execution_count": 85,
   "id": "7af0b3cd",
   "metadata": {},
   "outputs": [
    {
     "data": {
      "text/plain": [
       "'buddy says yap'"
      ]
     },
     "execution_count": 85,
     "metadata": {},
     "output_type": "execute_result"
    }
   ],
   "source": [
    "buddy.speak('yap')"
   ]
  },
  {
   "cell_type": "code",
   "execution_count": 86,
   "id": "0a5e0371",
   "metadata": {},
   "outputs": [
    {
     "data": {
      "text/plain": [
       "'jim says woof'"
      ]
     },
     "execution_count": 86,
     "metadata": {},
     "output_type": "execute_result"
    }
   ],
   "source": [
    "jim.speak('woof')"
   ]
  },
  {
   "cell_type": "code",
   "execution_count": 87,
   "id": "629f6448",
   "metadata": {},
   "outputs": [
    {
     "data": {
      "text/plain": [
       "'jack says woof'"
      ]
     },
     "execution_count": 87,
     "metadata": {},
     "output_type": "execute_result"
    }
   ],
   "source": [
    "jack.speak('woof')"
   ]
  },
  {
   "cell_type": "code",
   "execution_count": null,
   "id": "d84907fa",
   "metadata": {},
   "outputs": [],
   "source": []
  }
 ],
 "metadata": {
  "kernelspec": {
   "display_name": "Python 3 (ipykernel)",
   "language": "python",
   "name": "python3"
  },
  "language_info": {
   "codemirror_mode": {
    "name": "ipython",
    "version": 3
   },
   "file_extension": ".py",
   "mimetype": "text/x-python",
   "name": "python",
   "nbconvert_exporter": "python",
   "pygments_lexer": "ipython3",
   "version": "3.11.4"
  }
 },
 "nbformat": 4,
 "nbformat_minor": 5
}
