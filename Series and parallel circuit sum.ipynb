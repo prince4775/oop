{
 "cells": [
  {
   "cell_type": "code",
   "execution_count": 2,
   "id": "07b1d64a",
   "metadata": {},
   "outputs": [
    {
     "name": "stdout",
     "output_type": "stream",
     "text": [
      "Enter the number of resistances for obj2: 4\n",
      "Enter the resistance 1 in ohms: 2\n",
      "Enter the resistance 2 in ohms: 2\n",
      "Enter the resistance 3 in ohms: 2\n",
      "Enter the resistance 4 in ohms: 2\n",
      "Number of resistances: 4\n",
      "Resistance values: [2.0, 2.0, 2.0, 2.0]\n",
      "Net resistance: 8.0 ohms\n"
     ]
    }
   ],
   "source": [
    "class SeriesCircuit:\n",
    "    def __init__(self):\n",
    "        self.number_of_resistance = 0\n",
    "        self.net_resistance = 0\n",
    "        self.resistances = []\n",
    "\n",
    "    def __init__(self, num_resistance, val_resistance):\n",
    "        self.number_of_resistance = num_resistance\n",
    "        self.net_resistance = 0\n",
    "        self.resistances = val_resistance\n",
    "\n",
    "    def get_val(self):\n",
    "        self.number_of_resistance = int(input(\"Enter the number of resistances: \"))\n",
    "        self.resistances = [float(input(f\"Enter the resistance {i + 1} in ohms: \")) for i in range(self.number_of_resistance)]\n",
    "\n",
    "    def calc_net_res(self):\n",
    "        self.net_resistance = sum(self.resistances)\n",
    "\n",
    "    def display(self):\n",
    "        print(f\"Number of resistances: {self.number_of_resistance}\")\n",
    "        print(f\"Resistance values: {self.resistances}\")\n",
    "        print(f\"Net resistance: {self.net_resistance} ohms\")\n",
    "\n",
    "\n",
    "# Main function\n",
    "'''obj1 = SeriesCircuit()\n",
    "obj1.get_val()\n",
    "obj1.calc_net_res()\n",
    "obj1.display()'''\n",
    "\n",
    "num_res = int(input(\"Enter the number of resistances for obj2: \"))\n",
    "val_res = [float(input(f\"Enter the resistance {i + 1} in ohms: \")) for i in range(num_res)]\n",
    "obj2 = SeriesCircuit(num_res, val_res)\n",
    "obj2.calc_net_res()\n",
    "obj2.display()\n"
   ]
  },
  {
   "cell_type": "code",
   "execution_count": 5,
   "id": "5bde5936",
   "metadata": {},
   "outputs": [
    {
     "name": "stdout",
     "output_type": "stream",
     "text": [
      "Enter the number of resistances for obj2: 2\n",
      "Enter the resistance 1 in ohms: 2\n",
      "Enter the resistance 2 in ohms: 2\n",
      "Number of resistances: 2\n",
      "Resistance values: [2.0, 2.0]\n",
      "Net resistance: 1.0 ohms\n"
     ]
    }
   ],
   "source": [
    "class parallel:\n",
    "    def __init__(self):\n",
    "        self.number_of_resistance = 0\n",
    "        self.net_resistance = 0\n",
    "        self.resistances = []\n",
    "\n",
    "    def __init__(self, num_resistance, val_resistance):\n",
    "        self.number_of_resistance = num_resistance\n",
    "        self.net_resistance = 0\n",
    "        self.resistances = val_resistance\n",
    "\n",
    "    def get_val(self):\n",
    "        self.number_of_resistance = int(input(\"Enter the number of resistances: \"))\n",
    "        self.resistances = [float(input(f\"Enter the resistance {i + 1} in ohms: \")) for i in range(self.number_of_resistance)]\n",
    "\n",
    "    def calculate_net_resistance(self):\n",
    "        if self.number_of_resistance > 0:\n",
    "            reciprocal_sum = sum(1 / resistance for resistance in self.resistances)\n",
    "            self.net_resistance = 1 / reciprocal_sum\n",
    "        else:\n",
    "            self.net_resistance = 0\n",
    "\n",
    "    def display(self):\n",
    "        print(f\"Number of resistances: {self.number_of_resistance}\")\n",
    "        print(f\"Resistance values: {self.resistances}\")\n",
    "        print(f\"Net resistance: {self.net_resistance} ohms\")\n",
    "\n",
    "\n",
    "# Main function\n",
    "'''obj1 = parallelCircuit()\n",
    "obj1.get_val()\n",
    "obj1.calc_net_res()\n",
    "obj1.display()'''\n",
    "\n",
    "num_res = int(input(\"Enter the number of resistances for obj2: \"))\n",
    "val_res = [float(input(f\"Enter the resistance {i + 1} in ohms: \")) for i in range(num_res)]\n",
    "obj2 = parallel(num_res, val_res)\n",
    "obj2.calculate_net_resistance()\n",
    "obj2.display()\n"
   ]
  },
  {
   "cell_type": "code",
   "execution_count": null,
   "id": "1e10799c",
   "metadata": {},
   "outputs": [],
   "source": []
  }
 ],
 "metadata": {
  "kernelspec": {
   "display_name": "Python 3 (ipykernel)",
   "language": "python",
   "name": "python3"
  },
  "language_info": {
   "codemirror_mode": {
    "name": "ipython",
    "version": 3
   },
   "file_extension": ".py",
   "mimetype": "text/x-python",
   "name": "python",
   "nbconvert_exporter": "python",
   "pygments_lexer": "ipython3",
   "version": "3.11.4"
  }
 },
 "nbformat": 4,
 "nbformat_minor": 5
}
