{
 "cells": [
  {
   "cell_type": "markdown",
   "id": "a6cf5a53",
   "metadata": {},
   "source": [
    "## Lab Work tasks \n",
    "1. Consider the following classes. \n"
   ]
  },
  {
   "cell_type": "code",
   "execution_count": 1,
   "id": "b2c5b84a",
   "metadata": {},
   "outputs": [],
   "source": [
    "class Manager:\n",
    "    def final_review(self):\n",
    "        print(\"Final Review\")\n",
    "class Reviewer(Manager):\n",
    "    def review(self):\n",
    "        print(\"Reviewing...\")\n",
    "class Writer(Reviewer):\n",
    "    def writes(self):\n",
    "        print(\"Writes the code\")\n"
   ]
  },
  {
   "cell_type": "markdown",
   "id": "37564ea0",
   "metadata": {},
   "source": [
    "## a. Run the following code and observe. \n"
   ]
  },
  {
   "cell_type": "code",
   "execution_count": 2,
   "id": "2dfbc3bf",
   "metadata": {},
   "outputs": [
    {
     "name": "stdout",
     "output_type": "stream",
     "text": [
      "Final Review\n",
      "Reviewing...\n",
      "Writes the code\n"
     ]
    }
   ],
   "source": [
    "o = Writer()\n",
    "o.final_review()\n",
    "o.review()\n",
    "o.writes()"
   ]
  },
  {
   "cell_type": "markdown",
   "id": "5c562d77",
   "metadata": {},
   "source": [
    "## b. Run the following code and observe. \n"
   ]
  },
  {
   "cell_type": "code",
   "execution_count": 3,
   "id": "49a8df80",
   "metadata": {},
   "outputs": [
    {
     "name": "stdout",
     "output_type": "stream",
     "text": [
      "Reviewing...\n"
     ]
    }
   ],
   "source": [
    "or1 = Reviewer()\n",
    "or1.review()\n"
   ]
  },
  {
   "cell_type": "markdown",
   "id": "2a9d49be",
   "metadata": {},
   "source": [
    "## c. Run the following code and observe. \n",
    "\n"
   ]
  },
  {
   "cell_type": "code",
   "execution_count": 4,
   "id": "e8262a50",
   "metadata": {},
   "outputs": [
    {
     "name": "stdout",
     "output_type": "stream",
     "text": [
      "Final Review\n"
     ]
    }
   ],
   "source": [
    "or1.final_review()"
   ]
  },
  {
   "cell_type": "markdown",
   "id": "667f3aeb",
   "metadata": {},
   "source": [
    "## d. Run the following code and observe. \n"
   ]
  },
  {
   "cell_type": "code",
   "execution_count": 9,
   "id": "d44db277",
   "metadata": {},
   "outputs": [
    {
     "ename": "NameError",
     "evalue": "name 'or1' is not defined",
     "output_type": "error",
     "traceback": [
      "\u001b[1;31m---------------------------------------------------------------------------\u001b[0m",
      "\u001b[1;31mNameError\u001b[0m                                 Traceback (most recent call last)",
      "Cell \u001b[1;32mIn[9], line 1\u001b[0m\n\u001b[1;32m----> 1\u001b[0m or1\u001b[38;5;241m.\u001b[39mwrites()\n",
      "\u001b[1;31mNameError\u001b[0m: name 'or1' is not defined"
     ]
    }
   ],
   "source": [
    "or1.writes()"
   ]
  },
  {
   "cell_type": "markdown",
   "id": "ee7ea4da",
   "metadata": {},
   "source": [
    "## 1. Multiple Inheritance in Python\n"
   ]
  },
  {
   "cell_type": "code",
   "execution_count": 94,
   "id": "63c3ed91",
   "metadata": {},
   "outputs": [
    {
     "data": {
      "text/plain": [
       "'class RightPyramid(Square, Triangle, SurfaceAreaMixin):\\n    def __init__(self, base, slant_height):\\n        self.base = base\\n        self.slant_height = slant_height\\n        self.height = slant_height\\n        self.length = base\\n        self.width = base\\n        self.surfaces = [Square, Triangle, Triangle, Triangle, Triangle]'"
      ]
     },
     "execution_count": 94,
     "metadata": {},
     "output_type": "execute_result"
    }
   ],
   "source": [
    "class Rectangle:\n",
    "    def __init__(self, length, width, **kwargs):\n",
    "        self.length = length\n",
    "        self.width = width\n",
    "        super().__init__(**kwargs)\n",
    "    def area(self):\n",
    "        return self.length * self.width\n",
    "    def perimeter(self):\n",
    "        return 2 * self.length + 2 * self.width\n",
    "    def __str__(self):\n",
    "        return f\" lenght of the rectangle is {self.length} and the width is {self.width}\"\n",
    "    \n",
    "class Square(Rectangle):\n",
    "    def __init__(self, length, **kwargs):\n",
    "        super().__init__(length=length, width=length, **kwargs)\n",
    "    def __str__(self):\n",
    "        return f\" The length and the width of the square is {self.length,self.length}\"\n",
    "    def __repr__(self):\n",
    "         return f\" The length and the width of the square is {self.length,self.length}\"\n",
    "    \n",
    "    \n",
    "    \n",
    "class Triangle:\n",
    "    def __init__(self, base, height, **kwargs):\n",
    "        self.base = base\n",
    "        self.height = height\n",
    "        super().__init__(**kwargs)\n",
    "    def tri_area(self):\n",
    "        return 0.5 * self.base * self.height\n",
    "    def __str__(self):\n",
    "        return f\" The length and the width of the square is {self.length,self.length}\"\n",
    "    def __repr__(self):\n",
    "        return f\" The length and the width of the square is {self.length,self.length}\"\n",
    "    \n",
    "    \n",
    "    \n",
    "    \n",
    "class RightPyramid(Square, Triangle):\n",
    "    def __init__(self, base, slant_height, **kwargs):\n",
    "        self.base = base\n",
    "        self.slant_height = slant_height\n",
    "        kwargs[\"height\"] = slant_height\n",
    "        kwargs[\"length\"] = base\n",
    "        super().__init__(base=base, **kwargs)\n",
    "    def area(self):\n",
    "        base_area = super().area()\n",
    "        perimeter = super().perimeter()\n",
    "        return 0.5 * perimeter * self.slant_height + base_area\n",
    "    def area_2(self):\n",
    "        base_area = super().area()\n",
    "        triangle_area = super().tri_area()\n",
    "        return triangle_area * 4 + base_area\n",
    "class SurfaceAreaMixin:\n",
    "    def surface_area(self):\n",
    "        surface_area = 0\n",
    "        for surface in self.surfaces:\n",
    "            surface_area += surface.area(self)\n",
    "        return surface_area\n",
    "class Cube(Square, SurfaceAreaMixin):\n",
    "    def __init__(self, length):\n",
    "        super().__init__(length)\n",
    "        self.surfaces = [Square, Square, Square, Square, Square, Square]\n",
    "    def area_1(self):\n",
    "        return Rectangle.area(self)*6\n",
    "'''class RightPyramid(Square, Triangle, SurfaceAreaMixin):\n",
    "    def __init__(self, base, slant_height):\n",
    "        self.base = base\n",
    "        self.slant_height = slant_height\n",
    "        self.height = slant_height\n",
    "        self.length = base\n",
    "        self.width = base\n",
    "        self.surfaces = [Square, Triangle, Triangle, Triangle, Triangle]'''\n"
   ]
  },
  {
   "cell_type": "markdown",
   "id": "c193c250",
   "metadata": {},
   "source": [
    "## a. Run the following code and track the code flow. \n"
   ]
  },
  {
   "cell_type": "code",
   "execution_count": 96,
   "id": "d0db2b4a",
   "metadata": {},
   "outputs": [
    {
     "data": {
      "text/plain": [
       "54"
      ]
     },
     "execution_count": 96,
     "metadata": {},
     "output_type": "execute_result"
    }
   ],
   "source": [
    "cube = Cube(3)\n",
    "#cube.surface_area()\n",
    "cube.area_1()"
   ]
  },
  {
   "cell_type": "markdown",
   "id": "6f5862f0",
   "metadata": {},
   "source": [
    "## Object of rectangle"
   ]
  },
  {
   "cell_type": "code",
   "execution_count": 72,
   "id": "41946464",
   "metadata": {},
   "outputs": [],
   "source": [
    "react = Rectangle(2,3)"
   ]
  },
  {
   "cell_type": "code",
   "execution_count": 73,
   "id": "e5f8fa64",
   "metadata": {},
   "outputs": [
    {
     "data": {
      "text/plain": [
       "6"
      ]
     },
     "execution_count": 73,
     "metadata": {},
     "output_type": "execute_result"
    }
   ],
   "source": [
    "react.area()"
   ]
  },
  {
   "cell_type": "code",
   "execution_count": 74,
   "id": "60bde565",
   "metadata": {},
   "outputs": [
    {
     "data": {
      "text/plain": [
       "10"
      ]
     },
     "execution_count": 74,
     "metadata": {},
     "output_type": "execute_result"
    }
   ],
   "source": [
    "react.perimeter()"
   ]
  },
  {
   "cell_type": "code",
   "execution_count": 75,
   "id": "62d9db97",
   "metadata": {},
   "outputs": [
    {
     "name": "stdout",
     "output_type": "stream",
     "text": [
      " lenght of the rectangle is 2 and the width is 3\n"
     ]
    }
   ],
   "source": [
    "print(react)"
   ]
  },
  {
   "cell_type": "markdown",
   "id": "8b637e03",
   "metadata": {},
   "source": [
    "## object of square class"
   ]
  },
  {
   "cell_type": "code",
   "execution_count": 76,
   "id": "742795ba",
   "metadata": {},
   "outputs": [],
   "source": [
    "squ = Square(3)"
   ]
  },
  {
   "cell_type": "code",
   "execution_count": 77,
   "id": "e15c9ccb",
   "metadata": {},
   "outputs": [
    {
     "data": {
      "text/plain": [
       "9"
      ]
     },
     "execution_count": 77,
     "metadata": {},
     "output_type": "execute_result"
    }
   ],
   "source": [
    "squ.area()"
   ]
  },
  {
   "cell_type": "code",
   "execution_count": 78,
   "id": "c6c1bbc7",
   "metadata": {},
   "outputs": [
    {
     "data": {
      "text/plain": [
       "12"
      ]
     },
     "execution_count": 78,
     "metadata": {},
     "output_type": "execute_result"
    }
   ],
   "source": [
    "squ.perimeter()"
   ]
  },
  {
   "cell_type": "code",
   "execution_count": 79,
   "id": "04ed72de",
   "metadata": {},
   "outputs": [
    {
     "name": "stdout",
     "output_type": "stream",
     "text": [
      " The length and the width of the square is (3, 3)\n"
     ]
    }
   ],
   "source": [
    "print(squ)"
   ]
  },
  {
   "cell_type": "markdown",
   "id": "64fb9982",
   "metadata": {},
   "source": [
    "## object of triangle"
   ]
  },
  {
   "cell_type": "code",
   "execution_count": 80,
   "id": "f9c4ed95",
   "metadata": {},
   "outputs": [],
   "source": [
    "tri = Triangle(2,5)"
   ]
  },
  {
   "cell_type": "code",
   "execution_count": 81,
   "id": "9839aea3",
   "metadata": {},
   "outputs": [
    {
     "data": {
      "text/plain": [
       "5.0"
      ]
     },
     "execution_count": 81,
     "metadata": {},
     "output_type": "execute_result"
    }
   ],
   "source": [
    "tri.tri_area()"
   ]
  },
  {
   "cell_type": "markdown",
   "id": "f6c147a4",
   "metadata": {},
   "source": [
    "## object of rightpyramid"
   ]
  },
  {
   "cell_type": "code",
   "execution_count": 86,
   "id": "5fc4cb10",
   "metadata": {},
   "outputs": [],
   "source": [
    "pyr = RightPyramid(10,13)"
   ]
  },
  {
   "cell_type": "code",
   "execution_count": 87,
   "id": "56aa9b87",
   "metadata": {},
   "outputs": [
    {
     "data": {
      "text/plain": [
       "360.0"
      ]
     },
     "execution_count": 87,
     "metadata": {},
     "output_type": "execute_result"
    }
   ],
   "source": [
    "pyr.area()"
   ]
  },
  {
   "cell_type": "code",
   "execution_count": 88,
   "id": "6c8ec8cc",
   "metadata": {},
   "outputs": [
    {
     "data": {
      "text/plain": [
       "360.0"
      ]
     },
     "execution_count": 88,
     "metadata": {},
     "output_type": "execute_result"
    }
   ],
   "source": [
    "pyr.area_2()"
   ]
  },
  {
   "cell_type": "markdown",
   "id": "5b47beb2",
   "metadata": {},
   "source": [
    "\n",
    "## Note: The Method Resolution Order (MRO) determines where Python looks for a method when there is a hierarchy of classes. Using super() accesses the next class in the MRO:"
   ]
  },
  {
   "cell_type": "code",
   "execution_count": 99,
   "id": "97956327",
   "metadata": {},
   "outputs": [],
   "source": [
    "class parallelogram(Rectangle):\n",
    "    def __init__(self,lenght, width):\n",
    "        super().__init__(length, width)\n",
    "            "
   ]
  },
  {
   "cell_type": "code",
   "execution_count": 100,
   "id": "1b90ce82",
   "metadata": {},
   "outputs": [
    {
     "ename": "NameError",
     "evalue": "name 'length' is not defined",
     "output_type": "error",
     "traceback": [
      "\u001b[1;31m---------------------------------------------------------------------------\u001b[0m",
      "\u001b[1;31mNameError\u001b[0m                                 Traceback (most recent call last)",
      "Cell \u001b[1;32mIn[100], line 1\u001b[0m\n\u001b[1;32m----> 1\u001b[0m p \u001b[38;5;241m=\u001b[39m parallelogram(\u001b[38;5;241m2\u001b[39m,\u001b[38;5;241m3\u001b[39m)\n",
      "Cell \u001b[1;32mIn[99], line 3\u001b[0m, in \u001b[0;36mparallelogram.__init__\u001b[1;34m(self, lenght, width)\u001b[0m\n\u001b[0;32m      2\u001b[0m \u001b[38;5;28;01mdef\u001b[39;00m \u001b[38;5;21m__init__\u001b[39m(\u001b[38;5;28mself\u001b[39m,lenght, width):\n\u001b[1;32m----> 3\u001b[0m     \u001b[38;5;28msuper\u001b[39m()\u001b[38;5;241m.\u001b[39m\u001b[38;5;21m__init__\u001b[39m(length, width)\n",
      "\u001b[1;31mNameError\u001b[0m: name 'length' is not defined"
     ]
    }
   ],
   "source": [
    "p = parallelogram(2,3)"
   ]
  },
  {
   "cell_type": "code",
   "execution_count": null,
   "id": "825374ea",
   "metadata": {},
   "outputs": [],
   "source": []
  }
 ],
 "metadata": {
  "kernelspec": {
   "display_name": "Python 3 (ipykernel)",
   "language": "python",
   "name": "python3"
  },
  "language_info": {
   "codemirror_mode": {
    "name": "ipython",
    "version": 3
   },
   "file_extension": ".py",
   "mimetype": "text/x-python",
   "name": "python",
   "nbconvert_exporter": "python",
   "pygments_lexer": "ipython3",
   "version": "3.11.4"
  }
 },
 "nbformat": 4,
 "nbformat_minor": 5
}
