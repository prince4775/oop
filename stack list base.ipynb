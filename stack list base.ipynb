{
 "cells": [
  {
   "cell_type": "code",
   "execution_count": 6,
   "id": "7870aa8e",
   "metadata": {},
   "outputs": [],
   "source": [
    "class StackList:\n",
    "    def __init__(self):\n",
    "        self.items=[]\n",
    "    \n",
    "    def is_empty(self):\n",
    "        return self.items is None\n",
    "    \n",
    "    def push(self,item):\n",
    "        self.items.append(item)\n",
    "        \n",
    "    def pop(self):\n",
    "        if not self.is_empty():\n",
    "            self.items.pop()\n",
    "        else:\n",
    "            print(\"stack is emppty\")\n",
    "            \n",
    "    def size(self):\n",
    "        return len(self.items)"
   ]
  },
  {
   "cell_type": "code",
   "execution_count": 7,
   "id": "37b2ac8a",
   "metadata": {},
   "outputs": [],
   "source": [
    "stack = StackList()"
   ]
  },
  {
   "cell_type": "code",
   "execution_count": 8,
   "id": "6558c41b",
   "metadata": {},
   "outputs": [],
   "source": [
    "stack.push(1)"
   ]
  },
  {
   "cell_type": "code",
   "execution_count": 9,
   "id": "6ac40c7d",
   "metadata": {},
   "outputs": [],
   "source": [
    "stack.push(2)"
   ]
  },
  {
   "cell_type": "code",
   "execution_count": 10,
   "id": "a8e6abaa",
   "metadata": {},
   "outputs": [],
   "source": [
    "stack.push(3)"
   ]
  },
  {
   "cell_type": "code",
   "execution_count": 11,
   "id": "048d249e",
   "metadata": {},
   "outputs": [],
   "source": [
    "stack.push(4)"
   ]
  },
  {
   "cell_type": "code",
   "execution_count": 13,
   "id": "4add4ade",
   "metadata": {},
   "outputs": [],
   "source": [
    "stack.pop()"
   ]
  },
  {
   "cell_type": "code",
   "execution_count": null,
   "id": "448a56b2",
   "metadata": {},
   "outputs": [],
   "source": []
  }
 ],
 "metadata": {
  "kernelspec": {
   "display_name": "Python 3 (ipykernel)",
   "language": "python",
   "name": "python3"
  },
  "language_info": {
   "codemirror_mode": {
    "name": "ipython",
    "version": 3
   },
   "file_extension": ".py",
   "mimetype": "text/x-python",
   "name": "python",
   "nbconvert_exporter": "python",
   "pygments_lexer": "ipython3",
   "version": "3.11.4"
  }
 },
 "nbformat": 4,
 "nbformat_minor": 5
}
