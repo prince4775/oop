{
 "cells": [
  {
   "cell_type": "code",
   "execution_count": 9,
   "id": "169fe977",
   "metadata": {},
   "outputs": [],
   "source": [
    "class stk:\n",
    "    def __init__(self,data,address=None):\n",
    "        self.data=data\n",
    "        self.address=\n",
    "    def pop(self):\n",
    "        return \n"
   ]
  },
  {
   "cell_type": "code",
   "execution_count": 10,
   "id": "1bd64252",
   "metadata": {},
   "outputs": [],
   "source": [
    "stk1 = stk(1)"
   ]
  },
  {
   "cell_type": "code",
   "execution_count": 11,
   "id": "bc7f8111",
   "metadata": {},
   "outputs": [],
   "source": [
    "stk2 = stk(2,stk1)"
   ]
  },
  {
   "cell_type": "code",
   "execution_count": 12,
   "id": "b41aa80e",
   "metadata": {},
   "outputs": [],
   "source": [
    "stk3 = stk(3,stk2)"
   ]
  },
  {
   "cell_type": "code",
   "execution_count": 13,
   "id": "385f321c",
   "metadata": {},
   "outputs": [
    {
     "name": "stdout",
     "output_type": "stream",
     "text": [
      "<__main__.stk object at 0x0000025540BA8150>\n"
     ]
    }
   ],
   "source": [
    "print(stk2.address)"
   ]
  },
  {
   "cell_type": "code",
   "execution_count": null,
   "id": "1f06f744",
   "metadata": {},
   "outputs": [],
   "source": []
  }
 ],
 "metadata": {
  "kernelspec": {
   "display_name": "Python 3 (ipykernel)",
   "language": "python",
   "name": "python3"
  },
  "language_info": {
   "codemirror_mode": {
    "name": "ipython",
    "version": 3
   },
   "file_extension": ".py",
   "mimetype": "text/x-python",
   "name": "python",
   "nbconvert_exporter": "python",
   "pygments_lexer": "ipython3",
   "version": "3.11.4"
  }
 },
 "nbformat": 4,
 "nbformat_minor": 5
}
