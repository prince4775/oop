{
 "cells": [
  {
   "cell_type": "markdown",
   "id": "4c321d18",
   "metadata": {},
   "source": [
    "#   1: STACK"
   ]
  },
  {
   "cell_type": "code",
   "execution_count": 3,
   "id": "acaf02f4",
   "metadata": {},
   "outputs": [
    {
     "name": "stdout",
     "output_type": "stream",
     "text": [
      "Size of stack: 5\n",
      "Size of stack: 4\n"
     ]
    }
   ],
   "source": [
    "class Node:\n",
    "    def __init__(self,data):\n",
    "        self.data=data\n",
    "        self.Next= None\n",
    "        \n",
    "class Stack:\n",
    "    def __init__(self):\n",
    "        self.top=None\n",
    "        \n",
    "    def is_empty(self):\n",
    "        return self.top is None\n",
    "    \n",
    "    def push(self,item):\n",
    "        new_node=Node(item)\n",
    "        new_node.next=self.top\n",
    "        self.top=new_node\n",
    "        \n",
    "    def pop(self):\n",
    "        if not self.is_empty():\n",
    "            popped_item=self.top.data\n",
    "            self.top=self.top.next\n",
    "            return popped_item\n",
    "        else:\n",
    "            return None\n",
    "    def size(self):\n",
    "        current=self.top\n",
    "        count=0\n",
    "        while current:\n",
    "            count +=1\n",
    "            current=current.next\n",
    "        return count\n",
    "my_stack=Stack()\n",
    "my_stack.push(6)\n",
    "my_stack.push(5)\n",
    "my_stack.push(7)\n",
    "my_stack.push(4)\n",
    "my_stack.push(0)\n",
    "print(\"Size of stack:\",my_stack.size())\n",
    "my_stack.pop()\n",
    "print(\"Size of stack:\",my_stack.size())"
   ]
  },
  {
   "cell_type": "markdown",
   "id": "d36e724a",
   "metadata": {},
   "source": [
    "# 2 :QUEUE:"
   ]
  },
  {
   "cell_type": "code",
   "execution_count": 4,
   "id": "686e8d48",
   "metadata": {},
   "outputs": [
    {
     "name": "stdout",
     "output_type": "stream",
     "text": [
      "The size of the Queue is: 2\n",
      "The size of the Queue is: 1\n",
      "65\n"
     ]
    }
   ],
   "source": [
    "class Node:\n",
    "    def __init__(self,data):\n",
    "        self.data=data\n",
    "        self.next=None\n",
    "        \n",
    "class Queue:\n",
    "    def __init__(self):\n",
    "        self.front=None\n",
    "        self.rear=None\n",
    "        \n",
    "    def ifempty(self):\n",
    "        return self.front is None\n",
    "    \n",
    "    \n",
    "    def push(self,item):\n",
    "        new_node=Node(item)\n",
    "        if self.ifempty():\n",
    "            self.front=self.rear=new_node\n",
    "        else:\n",
    "            self.rear.next=new_node\n",
    "    def pop(self):\n",
    "        if not self.ifempty():\n",
    "            pop_item=self.front.data\n",
    "            self.front=self.front.next\n",
    "            if self.front is None:\n",
    "                self.rear=None\n",
    "            return pop_item\n",
    "        else:\n",
    "            return None\n",
    "    def size(self):\n",
    "        current=self.front\n",
    "        count=0\n",
    "        while current:\n",
    "            count+=1\n",
    "            current=current.next\n",
    "        return count\n",
    "\n",
    "Numbers=Queue()\n",
    "Numbers.push(56)\n",
    "Numbers.push(57)\n",
    "Numbers.push(60)\n",
    "Numbers.push(65)\n",
    "print(\"The size of the Queue is:\",Numbers.size())\n",
    "Numbers.pop()\n",
    "print(\"The size of the Queue is:\",Numbers.size())\n",
    "print(Numbers.pop())"
   ]
  },
  {
   "cell_type": "markdown",
   "id": "7e761c70",
   "metadata": {},
   "source": [
    " # 3: Bubble sorting"
   ]
  },
  {
   "cell_type": "code",
   "execution_count": 5,
   "id": "6b51fd7a",
   "metadata": {},
   "outputs": [
    {
     "name": "stdout",
     "output_type": "stream",
     "text": [
      "sorted [1, 3, 4, 5, 5, 6, 6, 8]\n"
     ]
    }
   ],
   "source": [
    "def bubble(arr1):\n",
    "    n=len(arr1)\n",
    "    for i in range (n):\n",
    "        swapped=False\n",
    "        for j in range(0,n-i-1):\n",
    "            if arr1[j]>arr1[j+1]:\n",
    "                arr1[j],arr1[j+1]=arr1[j+1],arr1[j]\n",
    "                swapped=True\n",
    "                if not swapped:\n",
    "                    break\n",
    "arr1=[6,5,4,5,3,8,1,6]   \n",
    "bubble(arr1)    \n",
    "print(\"sorted\",arr1)"
   ]
  },
  {
   "cell_type": "markdown",
   "id": "f5802e5a",
   "metadata": {},
   "source": [
    "# 4: Quick sorting"
   ]
  },
  {
   "cell_type": "code",
   "execution_count": 6,
   "id": "0f03df3e",
   "metadata": {},
   "outputs": [
    {
     "name": "stdout",
     "output_type": "stream",
     "text": [
      "[11, 22, 55, 77]\n"
     ]
    }
   ],
   "source": [
    "def quick_sort(arr,low,high):\n",
    "    if low<high:\n",
    "        partition_pos = partition(arr,low,high)\n",
    "        quick_sort(arr,low,partition_pos - 1)\n",
    "        quick_sort(arr,partition_pos + 1,high)\n",
    "\n",
    "        \n",
    "def partition (arr, left, right):\n",
    "    i = left\n",
    "    j = right - 1\n",
    "    pivot = arr[right]\n",
    "    \n",
    "    while i < j:\n",
    "        while i < right and arr[i] < pivot:\n",
    "            i += 1\n",
    "        while j < left and arr[i] >= pivot:\n",
    "            j -= 1\n",
    "            \n",
    "        if i < j:\n",
    "            arr[i], arr[j] = arr[j], arr[i]\n",
    "    if arr[i] > pivot:\n",
    "        arr[i], arr[right] = arr[right], arr[i]\n",
    "    return i\n",
    "\n",
    "arr  = [22,11,77,55]\n",
    "quick_sort(arr, 0, len(arr) - 1)\n",
    "print(arr)"
   ]
  },
  {
   "cell_type": "markdown",
   "id": "b03ab2c6",
   "metadata": {},
   "source": [
    "# 5: Merge sorting"
   ]
  },
  {
   "cell_type": "code",
   "execution_count": 7,
   "id": "57e23866",
   "metadata": {},
   "outputs": [],
   "source": [
    "def merge_sort(arr):\n",
    "    if len(arr) <= 1:\n",
    "        return arr\n",
    "\n",
    "   \n",
    "    mid = len(arr) // 2\n",
    "    print(mid)\n",
    "    left_half = arr[:mid]\n",
    "    right_half = arr[mid:]\n",
    "\n",
    "    \n",
    "    left_half = merge_sort(left_half)\n",
    "    right_half = merge_sort(right_half)\n",
    "\n",
    "    \n",
    "    sorted_arr = []\n",
    "    left_index, right_index = 0, 0\n",
    "\n",
    "    while left_index < len(left_half) and right_index < len(right_half):\n",
    "        if left_half[left_index] < right_half[right_index]:\n",
    "            sorted_arr.append(left_half[left_index])\n",
    "            left_index += 1\n",
    "        else:\n",
    "            sorted_arr.append(right_half[right_index])\n",
    "            right_index += 1\n",
    "\n",
    "    sorted_arr.extend(left_half[left_index:])\n",
    "    sorted_arr.extend(right_half[right_index:])\n",
    "\n",
    "    return sorted_arr"
   ]
  },
  {
   "cell_type": "code",
   "execution_count": 8,
   "id": "4e525495",
   "metadata": {},
   "outputs": [
    {
     "name": "stdout",
     "output_type": "stream",
     "text": [
      "3\n",
      "1\n",
      "1\n",
      "2\n",
      "1\n",
      "1\n",
      "[3, 9, 10, 27, 38, 43, 82]\n"
     ]
    }
   ],
   "source": [
    "# Example usage:\n",
    "my_list = [38, 27, 43, 3, 9, 82, 10]\n",
    "sorted_list = merge_sort(my_list)\n",
    "print(sorted_list)"
   ]
  },
  {
   "cell_type": "markdown",
   "id": "c6f4364c",
   "metadata": {},
   "source": [
    "# Selection sorter"
   ]
  },
  {
   "cell_type": "code",
   "execution_count": 9,
   "id": "4f9e773f",
   "metadata": {},
   "outputs": [
    {
     "name": "stdout",
     "output_type": "stream",
     "text": [
      "[11, 12, 22, 25, 64]\n"
     ]
    }
   ],
   "source": [
    "def selection_sort(arr):\n",
    "    for i in range(len(arr)):\n",
    "        min_index = i\n",
    "\n",
    "        \n",
    "        for j in range(i + 1, len(arr)):\n",
    "            if arr[j] < arr[min_index]:\n",
    "                min_index = j\n",
    "\n",
    "        \n",
    "        arr[i], arr[min_index] = arr[min_index], arr[i]\n",
    "\n",
    "\n",
    "my_list = [64, 25, 12, 22, 11]\n",
    "selection_sort(my_list)\n",
    "print(my_list)"
   ]
  },
  {
   "cell_type": "markdown",
   "id": "bd08bbfa",
   "metadata": {},
   "source": [
    "# 6: TREE"
   ]
  },
  {
   "cell_type": "code",
   "execution_count": 10,
   "id": "2e487233",
   "metadata": {},
   "outputs": [
    {
     "name": "stdout",
     "output_type": "stream",
     "text": [
      "99\n",
      "100\n",
      "101\n"
     ]
    }
   ],
   "source": [
    "class Node:\n",
    "    def __init__(self,data):\n",
    "        self.left = None\n",
    "        self.right = None\n",
    "        self.data = data\n",
    "        \n",
    "    def show(self):\n",
    "        if self.left:\n",
    "            self.left.show()\n",
    "        print(self.data)\n",
    "        if self.right:\n",
    "            self.right.show()\n",
    "                \n",
    "root = Node(100)\n",
    "r_left = Node(99)\n",
    "r_right = Node(101)\n",
    "root.left = r_left\n",
    "root.right = r_right\n",
    "root.show()"
   ]
  },
  {
   "cell_type": "markdown",
   "id": "26d4eb91",
   "metadata": {},
   "source": [
    "# 6: TREE"
   ]
  },
  {
   "cell_type": "code",
   "execution_count": 11,
   "id": "a37788b2",
   "metadata": {},
   "outputs": [
    {
     "name": "stdout",
     "output_type": "stream",
     "text": [
      "10\n",
      "20\n",
      "30\n",
      "40\n",
      "50\n",
      "80\n",
      "90\n"
     ]
    }
   ],
   "source": [
    "class Node:\n",
    "    def __init__(self,data):\n",
    "        self.data=data\n",
    "        self.right=None\n",
    "        self.left=None\n",
    "        \n",
    "def insert(root,key):\n",
    "    if root is None:\n",
    "        return Node(key)\n",
    "    \n",
    "    else:\n",
    "        if root.data == key:\n",
    "            return\n",
    "        elif root.data > key:\n",
    "            root.left = insert(root.left,key)\n",
    "        else:\n",
    "            root.right = insert(root.right,key)\n",
    "    return root\n",
    "\n",
    "def inorder(root):\n",
    "    if root is None:\n",
    "        return\n",
    "    inorder(root.left)\n",
    "    print(root.data)\n",
    "    inorder(root.right)\n",
    "    \n",
    "root = Node(50)\n",
    "insert(root,10)\n",
    "insert(root,20)\n",
    "insert(root,40)\n",
    "insert(root,30)\n",
    "insert(root,80)\n",
    "insert(root,90)\n",
    "inorder(root)"
   ]
  },
  {
   "cell_type": "markdown",
   "id": "f94ea89b",
   "metadata": {},
   "source": [
    "# 7 Linkedlist"
   ]
  },
  {
   "cell_type": "code",
   "execution_count": 12,
   "id": "a2b7c6a3",
   "metadata": {},
   "outputs": [
    {
     "ename": "NameError",
     "evalue": "name 'Linked_list' is not defined",
     "output_type": "error",
     "traceback": [
      "\u001b[1;31m---------------------------------------------------------------------------\u001b[0m",
      "\u001b[1;31mNameError\u001b[0m                                 Traceback (most recent call last)",
      "Cell \u001b[1;32mIn[12], line 42\u001b[0m\n\u001b[0;32m     40\u001b[0m             new_noderef\u001b[38;5;241m=\u001b[39mn\u001b[38;5;241m.\u001b[39mref\n\u001b[0;32m     41\u001b[0m             n\u001b[38;5;241m.\u001b[39mref\u001b[38;5;241m=\u001b[39mnew_node\n\u001b[1;32m---> 42\u001b[0m LL1\u001b[38;5;241m=\u001b[39mLinked_list()\n\u001b[0;32m     43\u001b[0m LL1\u001b[38;5;241m.\u001b[39madd_begin(\u001b[38;5;241m78\u001b[39m)\n\u001b[0;32m     44\u001b[0m LL1\u001b[38;5;241m.\u001b[39madd_end(\u001b[38;5;241m878\u001b[39m)\n",
      "\u001b[1;31mNameError\u001b[0m: name 'Linked_list' is not defined"
     ]
    }
   ],
   "source": [
    "class Node:\n",
    "    def __init__(self,data):\n",
    "        self.data=data\n",
    "        self.ref=None\n",
    "    \n",
    "    def Linked_list(self):\n",
    "        self.head=None\n",
    "    def printLL(self):\n",
    "        if self.head is None:\n",
    "            print(\"Link list is empty\")\n",
    "        else:\n",
    "             n=self.head\n",
    "        while n is not None: \n",
    "            n=n.ref\n",
    "            n.ref=self.head\n",
    "    def addbegin(self,data):\n",
    "        new_node=Node(data)\n",
    "        new_node.ref=self.head\n",
    "        self.head=new_node\n",
    "        \n",
    "    def add_end(self,data):\n",
    "        new_node=node(data)\n",
    "        if self.head is none:\n",
    "            self.head=new_node\n",
    "        else:\n",
    "            n=self.head\n",
    "            while n.ref is not name:\n",
    "                n=n.ref\n",
    "            n.ref=new_node\n",
    "    def after_node(self,data,x):\n",
    "        n=self.head\n",
    "        while n is not none:\n",
    "            if x==n.date:\n",
    "                break\n",
    "            n=n.ref\n",
    "        if n is none:\n",
    "            print(\"node is not present in LL\")\n",
    "        else:\n",
    "            new_node = node(data)\n",
    "            new_noderef=n.ref\n",
    "            n.ref=new_node\n",
    "LL1=Linked_list()\n",
    "LL1.add_begin(78)\n",
    "LL1.add_end(878)\n",
    "node.Linked_list()\n",
    "node.addbegin(5)\n",
    "print(printLL)"
   ]
  },
  {
   "cell_type": "markdown",
   "id": "1d02e88c",
   "metadata": {},
   "source": [
    "# 7: Linkedlist"
   ]
  },
  {
   "cell_type": "code",
   "execution_count": 13,
   "id": "d7c54a12",
   "metadata": {},
   "outputs": [
    {
     "name": "stdout",
     "output_type": "stream",
     "text": [
      "Data: Data_1, Location: Location_1, Address: Address_1\n",
      "Data: Data_2, Location: Location_2, Address: Address_2\n",
      "Data: Data_3, Location: Location_3, Address: Address_3\n",
      "Data: Data_4, Location: Location_4, Address: Address_4\n",
      "Data: Data_5, Location: Location_5, Address: Address_5\n"
     ]
    }
   ],
   "source": [
    "class Node:\n",
    "    def __init__(self, data, location, address):\n",
    "        self.data = data\n",
    "        self.location = location\n",
    "        self.address = address\n",
    "        self.next_node = None\n",
    "\n",
    "# Create a linked list using a loop\n",
    "def create_linked_list():\n",
    "    head = None\n",
    "    current = None\n",
    "\n",
    "    for i in range(1, 6):  # Creating nodes for a simple linked list with 5 nodes\n",
    "        data = f\"Data_{i}\"\n",
    "        location = f\"Location_{i}\"\n",
    "        address = f\"Address_{i}\"\n",
    "\n",
    "        new_node = Node(data, location, address)\n",
    "\n",
    "        if head is None:\n",
    "            head = new_node\n",
    "            current = head\n",
    "        else:\n",
    "            current.next_node = new_node\n",
    "            current = new_node\n",
    "\n",
    "    return head\n",
    "\n",
    "# Display the linked list\n",
    "def display_linked_list(head):\n",
    "    current = head\n",
    "    while current:\n",
    "        print(f\"Data: {current.data}, Location: {current.location}, Address: {current.address}\")\n",
    "        current = current.next_node\n",
    "\n",
    "if __name__ == \"__main__\":\n",
    "    linked_list = create_linked_list()\n",
    "    display_linked_list(linked_list)"
   ]
  },
  {
   "cell_type": "markdown",
   "id": "235f0584",
   "metadata": {},
   "source": [
    "# merging two number"
   ]
  },
  {
   "cell_type": "code",
   "execution_count": 14,
   "id": "3958e56b",
   "metadata": {},
   "outputs": [],
   "source": [
    "a = [1,2,3,4,5]\n",
    "b = [6,7,8,9,10]\n",
    "\n",
    "merged = list(zip(a,b))"
   ]
  },
  {
   "cell_type": "code",
   "execution_count": 15,
   "id": "1ca517e3",
   "metadata": {},
   "outputs": [
    {
     "name": "stdout",
     "output_type": "stream",
     "text": [
      "[(1, 6), (2, 7), (3, 8), (4, 9), (5, 10)]\n"
     ]
    }
   ],
   "source": [
    "print(merged)"
   ]
  },
  {
   "cell_type": "code",
   "execution_count": 16,
   "id": "d688b90d",
   "metadata": {},
   "outputs": [
    {
     "data": {
      "text/plain": [
       "{'id': '13', 'name': 'fahad', 'location': 'jehangira'}"
      ]
     },
     "execution_count": 16,
     "metadata": {},
     "output_type": "execute_result"
    }
   ],
   "source": [
    "field  = ['id',\"name\",\"location\"]\n",
    "values = [\"13\",\"fahad\",\"jehangira\"]\n",
    "dict(zip(field,values))"
   ]
  },
  {
   "cell_type": "code",
   "execution_count": 18,
   "id": "d3adf5b4",
   "metadata": {},
   "outputs": [
    {
     "name": "stdout",
     "output_type": "stream",
     "text": [
      "[1, 4, 7, 6]\n"
     ]
    }
   ],
   "source": [
    "a = [ ]\n",
    "a.append(1)\n",
    "a.append(4)\n",
    "a.append(7)\n",
    "a.append(6)\n",
    "print(a)"
   ]
  },
  {
   "cell_type": "code",
   "execution_count": null,
   "id": "506c1484",
   "metadata": {},
   "outputs": [],
   "source": []
  }
 ],
 "metadata": {
  "kernelspec": {
   "display_name": "Python 3 (ipykernel)",
   "language": "python",
   "name": "python3"
  },
  "language_info": {
   "codemirror_mode": {
    "name": "ipython",
    "version": 3
   },
   "file_extension": ".py",
   "mimetype": "text/x-python",
   "name": "python",
   "nbconvert_exporter": "python",
   "pygments_lexer": "ipython3",
   "version": "3.11.4"
  }
 },
 "nbformat": 4,
 "nbformat_minor": 5
}
