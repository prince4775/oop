{
 "cells": [
  {
   "cell_type": "code",
   "execution_count": null,
   "id": "c1e101ec",
   "metadata": {},
   "outputs": [],
   "source": [
    "class Node:\n",
    "    def __init__(self,data):\n",
    "        self.data=data\n",
    "        self.ref=None\n",
    "\n",
    "class Stack:\n",
    "    def __init__(self):\n",
    "        self.top =None\n",
    "        \n",
    "    def push(self,item):\n",
    "        new_node=Node(item)\n",
    "        new_node.ref=self.top\n",
    "        self.top=new_node\n",
    "    \n",
    "    def pop(self):\n",
    "        if self.top is None:\n",
    "            print(\"Stack is empty\")\n",
    "            return\n",
    "        else:\n",
    "            popped_item=self.top.data\n",
    "            self.top=self.top.ref\n",
    "            return popped_item\n",
    "    \n",
    "    def peek(self):\n",
    "        if self.top is None:\n",
    "            print(\"Stack is empty\")\n",
    "        else:\n",
    "            n=self.top.data\n",
    "            print(n)\n",
    "        \n",
    "    def size(self):\n",
    "        count=0\n",
    "        current=self.top\n",
    "        while current:\n",
    "            count+=1\n",
    "            current=current.ref\n",
    "            return count"
   ]
  }
 ],
 "metadata": {
  "kernelspec": {
   "display_name": "Python 3 (ipykernel)",
   "language": "python",
   "name": "python3"
  },
  "language_info": {
   "codemirror_mode": {
    "name": "ipython",
    "version": 3
   },
   "file_extension": ".py",
   "mimetype": "text/x-python",
   "name": "python",
   "nbconvert_exporter": "python",
   "pygments_lexer": "ipython3",
   "version": "3.11.4"
  }
 },
 "nbformat": 4,
 "nbformat_minor": 5
}
