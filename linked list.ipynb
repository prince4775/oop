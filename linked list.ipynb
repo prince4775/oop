{
 "cells": [
  {
   "cell_type": "code",
   "execution_count": null,
   "id": "6cbab30e",
   "metadata": {},
   "outputs": [],
   "source": [
    "class node:\n",
    "    def __init__(self,data):\n",
    "        self.data=data\n",
    "        self.add=None"
   ]
  },
  {
   "cell_type": "code",
   "execution_count": null,
   "id": "f05170ed",
   "metadata": {},
   "outputs": [],
   "source": [
    "class lst:\n",
    "    def __init__(self):\n",
    "        self.head = None\n",
    "    def print_lst(self):\n",
    "            n=self.head\n",
    "            while n is not None:\n",
    "                print(n.data, end=' ')\n",
    "                n=n.add\n",
    "    def add_beg(self,data):\n",
    "        a = 0\n",
    "        new_node =node(data)\n",
    "        new_node.add = self.head\n",
    "        self.head = new_node\n",
    "        a=a+1\n",
    "    def selection_sort(self,arr):\n",
    "        n = len(arr)\n",
    "        for i in range(n):\n",
    "            min_index = i\n",
    "            for j in range(i + 1, n):\n",
    "                if arr[j] < arr[min_index]:\n",
    "                    min_index = j\n",
    "                    arr[i], arr[min_index] = arr[min_index], arr[i]\n",
    "\n"
   ]
  },
  {
   "cell_type": "code",
   "execution_count": null,
   "id": "d1f6f3cc",
   "metadata": {},
   "outputs": [],
   "source": [
    "lst_1 = lst()"
   ]
  },
  {
   "cell_type": "code",
   "execution_count": null,
   "id": "cdb898d9",
   "metadata": {},
   "outputs": [],
   "source": []
  },
  {
   "cell_type": "code",
   "execution_count": null,
   "id": "1e4ba50c",
   "metadata": {},
   "outputs": [],
   "source": [
    "lst_1.add_beg(2)\n",
    "lst_1.add_beg(23)\n"
   ]
  },
  {
   "cell_type": "code",
   "execution_count": null,
   "id": "bbec3b8c",
   "metadata": {},
   "outputs": [],
   "source": [
    "lst_1.print_lst()"
   ]
  },
  {
   "cell_type": "code",
   "execution_count": null,
   "id": "70d46c9c",
   "metadata": {},
   "outputs": [],
   "source": [
    "c = [lst_1.print_lst]\n",
    "print(lst_1.selection_sort(c))"
   ]
  },
  {
   "cell_type": "code",
   "execution_count": null,
   "id": "a16dd5c5",
   "metadata": {},
   "outputs": [],
   "source": [
    "class Node:\n",
    "    def __init__(self, data):\n",
    "        self.data = data\n",
    "        self.next = None\n",
    "class LinkedList:\n",
    "    def __init__(self):\n",
    "        self.head = None\n",
    "\n",
    "    def append(self, data):\n",
    "        new_node = Node(data)\n",
    "        if not self.head:\n",
    "            self.head = new_node\n",
    "        else:\n",
    "            head = self.head\n",
    "            while head.next:\n",
    "                head = head.next\n",
    "            head.next = new_node\n",
    "    def display(self):\n",
    "        head = self.head\n",
    "        while head:\n",
    "            print(head.data, end=' ')\n",
    "            head = head.next\n",
    "            \n",
    "       \n",
    "\n",
    "    def selection_sort(self):\n",
    "        head = self.head\n",
    "        while head:\n",
    "            min_node = head\n",
    "            runner = head.next\n",
    "            while runner:\n",
    "                if runner.data < min_node.data:\n",
    "                    min_node = runner\n",
    "                runner = runner.next\n",
    "\n",
    "            # Swap data of the minimum node with the current node\n",
    "                head.data, min_node.data = min_node.data, head.data\n",
    "                head = head.next\n",
    "\n",
    "\n",
    "linked_list = LinkedList()\n",
    "# Append elements to the linked list\n",
    "linked_list.append(5)\n",
    "linked_list.append(2)\n",
    "linked_list.append(9)\n",
    "linked_list.append(1)\n",
    "linked_list.append(6)\n",
    "\n",
    "\n",
    "print(\"Original linked list:\")\n",
    "linked_list.display()\n",
    "\n",
    "   \n",
    "   \n"
   ]
  },
  {
   "cell_type": "code",
   "execution_count": null,
   "id": "b5bd31f1",
   "metadata": {},
   "outputs": [],
   "source": [
    "linked_list.selection_sort()"
   ]
  },
  {
   "cell_type": "code",
   "execution_count": null,
   "id": "27388b16",
   "metadata": {},
   "outputs": [],
   "source": []
  },
  {
   "cell_type": "code",
   "execution_count": null,
   "id": "596a2dbe",
   "metadata": {},
   "outputs": [],
   "source": []
  }
 ],
 "metadata": {
  "kernelspec": {
   "display_name": "Python 3 (ipykernel)",
   "language": "python",
   "name": "python3"
  },
  "language_info": {
   "codemirror_mode": {
    "name": "ipython",
    "version": 3
   },
   "file_extension": ".py",
   "mimetype": "text/x-python",
   "name": "python",
   "nbconvert_exporter": "python",
   "pygments_lexer": "ipython3",
   "version": "3.11.4"
  }
 },
 "nbformat": 4,
 "nbformat_minor": 5
}
