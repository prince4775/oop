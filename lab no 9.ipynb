{
 "cells": [
  {
   "cell_type": "markdown",
   "id": "c9db0406",
   "metadata": {},
   "source": [
    "# The built-in str class allows you to create strings in Python. Strings are  sequences of characters that you’ll use in many situations, especially when working with textual data. From time to time, the standard func\u0002tionalities of Python’s str may be insufficient to fulfill your needs. So, you may want to create custom string-like classes that solve your specific  problem.\n",
    "# You’ll typically find at least two reasons for creating custom string-like classes:\n",
    "# • Extending the regular string by adding new functionality\n",
    "# • Modifying the standard string’s functionality\n",
    "# • You need a string-like class that implements a new method to \n",
    "# count the number of words in the underlying string.\n",
    "# • In this example, your custom string will use the whitespace charac\u0002ter as its default word separator. However, it should also allow you to provide a specific separator character. To code a class that ful\u0002fills these needs, you can do something like this:"
   ]
  },
  {
   "cell_type": "code",
   "execution_count": 1,
   "id": "8d94ea94",
   "metadata": {},
   "outputs": [],
   "source": [
    "class WordCountString(str):\n",
    "    def words(self, separator=None):\n",
    "        return len(self.split(separator))"
   ]
  },
  {
   "cell_type": "markdown",
   "id": "e1fbf55c",
   "metadata": {},
   "source": [
    "## . Run the following code. "
   ]
  },
  {
   "cell_type": "code",
   "execution_count": 2,
   "id": "6fd60d41",
   "metadata": {},
   "outputs": [
    {
     "data": {
      "text/plain": [
       "32"
      ]
     },
     "execution_count": 2,
     "metadata": {},
     "output_type": "execute_result"
    }
   ],
   "source": [
    "sample_text = WordCountString(\n",
    "\"\"\"Knowledge of Python can be an added advantage in \n",
    "terms of skills, as it enables \n",
    "electrical engineers to leverage its versatility \n",
    "for a wide range of tasks the \n",
    "scope of specialized software.\"\"\")\n",
    "sample_text.words()"
   ]
  },
  {
   "cell_type": "markdown",
   "id": "55f71056",
   "metadata": {},
   "source": [
    "## 2. To learn how to modify the standard behavior of str in a custom string\u0002like class, say that you need a string class that always prints its letters in uppercase. You can do this by overriding the .__str__() special method, \n",
    "# which takes care of how string objects are printed. \n",
    "# Here’s an UpperPrintString class that behaves as you need:\n"
   ]
  },
  {
   "cell_type": "code",
   "execution_count": 3,
   "id": "aaf43b1b",
   "metadata": {},
   "outputs": [],
   "source": [
    "class UpperPrintString(str):\n",
    "    def __str__(self):\n",
    "        return self.upper()\n",
    "    def __repr__(self):\n",
    "        return self.upper()\n",
    "    \n",
    "    \n"
   ]
  },
  {
   "cell_type": "markdown",
   "id": "97a3740a",
   "metadata": {},
   "source": [
    "## a. Run the following code. "
   ]
  },
  {
   "cell_type": "code",
   "execution_count": 4,
   "id": "73271230",
   "metadata": {},
   "outputs": [
    {
     "name": "stdout",
     "output_type": "stream",
     "text": [
      "HELLO, PYTHONISTA!\n"
     ]
    },
    {
     "data": {
      "text/plain": [
       "HELLO, PYTHONISTA!"
      ]
     },
     "execution_count": 4,
     "metadata": {},
     "output_type": "execute_result"
    }
   ],
   "source": [
    "sample_string = UpperPrintString(\"Hello, Pythonista!\")\n",
    "print(sample_string)\n",
    "sample_string"
   ]
  },
  {
   "cell_type": "code",
   "execution_count": 5,
   "id": "3f0cc7b8",
   "metadata": {},
   "outputs": [],
   "source": [
    "class intfloatlist(list):\n",
    "    def append(self,value):\n",
    "        if not isinstance(value, (int, float)):\n",
    "            raise Exception(' this particular list can only accept integers and floats.')\n",
    "            \n",
    "        else:\n",
    "            super().append(value)\n",
    "            "
   ]
  },
  {
   "cell_type": "code",
   "execution_count": 6,
   "id": "b9feb229",
   "metadata": {},
   "outputs": [],
   "source": [
    "int_float_list = intfloatlist()"
   ]
  },
  {
   "cell_type": "code",
   "execution_count": 7,
   "id": "1e0b9fb5",
   "metadata": {},
   "outputs": [],
   "source": [
    "int_float_list.append(1)"
   ]
  },
  {
   "cell_type": "code",
   "execution_count": 8,
   "id": "13550abc",
   "metadata": {},
   "outputs": [
    {
     "ename": "Exception",
     "evalue": " this particular list can only accept integers and floats.",
     "output_type": "error",
     "traceback": [
      "\u001b[1;31m---------------------------------------------------------------------------\u001b[0m",
      "\u001b[1;31mException\u001b[0m                                 Traceback (most recent call last)",
      "Cell \u001b[1;32mIn[8], line 1\u001b[0m\n\u001b[1;32m----> 1\u001b[0m int_float_list\u001b[38;5;241m.\u001b[39mappend(\u001b[38;5;124m\"\u001b[39m\u001b[38;5;124maa\u001b[39m\u001b[38;5;124m\"\u001b[39m)\n",
      "Cell \u001b[1;32mIn[5], line 4\u001b[0m, in \u001b[0;36mintfloatlist.append\u001b[1;34m(self, value)\u001b[0m\n\u001b[0;32m      2\u001b[0m \u001b[38;5;28;01mdef\u001b[39;00m \u001b[38;5;21mappend\u001b[39m(\u001b[38;5;28mself\u001b[39m,value):\n\u001b[0;32m      3\u001b[0m     \u001b[38;5;28;01mif\u001b[39;00m \u001b[38;5;129;01mnot\u001b[39;00m \u001b[38;5;28misinstance\u001b[39m(value, (\u001b[38;5;28mint\u001b[39m, \u001b[38;5;28mfloat\u001b[39m)):\n\u001b[1;32m----> 4\u001b[0m         \u001b[38;5;28;01mraise\u001b[39;00m \u001b[38;5;167;01mException\u001b[39;00m(\u001b[38;5;124m'\u001b[39m\u001b[38;5;124m this particular list can only accept integers and floats.\u001b[39m\u001b[38;5;124m'\u001b[39m)\n\u001b[0;32m      6\u001b[0m     \u001b[38;5;28;01melse\u001b[39;00m:\n\u001b[0;32m      7\u001b[0m         \u001b[38;5;28msuper\u001b[39m()\u001b[38;5;241m.\u001b[39mappend(value)\n",
      "\u001b[1;31mException\u001b[0m:  this particular list can only accept integers and floats."
     ]
    }
   ],
   "source": [
    "int_float_list.append(\"aa\")"
   ]
  },
  {
   "cell_type": "code",
   "execution_count": 14,
   "id": "35a96f17",
   "metadata": {},
   "outputs": [
    {
     "ename": "Exception",
     "evalue": " this particular list can only accept integers and floats.",
     "output_type": "error",
     "traceback": [
      "\u001b[1;31m---------------------------------------------------------------------------\u001b[0m",
      "\u001b[1;31mException\u001b[0m                                 Traceback (most recent call last)",
      "Cell \u001b[1;32mIn[14], line 1\u001b[0m\n\u001b[1;32m----> 1\u001b[0m int_float_list\u001b[38;5;241m.\u001b[39mappend([\u001b[38;5;241m1\u001b[39m,\u001b[38;5;241m2\u001b[39m,\u001b[38;5;241m3\u001b[39m])\n",
      "Cell \u001b[1;32mIn[5], line 4\u001b[0m, in \u001b[0;36mintfloatlist.append\u001b[1;34m(self, value)\u001b[0m\n\u001b[0;32m      2\u001b[0m \u001b[38;5;28;01mdef\u001b[39;00m \u001b[38;5;21mappend\u001b[39m(\u001b[38;5;28mself\u001b[39m,value):\n\u001b[0;32m      3\u001b[0m     \u001b[38;5;28;01mif\u001b[39;00m \u001b[38;5;129;01mnot\u001b[39;00m \u001b[38;5;28misinstance\u001b[39m(value, (\u001b[38;5;28mint\u001b[39m, \u001b[38;5;28mfloat\u001b[39m)):\n\u001b[1;32m----> 4\u001b[0m         \u001b[38;5;28;01mraise\u001b[39;00m \u001b[38;5;167;01mException\u001b[39;00m(\u001b[38;5;124m'\u001b[39m\u001b[38;5;124m this particular list can only accept integers and floats.\u001b[39m\u001b[38;5;124m'\u001b[39m)\n\u001b[0;32m      6\u001b[0m     \u001b[38;5;28;01melse\u001b[39;00m:\n\u001b[0;32m      7\u001b[0m         \u001b[38;5;28msuper\u001b[39m()\u001b[38;5;241m.\u001b[39mappend(value)\n",
      "\u001b[1;31mException\u001b[0m:  this particular list can only accept integers and floats."
     ]
    }
   ],
   "source": [
    "int_float_list.append([1,2,3])"
   ]
  },
  {
   "cell_type": "code",
   "execution_count": 15,
   "id": "c65f420d",
   "metadata": {},
   "outputs": [
    {
     "ename": "Exception",
     "evalue": " this particular list can only accept integers and floats.",
     "output_type": "error",
     "traceback": [
      "\u001b[1;31m---------------------------------------------------------------------------\u001b[0m",
      "\u001b[1;31mException\u001b[0m                                 Traceback (most recent call last)",
      "Cell \u001b[1;32mIn[15], line 1\u001b[0m\n\u001b[1;32m----> 1\u001b[0m int_float_list\u001b[38;5;241m.\u001b[39mappend({\u001b[38;5;241m1\u001b[39m:\u001b[38;5;124m'\u001b[39m\u001b[38;5;124mayub\u001b[39m\u001b[38;5;124m'\u001b[39m})\n",
      "Cell \u001b[1;32mIn[5], line 4\u001b[0m, in \u001b[0;36mintfloatlist.append\u001b[1;34m(self, value)\u001b[0m\n\u001b[0;32m      2\u001b[0m \u001b[38;5;28;01mdef\u001b[39;00m \u001b[38;5;21mappend\u001b[39m(\u001b[38;5;28mself\u001b[39m,value):\n\u001b[0;32m      3\u001b[0m     \u001b[38;5;28;01mif\u001b[39;00m \u001b[38;5;129;01mnot\u001b[39;00m \u001b[38;5;28misinstance\u001b[39m(value, (\u001b[38;5;28mint\u001b[39m, \u001b[38;5;28mfloat\u001b[39m)):\n\u001b[1;32m----> 4\u001b[0m         \u001b[38;5;28;01mraise\u001b[39;00m \u001b[38;5;167;01mException\u001b[39;00m(\u001b[38;5;124m'\u001b[39m\u001b[38;5;124m this particular list can only accept integers and floats.\u001b[39m\u001b[38;5;124m'\u001b[39m)\n\u001b[0;32m      6\u001b[0m     \u001b[38;5;28;01melse\u001b[39;00m:\n\u001b[0;32m      7\u001b[0m         \u001b[38;5;28msuper\u001b[39m()\u001b[38;5;241m.\u001b[39mappend(value)\n",
      "\u001b[1;31mException\u001b[0m:  this particular list can only accept integers and floats."
     ]
    }
   ],
   "source": [
    "int_float_list.append({1:'ayub'})"
   ]
  },
  {
   "cell_type": "code",
   "execution_count": 9,
   "id": "76fb26cd",
   "metadata": {},
   "outputs": [],
   "source": [
    "int_float_list.append(1.3)\n",
    "int_float_list.append(100)"
   ]
  },
  {
   "cell_type": "code",
   "execution_count": 10,
   "id": "f5f368f5",
   "metadata": {},
   "outputs": [
    {
     "name": "stdout",
     "output_type": "stream",
     "text": [
      "[1, 1.3, 100]\n"
     ]
    }
   ],
   "source": [
    "print(int_float_list)"
   ]
  },
  {
   "cell_type": "code",
   "execution_count": 11,
   "id": "a055b553",
   "metadata": {},
   "outputs": [],
   "source": [
    "class count(str):\n",
    "    def words(self):\n",
    "        return len(\"\".join(self.split()))"
   ]
  },
  {
   "cell_type": "code",
   "execution_count": 12,
   "id": "399eb980",
   "metadata": {},
   "outputs": [],
   "source": [
    "count1 = count('ayub khan')"
   ]
  },
  {
   "cell_type": "code",
   "execution_count": 13,
   "id": "a93a3e52",
   "metadata": {},
   "outputs": [
    {
     "data": {
      "text/plain": [
       "8"
      ]
     },
     "execution_count": 13,
     "metadata": {},
     "output_type": "execute_result"
    }
   ],
   "source": [
    "count1.words()"
   ]
  },
  {
   "cell_type": "code",
   "execution_count": null,
   "id": "4a4f78ef",
   "metadata": {},
   "outputs": [],
   "source": []
  },
  {
   "cell_type": "code",
   "execution_count": null,
   "id": "7766c8f6",
   "metadata": {},
   "outputs": [],
   "source": []
  },
  {
   "cell_type": "code",
   "execution_count": null,
   "id": "ef8e76b3",
   "metadata": {},
   "outputs": [],
   "source": []
  }
 ],
 "metadata": {
  "kernelspec": {
   "display_name": "Python 3 (ipykernel)",
   "language": "python",
   "name": "python3"
  },
  "language_info": {
   "codemirror_mode": {
    "name": "ipython",
    "version": 3
   },
   "file_extension": ".py",
   "mimetype": "text/x-python",
   "name": "python",
   "nbconvert_exporter": "python",
   "pygments_lexer": "ipython3",
   "version": "3.11.4"
  }
 },
 "nbformat": 4,
 "nbformat_minor": 5
}
