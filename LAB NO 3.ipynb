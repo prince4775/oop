{
 "cells": [
  {
   "cell_type": "markdown",
   "id": "657d9068",
   "metadata": {},
   "source": [
    "# Lab report Work\n",
    "1. Observe the output of the following if:\n"
   ]
  },
  {
   "cell_type": "code",
   "execution_count": 1,
   "id": "1ed82f84",
   "metadata": {},
   "outputs": [],
   "source": [
    "a = 5\n",
    "b = 10"
   ]
  },
  {
   "cell_type": "code",
   "execution_count": 4,
   "id": "4eb31699",
   "metadata": {},
   "outputs": [
    {
     "data": {
      "text/plain": [
       "'Five plus ten is 15 and not 30'"
      ]
     },
     "execution_count": 4,
     "metadata": {},
     "output_type": "execute_result"
    }
   ],
   "source": [
    "f'Five plus ten is {a + b} and not {2 * (a + b)}'"
   ]
  },
  {
   "cell_type": "markdown",
   "id": "e7be51e9",
   "metadata": {},
   "source": [
    "# Make a list of odd number using list comprehension"
   ]
  },
  {
   "cell_type": "code",
   "execution_count": 5,
   "id": "78175a46",
   "metadata": {},
   "outputs": [
    {
     "name": "stdout",
     "output_type": "stream",
     "text": [
      "[2, 4, 6, 4, 2, 18]\n"
     ]
    }
   ],
   "source": [
    "numbers = [2,4,6,7,5,4,2,1,18]\n",
    "even_numbers = [x for x in numbers if x % 2 == 0]\n",
    "print(even_numbers)\n"
   ]
  },
  {
   "cell_type": "markdown",
   "id": "3aaeb198",
   "metadata": {},
   "source": [
    "# Lab practice \n",
    " Sting formatting:\n",
    "1. Observe the output of the following if"
   ]
  },
  {
   "cell_type": "code",
   "execution_count": 6,
   "id": "7bcb0983",
   "metadata": {},
   "outputs": [],
   "source": [
    "errno = 50159747054 \n",
    "name = 'Bob'"
   ]
  },
  {
   "cell_type": "code",
   "execution_count": 7,
   "id": "f9784bcb",
   "metadata": {},
   "outputs": [
    {
     "data": {
      "text/plain": [
       "'Hello, Bob'"
      ]
     },
     "execution_count": 7,
     "metadata": {},
     "output_type": "execute_result"
    }
   ],
   "source": [
    "'Hello, %s'% name"
   ]
  },
  {
   "cell_type": "code",
   "execution_count": 8,
   "id": "419da526",
   "metadata": {},
   "outputs": [
    {
     "data": {
      "text/plain": [
       "'Hey Bob, there is a 0x badc0ffee error!'"
      ]
     },
     "execution_count": 8,
     "metadata": {},
     "output_type": "execute_result"
    }
   ],
   "source": [
    "'Hey %s, there is a 0x %x error!' % (name, errno)"
   ]
  },
  {
   "cell_type": "code",
   "execution_count": 9,
   "id": "c4990c27",
   "metadata": {},
   "outputs": [
    {
     "data": {
      "text/plain": [
       "'Hey Bob, there is a 0xbadc0ffee error!'"
      ]
     },
     "execution_count": 9,
     "metadata": {},
     "output_type": "execute_result"
    }
   ],
   "source": [
    "'Hey %(name)s, there is a 0x%(errno)x error!' % { \"name\": name, \"errno\": errno }"
   ]
  },
  {
   "cell_type": "markdown",
   "id": "20a164f8",
   "metadata": {},
   "source": [
    "# 2. Observe the output of: (Mostly used)"
   ]
  },
  {
   "cell_type": "code",
   "execution_count": 10,
   "id": "da8b87db",
   "metadata": {},
   "outputs": [
    {
     "data": {
      "text/plain": [
       "'Hello, Bob'"
      ]
     },
     "execution_count": 10,
     "metadata": {},
     "output_type": "execute_result"
    }
   ],
   "source": [
    "'Hello, {}'.format(name)"
   ]
  },
  {
   "cell_type": "markdown",
   "id": "3c6742e4",
   "metadata": {},
   "source": [
    "# 3. Observe the output of: (Recommended for python 3.6+)"
   ]
  },
  {
   "cell_type": "code",
   "execution_count": 11,
   "id": "b79c0a57",
   "metadata": {},
   "outputs": [
    {
     "data": {
      "text/plain": [
       "'Hello, Bob!'"
      ]
     },
     "execution_count": 11,
     "metadata": {},
     "output_type": "execute_result"
    }
   ],
   "source": [
    "f'Hello, {name}!'\n"
   ]
  },
  {
   "cell_type": "markdown",
   "id": "d1e3432a",
   "metadata": {},
   "source": [
    "# 4. Observe the output of:\n"
   ]
  },
  {
   "cell_type": "markdown",
   "id": "1660ac7b",
   "metadata": {},
   "source": [
    "# a.  "
   ]
  },
  {
   "cell_type": "code",
   "execution_count": 12,
   "id": "79930f0f",
   "metadata": {},
   "outputs": [
    {
     "data": {
      "text/plain": [
       "'Hey, Bob!'"
      ]
     },
     "execution_count": 12,
     "metadata": {},
     "output_type": "execute_result"
    }
   ],
   "source": [
    "from string import Template\n",
    "t = Template('Hey, $name!') \n",
    "t.substitute(name=name)\n"
   ]
  },
  {
   "cell_type": "markdown",
   "id": "c97f12ea",
   "metadata": {},
   "source": [
    "# b."
   ]
  },
  {
   "cell_type": "code",
   "execution_count": 15,
   "id": "53f4079e",
   "metadata": {},
   "outputs": [],
   "source": [
    "templ_string = 'Hey $name, there is a $error error!'\n",
    "\n"
   ]
  },
  {
   "cell_type": "code",
   "execution_count": 14,
   "id": "8a450e93",
   "metadata": {},
   "outputs": [
    {
     "data": {
      "text/plain": [
       "'Hey Bob, there is a 0xbadc0ffee error!'"
      ]
     },
     "execution_count": 14,
     "metadata": {},
     "output_type": "execute_result"
    }
   ],
   "source": [
    "Template(templ_string).substitute(name=name, error=hex(errno))"
   ]
  },
  {
   "cell_type": "markdown",
   "id": "d550ac81",
   "metadata": {},
   "source": [
    "# For loop:\n",
    "## 1. Consider the following code"
   ]
  },
  {
   "cell_type": "markdown",
   "id": "97b675c2",
   "metadata": {},
   "source": [
    "# a. What will be the output?\n",
    "## The output is that it will print the list items using for loop by length of list"
   ]
  },
  {
   "cell_type": "code",
   "execution_count": 1,
   "id": "6a84b2a0",
   "metadata": {},
   "outputs": [
    {
     "name": "stdout",
     "output_type": "stream",
     "text": [
      "a\n",
      "b\n",
      "c\n"
     ]
    }
   ],
   "source": [
    "my_items = ['a', 'b', 'c']\n",
    "for i in range(len(my_items)):\n",
    "    print(my_items[i])"
   ]
  },
  {
   "cell_type": "markdown",
   "id": "e1d58abb",
   "metadata": {},
   "source": [
    "# for loop will directly iterate over the list "
   ]
  },
  {
   "cell_type": "code",
   "execution_count": 3,
   "id": "64cbc2f6",
   "metadata": {},
   "outputs": [
    {
     "name": "stdout",
     "output_type": "stream",
     "text": [
      "a\n",
      "b\n",
      "c\n"
     ]
    }
   ],
   "source": [
    "for item in my_items:\n",
    "    print(item)\n"
   ]
  },
  {
   "cell_type": "markdown",
   "id": "c76e4ce0",
   "metadata": {},
   "source": [
    "# it will assign index no to the list items or giving numbers to list items"
   ]
  },
  {
   "cell_type": "code",
   "execution_count": 5,
   "id": "37f8c61c",
   "metadata": {},
   "outputs": [
    {
     "name": "stdout",
     "output_type": "stream",
     "text": [
      "0: a\n",
      "1: b\n",
      "2: c\n"
     ]
    }
   ],
   "source": [
    "for i, item in enumerate(my_items):\n",
    "    print(f'{i}: {item}')\n"
   ]
  },
  {
   "cell_type": "markdown",
   "id": "97257b16",
   "metadata": {},
   "source": [
    "#  Iterate over the keys and values of a dictionary at the same time. Consider the following code"
   ]
  },
  {
   "cell_type": "markdown",
   "id": "f8b2eaca",
   "metadata": {},
   "source": [
    "### by using for loop we will iterate the value and key both in the dictionary by using 2 variables in for loop \n",
    "### 1st will assign the key and 2nd will assign the value "
   ]
  },
  {
   "cell_type": "code",
   "execution_count": 7,
   "id": "7ff64fba",
   "metadata": {},
   "outputs": [
    {
     "name": "stdout",
     "output_type": "stream",
     "text": [
      "Bob -> bob@example.com\n",
      "Alice -> alice@example.com\n"
     ]
    }
   ],
   "source": [
    "emails = {'Bob': 'bob@example.com','Alice': 'alice@example.com',}\n",
    "for name, email in emails.items():\n",
    "    print(f'{name} -> {email}')"
   ]
  },
  {
   "cell_type": "markdown",
   "id": "ba7ae19a",
   "metadata": {},
   "source": [
    "# What if you must control the step size for the index? The range() function comes to our rescue again—it accepts optional parameters to control the start value for the \n",
    "# loop (a), the stop value (n), and the step size (s).\n"
   ]
  },
  {
   "cell_type": "markdown",
   "id": "649b958a",
   "metadata": {},
   "source": [
    "### In the below code the 2 is start number 15 is the range means from 1 to 15 but 15 is not in the range\n",
    "### and 2 is the step size means it will takes the 2 steps (skipping the 2 numbers )"
   ]
  },
  {
   "cell_type": "code",
   "execution_count": 10,
   "id": "fc7a9c6f",
   "metadata": {},
   "outputs": [
    {
     "name": "stdout",
     "output_type": "stream",
     "text": [
      "1\n",
      "3\n",
      "5\n",
      "7\n",
      "9\n",
      "11\n",
      "13\n"
     ]
    }
   ],
   "source": [
    "for i in range(1, 15, 2):\n",
    "    print(i)"
   ]
  },
  {
   "cell_type": "markdown",
   "id": "9170d0fc",
   "metadata": {},
   "source": [
    "# List comprehensions:\n",
    "### a. Consider the following code and print the square. "
   ]
  },
  {
   "cell_type": "code",
   "execution_count": 12,
   "id": "010995f8",
   "metadata": {},
   "outputs": [
    {
     "name": "stdout",
     "output_type": "stream",
     "text": [
      "[0, 1, 4, 9, 16, 25, 36, 49, 64, 81]\n"
     ]
    }
   ],
   "source": [
    "squares = []\n",
    "for x in range(10):\n",
    "    squares.append(x * x)\n",
    "print(squares)\n"
   ]
  },
  {
   "cell_type": "markdown",
   "id": "da0004c7",
   "metadata": {},
   "source": [
    "## b. Replace the above code with the following. Print the square. This sample one-line code is called list comprehension"
   ]
  },
  {
   "cell_type": "markdown",
   "id": "74634193",
   "metadata": {},
   "source": [
    "### It means that the code will become short and will take less space as compare to the above code which lenghty\n",
    "### the list comprehension is short way \n",
    "### List comprehension means pass the argument in the list which you will construct"
   ]
  },
  {
   "cell_type": "code",
   "execution_count": 16,
   "id": "ed07cade",
   "metadata": {},
   "outputs": [
    {
     "name": "stdout",
     "output_type": "stream",
     "text": [
      "[0, 1, 4, 9, 16, 25, 36, 49, 64, 81]\n"
     ]
    }
   ],
   "source": [
    "squares_1 = [x * x for x in range(10)]\n",
    "print(squares_1)"
   ]
  },
  {
   "cell_type": "markdown",
   "id": "e21dfbcb",
   "metadata": {},
   "source": [
    "# c. Change x*x by any function of x and observe the resulting list.\n"
   ]
  },
  {
   "cell_type": "code",
   "execution_count": 18,
   "id": "918cfb3c",
   "metadata": {},
   "outputs": [
    {
     "name": "stdout",
     "output_type": "stream",
     "text": [
      "[0.0, 0.5, 1.0, 1.5, 2.0, 2.5, 3.0, 3.5, 4.0, 4.5, 5.0, 5.5, 6.0, 6.5, 7.0, 7.5, 8.0, 8.5, 9.0, 9.5]\n"
     ]
    }
   ],
   "source": [
    "squares_2 = [x/2 for x in range(20)]\n",
    "print(squares_2)"
   ]
  },
  {
   "cell_type": "markdown",
   "id": "be7bd29d",
   "metadata": {},
   "source": [
    "# d. List comprehensions can filter values based on some arbitrary condition that decides whether or not the resulting value becomes a part of the output list"
   ]
  },
  {
   "cell_type": "code",
   "execution_count": 21,
   "id": "261b0717",
   "metadata": {},
   "outputs": [
    {
     "data": {
      "text/plain": [
       "[0, 4, 16, 36, 64]"
      ]
     },
     "execution_count": 21,
     "metadata": {},
     "output_type": "execute_result"
    }
   ],
   "source": [
    "even_squares = [x * x for x in range(10) if x % 2 == 0]\n",
    "even_squares"
   ]
  },
  {
   "cell_type": "markdown",
   "id": "705f250f",
   "metadata": {},
   "source": [
    "# 1. The generalized syntax:\n",
    " values = [expression for item in collection if condition]\n"
   ]
  },
  {
   "cell_type": "markdown",
   "id": "5251015a",
   "metadata": {},
   "source": [
    "# e. This new list comprehension can be transformed into an equivalent for-loop:"
   ]
  },
  {
   "cell_type": "code",
   "execution_count": 28,
   "id": "2221b011",
   "metadata": {},
   "outputs": [
    {
     "name": "stdout",
     "output_type": "stream",
     "text": [
      "[0, 4, 16, 36, 64]\n"
     ]
    }
   ],
   "source": [
    "even_squares_1 = []\n",
    "for x in range(10):\n",
    "    if x % 2 == 0:\n",
    "        even_squares_1.append(x * x)\n",
    "print(even_squares_1)"
   ]
  },
  {
   "cell_type": "markdown",
   "id": "8ce94b17",
   "metadata": {},
   "source": [
    "# Explanation of the above list comprehension\n",
    "### The list comprehension is the concise way of writing the code which is already explained in the above cells"
   ]
  },
  {
   "cell_type": "markdown",
   "id": "7b3078a9",
   "metadata": {},
   "source": [
    "# Dictionary comprehension:"
   ]
  },
  {
   "cell_type": "code",
   "execution_count": 1,
   "id": "b705aaa1",
   "metadata": {},
   "outputs": [
    {
     "data": {
      "text/plain": [
       "{0: 0, 1: 1, 2: 4, 3: 9, 4: 16}"
      ]
     },
     "execution_count": 1,
     "metadata": {},
     "output_type": "execute_result"
    }
   ],
   "source": [
    "{ x: x * x for x in range(5) }"
   ]
  },
  {
   "cell_type": "markdown",
   "id": "b072f46f",
   "metadata": {},
   "source": [
    "# List Slicing Tricks\n",
    "### a. [start:stop:step]\n",
    "### Consider the following list"
   ]
  },
  {
   "cell_type": "code",
   "execution_count": 1,
   "id": "1029a529",
   "metadata": {},
   "outputs": [],
   "source": [
    "lst = [1, 2, 3, 4, 5]"
   ]
  },
  {
   "cell_type": "code",
   "execution_count": 2,
   "id": "5316bc6e",
   "metadata": {},
   "outputs": [
    {
     "data": {
      "text/plain": [
       "[2, 3]"
      ]
     },
     "execution_count": 2,
     "metadata": {},
     "output_type": "execute_result"
    }
   ],
   "source": [
    "lst[1:3:1]"
   ]
  },
  {
   "cell_type": "markdown",
   "id": "45e3164b",
   "metadata": {},
   "source": [
    "# b. Observe the output of the following."
   ]
  },
  {
   "cell_type": "code",
   "execution_count": 3,
   "id": "647d70a6",
   "metadata": {},
   "outputs": [
    {
     "data": {
      "text/plain": [
       "[1, 3, 5]"
      ]
     },
     "execution_count": 3,
     "metadata": {},
     "output_type": "execute_result"
    }
   ],
   "source": [
    "lst[::2]\n"
   ]
  },
  {
   "cell_type": "markdown",
   "id": "66dd30ab",
   "metadata": {},
   "source": [
    "# c. Observe the output of the following"
   ]
  },
  {
   "cell_type": "code",
   "execution_count": 4,
   "id": "b3d9e5e3",
   "metadata": {},
   "outputs": [
    {
     "data": {
      "text/plain": [
       "[5, 3, 1]"
      ]
     },
     "execution_count": 4,
     "metadata": {},
     "output_type": "execute_result"
    }
   ],
   "source": [
    "lst[::-2]"
   ]
  },
  {
   "cell_type": "code",
   "execution_count": 8,
   "id": "9611682e",
   "metadata": {},
   "outputs": [
    {
     "data": {
      "text/plain": [
       "[5, 4, 3, 2, 1]"
      ]
     },
     "execution_count": 8,
     "metadata": {},
     "output_type": "execute_result"
    }
   ],
   "source": [
    "lst[: : -1]"
   ]
  },
  {
   "cell_type": "code",
   "execution_count": null,
   "id": "de5cf0d6",
   "metadata": {},
   "outputs": [],
   "source": []
  }
 ],
 "metadata": {
  "kernelspec": {
   "display_name": "Python 3 (ipykernel)",
   "language": "python",
   "name": "python3"
  },
  "language_info": {
   "codemirror_mode": {
    "name": "ipython",
    "version": 3
   },
   "file_extension": ".py",
   "mimetype": "text/x-python",
   "name": "python",
   "nbconvert_exporter": "python",
   "pygments_lexer": "ipython3",
   "version": "3.11.4"
  }
 },
 "nbformat": 4,
 "nbformat_minor": 5
}
