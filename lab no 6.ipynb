{
 "cells": [
  {
   "cell_type": "markdown",
   "id": "dccb858b",
   "metadata": {},
   "source": [
    "## Lab task \n",
    "  #### Motivation:\n",
    " #### 2. Consider the following class definition from the last class."
   ]
  },
  {
   "cell_type": "code",
   "execution_count": 11,
   "id": "61e8bb25",
   "metadata": {},
   "outputs": [],
   "source": [
    "class Dog:\n",
    "    species = \"Canis familiaris\"\n",
    "    def __init__(self, name, age):\n",
    "        self.name = name\n",
    "        self.age = age\n",
    "    # Instance method\n",
    "    def description(self):\n",
    "        return f\"{self.name} is {self.age} years old\"\n",
    "    # Another instance method\n",
    "    def speak(self, sound):\n",
    "        return f\"{self.name} says {sound}\"\n",
    "miles = Dog('miles',6)"
   ]
  },
  {
   "cell_type": "markdown",
   "id": "31d0139a",
   "metadata": {},
   "source": [
    "## a. Run the code: miles.description()"
   ]
  },
  {
   "cell_type": "code",
   "execution_count": 12,
   "id": "36030baa",
   "metadata": {},
   "outputs": [
    {
     "data": {
      "text/plain": [
       "'miles is 6 years old'"
      ]
     },
     "execution_count": 12,
     "metadata": {},
     "output_type": "execute_result"
    }
   ],
   "source": [
    " miles.description()"
   ]
  },
  {
   "cell_type": "markdown",
   "id": "ec385fab",
   "metadata": {},
   "source": [
    "## Run the code: print(miles)"
   ]
  },
  {
   "cell_type": "code",
   "execution_count": 13,
   "id": "4e20df9c",
   "metadata": {},
   "outputs": [
    {
     "name": "stdout",
     "output_type": "stream",
     "text": [
      "<__main__.Dog object at 0x000001E8A390C350>\n"
     ]
    }
   ],
   "source": [
    "print(miles)"
   ]
  },
  {
   "cell_type": "markdown",
   "id": "6bdd831c",
   "metadata": {},
   "source": [
    "## c. Copy this list to the code editor, names = [\"Fletcher\", \"David\", \"Dan\"]. Now run print(names). Note: What is the difference between the two prints, the first one prints a memory address while the second one prints the list. The second one is good and attractive. "
   ]
  },
  {
   "cell_type": "code",
   "execution_count": 14,
   "id": "ea1779c2",
   "metadata": {},
   "outputs": [],
   "source": [
    "names = [\"Fletcher\", \"David\", \"Dan\"]"
   ]
  },
  {
   "cell_type": "code",
   "execution_count": 15,
   "id": "7fc06a18",
   "metadata": {},
   "outputs": [
    {
     "name": "stdout",
     "output_type": "stream",
     "text": [
      "['Fletcher', 'David', 'Dan']\n"
     ]
    }
   ],
   "source": [
    "print(names)"
   ]
  },
  {
   "cell_type": "markdown",
   "id": "c9e3a86d",
   "metadata": {},
   "source": [
    "## d. Now modify the dog class as follows: "
   ]
  },
  {
   "cell_type": "code",
   "execution_count": 16,
   "id": "d4854ba7",
   "metadata": {},
   "outputs": [],
   "source": [
    "class Dog:\n",
    "    species = \"Canis familiaris\"\n",
    "    def __init__(self, name, age):\n",
    "        self.name = name\n",
    "        self.age = age\n",
    "# Instance method\n",
    "    def __str__(self):\n",
    "        return f\"{self.name} is {self.age} years old\"\n",
    "# Another instance method\n",
    "    def speak(self, sound):\n",
    "        return f\"{self.name} says {sound}\""
   ]
  },
  {
   "cell_type": "markdown",
   "id": "a65b8ca4",
   "metadata": {},
   "source": [
    "## In the above code, only the description function is replaced with a new name __str__. Now make an object/instance of the Dog class and then run the code print ()"
   ]
  },
  {
   "cell_type": "code",
   "execution_count": 17,
   "id": "11a0c6af",
   "metadata": {},
   "outputs": [],
   "source": [
    "jack = Dog('jack',8)"
   ]
  },
  {
   "cell_type": "code",
   "execution_count": 19,
   "id": "bb17cd82",
   "metadata": {},
   "outputs": [
    {
     "name": "stdout",
     "output_type": "stream",
     "text": [
      "jack is 8 years old\n"
     ]
    }
   ],
   "source": [
    "print(jack)"
   ]
  },
  {
   "cell_type": "markdown",
   "id": "9b1323e4",
   "metadata": {},
   "source": [
    "## Hints:\n",
    "### i. The. description() method defined in the above Dog class returns a string containing information about the Dog instance miles. When writing your own classes, it is a good idea to have a method that returns a string containing useful information about an instance of the class.\n"
   ]
  },
  {
   "cell_type": "markdown",
   "id": "ab74764a",
   "metadata": {},
   "source": [
    "## 3. Consider the car class"
   ]
  },
  {
   "cell_type": "code",
   "execution_count": 21,
   "id": "57d7ad61",
   "metadata": {},
   "outputs": [],
   "source": [
    "class Car:\n",
    "    def __init__(self, color, mileage): \n",
    "        self.color = color \n",
    "        self.mileage = mileage"
   ]
  },
  {
   "cell_type": "markdown",
   "id": "92ed9fec",
   "metadata": {},
   "source": [
    "## a. Define an object:\n"
   ]
  },
  {
   "cell_type": "code",
   "execution_count": 23,
   "id": "bb1b3fe9",
   "metadata": {},
   "outputs": [],
   "source": [
    "my_car = Car('red', 37281)"
   ]
  },
  {
   "cell_type": "markdown",
   "id": "e9f3d3f0",
   "metadata": {},
   "source": [
    "## b. Run: print(my_car)"
   ]
  },
  {
   "cell_type": "code",
   "execution_count": 25,
   "id": "7d811a3d",
   "metadata": {},
   "outputs": [
    {
     "name": "stdout",
     "output_type": "stream",
     "text": [
      "<__main__.Car object at 0x000001E8A368CF10>\n"
     ]
    }
   ],
   "source": [
    "print(my_car)"
   ]
  },
  {
   "cell_type": "markdown",
   "id": "4cb8fcd6",
   "metadata": {},
   "source": [
    "## c. Run: my_car"
   ]
  },
  {
   "cell_type": "code",
   "execution_count": 27,
   "id": "c61b5ed7",
   "metadata": {},
   "outputs": [
    {
     "data": {
      "text/plain": [
       "<__main__.Car at 0x1e8a368cf10>"
      ]
     },
     "execution_count": 27,
     "metadata": {},
     "output_type": "execute_result"
    }
   ],
   "source": [
    "my_car"
   ]
  },
  {
   "cell_type": "markdown",
   "id": "37b9a590",
   "metadata": {},
   "source": [
    "## 4. Modify the car class by introducing an __str__ method."
   ]
  },
  {
   "cell_type": "code",
   "execution_count": 40,
   "id": "303d8a94",
   "metadata": {},
   "outputs": [],
   "source": [
    "class Car:\n",
    "    ''' A simple class for car   '''\n",
    "    def __init__(self, color, mileage):\n",
    "        ''' Adding attributes  '''\n",
    "        self.color = color\n",
    "        self.mileage = mileage\n",
    "    def __str__(self):\n",
    "        ''' printing the object  '''\n",
    "        return f\"The {self.color} car has {self.mileage:,} miles\"\n"
   ]
  },
  {
   "cell_type": "markdown",
   "id": "10a074b6",
   "metadata": {},
   "source": [
    "## a. Define an object: my_car = Car('red', 37281)\n"
   ]
  },
  {
   "cell_type": "code",
   "execution_count": 41,
   "id": "827778d4",
   "metadata": {},
   "outputs": [],
   "source": [
    "my_car = Car('red', 37281)"
   ]
  },
  {
   "cell_type": "markdown",
   "id": "1fe4e1cc",
   "metadata": {},
   "source": [
    "## b. Run: print(my_car.color, my_car.mileage)"
   ]
  },
  {
   "cell_type": "code",
   "execution_count": 42,
   "id": "063e190f",
   "metadata": {},
   "outputs": [
    {
     "name": "stdout",
     "output_type": "stream",
     "text": [
      "red 37281\n"
     ]
    }
   ],
   "source": [
    "print(my_car.color, my_car.mileage)"
   ]
  },
  {
   "cell_type": "markdown",
   "id": "5ebd2002",
   "metadata": {},
   "source": [
    "## c. Run: print(my_car)"
   ]
  },
  {
   "cell_type": "code",
   "execution_count": 35,
   "id": "c94bc420",
   "metadata": {},
   "outputs": [
    {
     "name": "stdout",
     "output_type": "stream",
     "text": [
      "The red car has 37,281 miles\n"
     ]
    }
   ],
   "source": [
    "print(my_car)"
   ]
  },
  {
   "cell_type": "markdown",
   "id": "1f4940a4",
   "metadata": {},
   "source": [
    "## d. Run: my_car"
   ]
  },
  {
   "cell_type": "code",
   "execution_count": 37,
   "id": "8e82c51c",
   "metadata": {},
   "outputs": [
    {
     "data": {
      "text/plain": [
       "<__main__.Car at 0x1e8a39d1a10>"
      ]
     },
     "execution_count": 37,
     "metadata": {},
     "output_type": "execute_result"
    }
   ],
   "source": [
    "my_car"
   ]
  },
  {
   "cell_type": "markdown",
   "id": "53b44749",
   "metadata": {},
   "source": [
    "## e. Add docstrings for the class and functions. "
   ]
  },
  {
   "cell_type": "code",
   "execution_count": 52,
   "id": "371da63f",
   "metadata": {},
   "outputs": [],
   "source": [
    "class Car:\n",
    "    ''' A simple class for car   '''\n",
    "    def __init__(self, color, mileage):\n",
    "        ''' Adding attributes  '''\n",
    "        self.color = color\n",
    "        self.mileage = mileage\n",
    "    def ptr(self):\n",
    "        ''' printing the objects  '''\n",
    "        \n",
    "        return f'{self.color} and {self.mileage}'\n",
    "    def __str__(self):\n",
    "        ''' printing the object  '''\n",
    "        return f\"The {self.color} car has {self.mileage:,} miles\"\n"
   ]
  },
  {
   "cell_type": "markdown",
   "id": "2d9df391",
   "metadata": {},
   "source": [
    "## f. Print the docstring using  __doc__. "
   ]
  },
  {
   "cell_type": "code",
   "execution_count": 50,
   "id": "851dc79e",
   "metadata": {},
   "outputs": [
    {
     "name": "stdout",
     "output_type": "stream",
     "text": [
      " A simple class for car   \n"
     ]
    }
   ],
   "source": [
    "print(Car.__doc__)"
   ]
  },
  {
   "cell_type": "code",
   "execution_count": 53,
   "id": "175526a6",
   "metadata": {},
   "outputs": [
    {
     "name": "stdout",
     "output_type": "stream",
     "text": [
      " printing the objects  \n"
     ]
    }
   ],
   "source": [
    "print(Car.ptr.__doc__)"
   ]
  },
  {
   "cell_type": "code",
   "execution_count": 55,
   "id": "c8ad2b7a",
   "metadata": {},
   "outputs": [
    {
     "name": "stdout",
     "output_type": "stream",
     "text": [
      " Adding attributes  \n"
     ]
    }
   ],
   "source": [
    "print(Car.__init__.__doc__)"
   ]
  },
  {
   "cell_type": "markdown",
   "id": "108bf508",
   "metadata": {},
   "source": [
    "## g. Use the help function to print the class details. "
   ]
  },
  {
   "cell_type": "code",
   "execution_count": 57,
   "id": "60722256",
   "metadata": {},
   "outputs": [
    {
     "name": "stdout",
     "output_type": "stream",
     "text": [
      "Help on class Car in module __main__:\n",
      "\n",
      "class Car(builtins.object)\n",
      " |  Car(color, mileage)\n",
      " |  \n",
      " |  A simple class for car\n",
      " |  \n",
      " |  Methods defined here:\n",
      " |  \n",
      " |  __init__(self, color, mileage)\n",
      " |      Adding attributes\n",
      " |  \n",
      " |  __str__(self)\n",
      " |      printing the object\n",
      " |  \n",
      " |  ptr(self)\n",
      " |      printing the objects\n",
      " |  \n",
      " |  ----------------------------------------------------------------------\n",
      " |  Data descriptors defined here:\n",
      " |  \n",
      " |  __dict__\n",
      " |      dictionary for instance variables (if defined)\n",
      " |  \n",
      " |  __weakref__\n",
      " |      list of weak references to the object (if defined)\n",
      "\n",
      "None\n"
     ]
    }
   ],
   "source": [
    "print(help(Car))"
   ]
  },
  {
   "cell_type": "markdown",
   "id": "69506458",
   "metadata": {},
   "source": [
    "## Note:\n",
    "i. __str__ is one of Python’s “dunder” (double-underscore) methods and gets called when \n",
    "you try to convert an object into a string"
   ]
  },
  {
   "cell_type": "markdown",
   "id": "99460428",
   "metadata": {},
   "source": [
    "## 5. Complete car class"
   ]
  },
  {
   "cell_type": "code",
   "execution_count": 59,
   "id": "1d31b405",
   "metadata": {},
   "outputs": [],
   "source": [
    "class Car:\n",
    "    def __init__(self, color, mileage):\n",
    "        self.color = color\n",
    "        self.mileage = mileage\n",
    "    def __repr__(self):\n",
    "        return (f'{self.__class__.__name__}('\n",
    "                f'{self.color!r}, {self.mileage!r})')\n",
    "    def __str__(self):\n",
    "        return f'a {self.color} car'"
   ]
  },
  {
   "cell_type": "markdown",
   "id": "fffcd40d",
   "metadata": {},
   "source": [
    "## a. Define an object: my_car = Car('red', 37281)\n"
   ]
  },
  {
   "cell_type": "code",
   "execution_count": 62,
   "id": "8788389d",
   "metadata": {},
   "outputs": [],
   "source": [
    "my_car = Car('red', 37281)"
   ]
  },
  {
   "cell_type": "markdown",
   "id": "9c75c621",
   "metadata": {},
   "source": [
    "## b. Run: print(my_car.color, my_car.mileage)\n"
   ]
  },
  {
   "cell_type": "code",
   "execution_count": 64,
   "id": "0e70351e",
   "metadata": {},
   "outputs": [
    {
     "name": "stdout",
     "output_type": "stream",
     "text": [
      "red 37281\n"
     ]
    }
   ],
   "source": [
    "print(my_car.color, my_car.mileage)"
   ]
  },
  {
   "cell_type": "markdown",
   "id": "0f4b726e",
   "metadata": {},
   "source": [
    "## c. Run: print(my_car)\n"
   ]
  },
  {
   "cell_type": "code",
   "execution_count": 66,
   "id": "c1bef020",
   "metadata": {},
   "outputs": [
    {
     "name": "stdout",
     "output_type": "stream",
     "text": [
      "a red car\n"
     ]
    }
   ],
   "source": [
    "print(my_car)"
   ]
  },
  {
   "cell_type": "markdown",
   "id": "b832d76e",
   "metadata": {},
   "source": [
    "## d. Run: my_car\n"
   ]
  },
  {
   "cell_type": "code",
   "execution_count": 68,
   "id": "c7b7a265",
   "metadata": {},
   "outputs": [
    {
     "data": {
      "text/plain": [
       "Car('red', 37281)"
      ]
     },
     "execution_count": 68,
     "metadata": {},
     "output_type": "execute_result"
    }
   ],
   "source": [
    "my_car"
   ]
  },
  {
   "cell_type": "markdown",
   "id": "87cc6f17",
   "metadata": {},
   "source": [
    "## Note:\n",
    "i. __class__.__name__ attribute, which will always reflect the class’ name as a string."
   ]
  },
  {
   "cell_type": "markdown",
   "id": "fcf56cf7",
   "metadata": {},
   "source": [
    "## 6. Consider the car class again. Add a new dunder method __repr__."
   ]
  },
  {
   "cell_type": "code",
   "execution_count": 70,
   "id": "f7b3e03c",
   "metadata": {},
   "outputs": [],
   "source": [
    "class Car:\n",
    "    def __init__(self, color, mileage): \n",
    "        self.color = color \n",
    "        self.mileage = mileage\n",
    "    def __repr__(self):\n",
    "        return '__repr__ for Car'\n",
    "    def __str__(self):\n",
    "        return '__str__ for Car'"
   ]
  },
  {
   "cell_type": "markdown",
   "id": "cf52353e",
   "metadata": {},
   "source": [
    "## a. Define an object: my_car = Car('red', 37281)\n"
   ]
  },
  {
   "cell_type": "code",
   "execution_count": 72,
   "id": "251de46a",
   "metadata": {},
   "outputs": [],
   "source": [
    "my_car = Car('red', 37281)"
   ]
  },
  {
   "cell_type": "markdown",
   "id": "f1ca7fc3",
   "metadata": {},
   "source": [
    "## c. Run: print(my_car)\n"
   ]
  },
  {
   "cell_type": "code",
   "execution_count": 74,
   "id": "a9135abb",
   "metadata": {},
   "outputs": [
    {
     "name": "stdout",
     "output_type": "stream",
     "text": [
      "__str__ for Car\n"
     ]
    }
   ],
   "source": [
    "print(my_car)"
   ]
  },
  {
   "cell_type": "markdown",
   "id": "fcbebe3c",
   "metadata": {},
   "source": [
    "## d. Run: my_car"
   ]
  },
  {
   "cell_type": "code",
   "execution_count": 76,
   "id": "eaac918d",
   "metadata": {},
   "outputs": [
    {
     "data": {
      "text/plain": [
       "__repr__ for Car"
      ]
     },
     "execution_count": 76,
     "metadata": {},
     "output_type": "execute_result"
    }
   ],
   "source": [
    "my_car"
   ]
  },
  {
   "cell_type": "markdown",
   "id": "de743232",
   "metadata": {},
   "source": [
    "## 7. Consider the following code. "
   ]
  },
  {
   "cell_type": "code",
   "execution_count": 78,
   "id": "419859b1",
   "metadata": {},
   "outputs": [],
   "source": [
    "import math\n",
    "class Point:\n",
    "    'Represents a point in two-dimensional geometric coordinates'\n",
    "    def __init__(self, x=0, y=0):\n",
    "        '''Initialize the position of a new point. The x and y\n",
    "        coordinates can be specified. If they are not, the\n",
    "        point defaults to the origin.'''\n",
    "        self.move(x, y)\n",
    "    def move(self, x, y):\n",
    "        '''Move the point to a new location in 2D space.'''\n",
    "        self.x = x\n",
    "        self.y = y\n",
    "    def reset(self):\n",
    "        '''Reset the point back to the geometric origin: 0, 0'''\n",
    "        self.move(0, 0)\n",
    "    def calculate_distance(self, other_point):\n",
    "        \"\"\"Calculate the distance from this point to a second\n",
    "        point passed as a parameter.\n",
    "        This function uses the Pythagorean Theorem to calculate\n",
    "        the distance between the two points. The distance is\n",
    "        returned as a float.\"\"\"\n",
    "        return math.sqrt((self.x - other_point.x)**2 +(self.y -other_point.y)**2)\n"
   ]
  },
  {
   "cell_type": "markdown",
   "id": "857d01fc",
   "metadata": {},
   "source": [
    "## h. Define an object point = Point(3, 9) and print its coordinate. "
   ]
  },
  {
   "cell_type": "code",
   "execution_count": 79,
   "id": "6497ed7e",
   "metadata": {},
   "outputs": [],
   "source": [
    "point = Point(3, 9)"
   ]
  },
  {
   "cell_type": "code",
   "execution_count": 82,
   "id": "1c5e7863",
   "metadata": {},
   "outputs": [
    {
     "name": "stdout",
     "output_type": "stream",
     "text": [
      " the x coordinte is 3, and the y coordinate is 9\n"
     ]
    }
   ],
   "source": [
    "print(f' the x coordinte is {point.x}, and the y coordinate is {point.y}')"
   ]
  },
  {
   "cell_type": "markdown",
   "id": "8f8e98d2",
   "metadata": {},
   "source": [
    "## i. Print the class docstring."
   ]
  },
  {
   "cell_type": "code",
   "execution_count": 84,
   "id": "7c87d371",
   "metadata": {},
   "outputs": [
    {
     "name": "stdout",
     "output_type": "stream",
     "text": [
      "Represents a point in two-dimensional geometric coordinates\n"
     ]
    }
   ],
   "source": [
    "print(Point.__doc__)"
   ]
  },
  {
   "cell_type": "markdown",
   "id": "bf02b2eb",
   "metadata": {},
   "source": [
    "## • Hints: Use the object name to access the class-level docstring by using __doc__. (point.__doc__)\n"
   ]
  },
  {
   "cell_type": "markdown",
   "id": "91a3748f",
   "metadata": {},
   "source": [
    "## j. Print different method docstring using object.meteod. __doc__\n"
   ]
  },
  {
   "cell_type": "code",
   "execution_count": 92,
   "id": "be0e5c06",
   "metadata": {},
   "outputs": [
    {
     "name": "stdout",
     "output_type": "stream",
     "text": [
      "Initialize the position of a new point. The x and y\n",
      "        coordinates can be specified. If they are not, the\n",
      "        point defaults to the origin.\n"
     ]
    }
   ],
   "source": [
    "print(point.__init__.__doc__)"
   ]
  },
  {
   "cell_type": "code",
   "execution_count": 86,
   "id": "311b67d9",
   "metadata": {},
   "outputs": [
    {
     "name": "stdout",
     "output_type": "stream",
     "text": [
      "Reset the point back to the geometric origin: 0, 0\n"
     ]
    }
   ],
   "source": [
    "print(point.reset.__doc__)"
   ]
  },
  {
   "cell_type": "code",
   "execution_count": 87,
   "id": "34787492",
   "metadata": {},
   "outputs": [
    {
     "name": "stdout",
     "output_type": "stream",
     "text": [
      "Move the point to a new location in 2D space.\n"
     ]
    }
   ],
   "source": [
    "print(point.move.__doc__)"
   ]
  },
  {
   "cell_type": "code",
   "execution_count": 89,
   "id": "29b345c4",
   "metadata": {},
   "outputs": [
    {
     "name": "stdout",
     "output_type": "stream",
     "text": [
      "Calculate the distance from this point to a second\n",
      "        point passed as a parameter.\n",
      "        This function uses the Pythagorean Theorem to calculate\n",
      "        the distance between the two points. The distance is\n",
      "        returned as a float.\n"
     ]
    }
   ],
   "source": [
    "print(point.calculate_distance.__doc__)"
   ]
  },
  {
   "cell_type": "markdown",
   "id": "be2a64fb",
   "metadata": {},
   "source": [
    "## 1. Point class"
   ]
  },
  {
   "cell_type": "code",
   "execution_count": 99,
   "id": "07a5969a",
   "metadata": {},
   "outputs": [],
   "source": [
    "# point.py\n",
    "class Point:\n",
    "    def __init__(self, x, y):\n",
    "        print(\"Initialize the new instance of Point.\")\n",
    "        self.x = x\n",
    "        self.y = y\n",
    "    def __repr__(self) -> str:\n",
    "        return f\"{type(self).__name__}(x={self.x}, y={self.y})\"\n"
   ]
  },
  {
   "cell_type": "markdown",
   "id": "6ce06654",
   "metadata": {},
   "source": [
    "## a. Run the following code"
   ]
  },
  {
   "cell_type": "code",
   "execution_count": 101,
   "id": "f57c5950",
   "metadata": {},
   "outputs": [
    {
     "name": "stdout",
     "output_type": "stream",
     "text": [
      "Initialize the new instance of Point.\n"
     ]
    },
    {
     "data": {
      "text/plain": [
       "Point(x=21, y=42)"
      ]
     },
     "execution_count": 101,
     "metadata": {},
     "output_type": "execute_result"
    }
   ],
   "source": [
    "point = Point(21, 42)\n",
    "point"
   ]
  },
  {
   "cell_type": "markdown",
   "id": "ccf4bfb8",
   "metadata": {},
   "source": [
    "## b. The __init__ can be called by the instance and pass value directly. Run the following code.\n"
   ]
  },
  {
   "cell_type": "code",
   "execution_count": 105,
   "id": "dfd7b87e",
   "metadata": {},
   "outputs": [
    {
     "name": "stdout",
     "output_type": "stream",
     "text": [
      "Initialize the new instance of Point.\n"
     ]
    }
   ],
   "source": [
    "point.__init__(34, 45)"
   ]
  },
  {
   "cell_type": "code",
   "execution_count": 107,
   "id": "e8d2f544",
   "metadata": {},
   "outputs": [
    {
     "data": {
      "text/plain": [
       "34"
      ]
     },
     "execution_count": 107,
     "metadata": {},
     "output_type": "execute_result"
    }
   ],
   "source": [
    "point.x"
   ]
  },
  {
   "cell_type": "code",
   "execution_count": 108,
   "id": "16ae9b68",
   "metadata": {},
   "outputs": [
    {
     "data": {
      "text/plain": [
       "45"
      ]
     },
     "execution_count": 108,
     "metadata": {},
     "output_type": "execute_result"
    }
   ],
   "source": [
    "point.y"
   ]
  },
  {
   "cell_type": "code",
   "execution_count": 109,
   "id": "ed588239",
   "metadata": {},
   "outputs": [
    {
     "data": {
      "text/plain": [
       "Point(x=34, y=45)"
      ]
     },
     "execution_count": 109,
     "metadata": {},
     "output_type": "execute_result"
    }
   ],
   "source": [
    "point"
   ]
  },
  {
   "cell_type": "code",
   "execution_count": null,
   "id": "24768261",
   "metadata": {},
   "outputs": [],
   "source": []
  }
 ],
 "metadata": {
  "kernelspec": {
   "display_name": "Python 3 (ipykernel)",
   "language": "python",
   "name": "python3"
  },
  "language_info": {
   "codemirror_mode": {
    "name": "ipython",
    "version": 3
   },
   "file_extension": ".py",
   "mimetype": "text/x-python",
   "name": "python",
   "nbconvert_exporter": "python",
   "pygments_lexer": "ipython3",
   "version": "3.11.4"
  }
 },
 "nbformat": 4,
 "nbformat_minor": 5
}
