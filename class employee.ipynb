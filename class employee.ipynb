{
 "cells": [
  {
   "cell_type": "code",
   "execution_count": 1,
   "id": "93dd082e",
   "metadata": {},
   "outputs": [],
   "source": [
    "class employe:\n",
    "    def __init__ (self,f,l,s,a):\n",
    "        self.f=f\n",
    "        self.l=l\n",
    "        self.s=s\n",
    "        self.a=a\n",
    "        self.email=f+'.'+l+'@email.companny'\n",
    "    def rise(self,r):\n",
    "        return self.s*r\n",
    "    def __str__(self):\n",
    "        return f'name is {self.f} {self.l} salary is {self.s} and age is {self.a}'\n",
    "        \n",
    "e1=employe('ayub','khan',23000,20)\n",
    "e2=employe('mashal','koni',24000,25)       "
   ]
  },
  {
   "cell_type": "code",
   "execution_count": 2,
   "id": "2099f9d2",
   "metadata": {},
   "outputs": [],
   "source": [
    "class manager(employe):\n",
    "    def __init__(self,f,l,s,a,c):\n",
    "        super().__init__(f,l,s,a)\n",
    "        self.c=c"
   ]
  },
  {
   "cell_type": "code",
   "execution_count": 3,
   "id": "642297fb",
   "metadata": {},
   "outputs": [],
   "source": [
    "e3=manager('ayub','khan',56000,20,'honda')"
   ]
  },
  {
   "cell_type": "code",
   "execution_count": 4,
   "id": "6272c886",
   "metadata": {},
   "outputs": [
    {
     "data": {
      "text/plain": [
       "'honda'"
      ]
     },
     "execution_count": 4,
     "metadata": {},
     "output_type": "execute_result"
    }
   ],
   "source": [
    "e3.c"
   ]
  },
  {
   "cell_type": "code",
   "execution_count": null,
   "id": "c8134b2c",
   "metadata": {},
   "outputs": [],
   "source": []
  }
 ],
 "metadata": {
  "kernelspec": {
   "display_name": "Python 3 (ipykernel)",
   "language": "python",
   "name": "python3"
  },
  "language_info": {
   "codemirror_mode": {
    "name": "ipython",
    "version": 3
   },
   "file_extension": ".py",
   "mimetype": "text/x-python",
   "name": "python",
   "nbconvert_exporter": "python",
   "pygments_lexer": "ipython3",
   "version": "3.11.4"
  }
 },
 "nbformat": 4,
 "nbformat_minor": 5
}
