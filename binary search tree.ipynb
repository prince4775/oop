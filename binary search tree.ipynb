{
 "cells": [
  {
   "cell_type": "markdown",
   "id": "d523e1d1",
   "metadata": {},
   "source": [
    "# AIM:"
   ]
  },
  {
   "cell_type": "markdown",
   "id": "c7ee8c6f",
   "metadata": {},
   "source": [
    "### AIM:To understand the fundamental of tree and Binary Tree that how tree works and how we insert or delete data form a tree "
   ]
  },
  {
   "cell_type": "markdown",
   "id": "3a61ce93",
   "metadata": {},
   "source": [
    "## INTRODUCTION:\n",
    "Binary Tree is defined as a tree data structure where each node has at most 2 children. Since each element in a binary tree can have only 2 children, we typically name them the left and right child.\n"
   ]
  },
  {
   "cell_type": "markdown",
   "id": "f5a1b346",
   "metadata": {},
   "source": [
    "## LAB REPORT TASK:"
   ]
  },
  {
   "cell_type": "markdown",
   "id": "907138be",
   "metadata": {},
   "source": [
    "### Run the following code and use different methods for searching inserting and treversal method.b"
   ]
  },
  {
   "cell_type": "code",
   "execution_count": 4,
   "id": "aa8fc1de",
   "metadata": {},
   "outputs": [
    {
     "name": "stdout",
     "output_type": "stream",
     "text": [
      "4\n",
      "6\n",
      "7\n",
      "8\n",
      "9\n",
      "10\n",
      "14\n"
     ]
    }
   ],
   "source": [
    "class BST:\n",
    "    def __init__(self, key):\n",
    "        self. key=key\n",
    "        self. lchild=None\n",
    "        self. rchild=None\n",
    "        \n",
    "    def insert(self, data):\n",
    "        if self.key is None:\n",
    "            self.key=data\n",
    "            return \n",
    "        if self.key>data:\n",
    "            if self.lchild:\n",
    "                self.lchild.insert(data)\n",
    "            else:\n",
    "                self.lchild=BST(data) \n",
    "        else:\n",
    "            if self.rchild:\n",
    "                self.rchild. insert(data)\n",
    "            else:\n",
    "                self.rchild=BST(data) \n",
    "               \n",
    "    def search(self, data) :\n",
    "        if self.key==data:\n",
    "            print('Node is found') \n",
    "            return \n",
    "        if data< self.key:\n",
    "            if self.lchild:\n",
    "                self. lchild.search(data) \n",
    "            else:\n",
    "                print('Node is not preesent' ) \n",
    "                         \n",
    "        else:\n",
    "            if self.rchild:\n",
    "                self.rchild.search(data) \n",
    "            else:\n",
    "                print(' Node is not present')\n",
    "\n",
    "    def preorder(self) :\n",
    "        print(self.key)\n",
    "        if self. lchild:\n",
    "            self. lchild.preorder()\n",
    "        if self. rchild:\n",
    "            self.rchild.preorder()\n",
    "            \n",
    "    def inorder(self) :\n",
    "        if self. lchild:\n",
    "            self. lchild.inorder()  \n",
    "        print(self.key)\n",
    "        if self. rchild:\n",
    "            self. rchild. inorder() \n",
    "        \n",
    "root= BST(10)\n",
    "list1=[6,7,8,9,4,14]\n",
    "for i in list1:\n",
    "    root.insert(i) \n",
    "root. inorder()\n"
   ]
  },
  {
   "cell_type": "code",
   "execution_count": 5,
   "id": "f7557183",
   "metadata": {},
   "outputs": [
    {
     "name": "stdout",
     "output_type": "stream",
     "text": [
      "10\n",
      "6\n",
      "4\n",
      "7\n",
      "8\n",
      "9\n",
      "14\n"
     ]
    }
   ],
   "source": [
    "root.preorder()"
   ]
  },
  {
   "cell_type": "markdown",
   "id": "357e77bc",
   "metadata": {},
   "source": [
    "## LAB WORK TASK:"
   ]
  },
  {
   "cell_type": "markdown",
   "id": "590e8907",
   "metadata": {},
   "source": [
    "## 1.\tCREATE A BST(BINARY SEARCH TREE)  CLASS:"
   ]
  },
  {
   "cell_type": "markdown",
   "id": "e1e0e301",
   "metadata": {},
   "source": [
    "### •\tWhile creating a BST class it use as a node. A node which is use for as a Root node."
   ]
  },
  {
   "cell_type": "markdown",
   "id": "d3be6239",
   "metadata": {},
   "source": [
    "### i.\tRun the following code."
   ]
  },
  {
   "cell_type": "code",
   "execution_count": 16,
   "id": "a1c96d73",
   "metadata": {},
   "outputs": [],
   "source": [
    "class BST:\n",
    "    def __init__(self, key) :\n",
    "        self. key=key\n",
    "        self. lchild=None\n",
    "        self. rchild=None"
   ]
  },
  {
   "cell_type": "markdown",
   "id": "4ec70aa2",
   "metadata": {},
   "source": [
    "### a)\tIt is a class which has three attributes key, which represent data and Leftchild (lchild) , Rightchild (rchild), which are declared as None ."
   ]
  },
  {
   "cell_type": "markdown",
   "id": "1adecb95",
   "metadata": {},
   "source": [
    "## 2.\tCREATE A METHOD FOR INSERTION OF NODES IN TREE:"
   ]
  },
  {
   "cell_type": "code",
   "execution_count": 19,
   "id": "5e0e206c",
   "metadata": {},
   "outputs": [],
   "source": [
    "    def insert(self, data) :\n",
    "        if self.key is None:\n",
    "            self.key=data\n",
    "            return \n",
    "        if self.key>data:\n",
    "            if self.lchild:\n",
    "                self.lchild.insert(data)\n",
    "            else:\n",
    "                self.lchild=BST(data) \n",
    "        else:\n",
    "            if self.rchild:\n",
    "                self.rchild. insert(data)\n",
    "            else:\n",
    "                self.rchild=BST(data) "
   ]
  },
  {
   "cell_type": "markdown",
   "id": "fe802b82",
   "metadata": {},
   "source": [
    "### b)\tThis Method shows the three conditions."
   ]
  },
  {
   "cell_type": "markdown",
   "id": "07404d7c",
   "metadata": {},
   "source": [
    "### •\tFirst if Tree is empty it store the key or root value to data value\n",
    "if self.key is None\n",
    "self.key==data\n",
    "            return\n"
   ]
  },
  {
   "cell_type": "code",
   "execution_count": null,
   "id": "c0404367",
   "metadata": {},
   "outputs": [],
   "source": [
    "if self.key is None:\n",
    "    self.key==data\n",
    "    return\n"
   ]
  },
  {
   "cell_type": "markdown",
   "id": "2dc27731",
   "metadata": {},
   "source": [
    "# •\tIf insert data is greater  then key or root value then we insert it in left child only if there is leftchild present and it has not data in it then we use "
   ]
  },
  {
   "cell_type": "code",
   "execution_count": 20,
   "id": "a1f1a298",
   "metadata": {},
   "outputs": [
    {
     "ename": "IndentationError",
     "evalue": "expected an indented block (3014252826.py, line 1)",
     "output_type": "error",
     "traceback": [
      "\u001b[1;36m  Input \u001b[1;32mIn [20]\u001b[1;36m\u001b[0m\n\u001b[1;33m    if self.key>data:\u001b[0m\n\u001b[1;37m                     ^\u001b[0m\n\u001b[1;31mIndentationError\u001b[0m\u001b[1;31m:\u001b[0m expected an indented block\n"
     ]
    }
   ],
   "source": [
    "if self.key>data:"
   ]
  },
  {
   "cell_type": "markdown",
   "id": "0efa31e3",
   "metadata": {},
   "source": [
    "\n",
    "## 3.\tCREATE A SEARCH METHOD TO SEARCH IF NODE IS PRESENT OR NOT.\n"
   ]
  },
  {
   "cell_type": "markdown",
   "id": "326defe8",
   "metadata": {},
   "source": [
    "### a)\tRun the following code."
   ]
  },
  {
   "cell_type": "code",
   "execution_count": 23,
   "id": "a51c5fa5",
   "metadata": {},
   "outputs": [],
   "source": [
    "  def search(self, data) :\n",
    "        if self.key==data:\n",
    "            print('Node is found') \n",
    "            return \n",
    "        if data< self.key:\n",
    "            if self.lchild:\n",
    "                self. lchild.search(data) \n",
    "            else:\n",
    "                print('Node is not preesent' ) \n",
    "                         \n",
    "        else:\n",
    "            if self.rchild:\n",
    "                self.rchild.search(data) \n",
    "            else:\n",
    "                print(' Node is not present')"
   ]
  },
  {
   "cell_type": "markdown",
   "id": "33174524",
   "metadata": {},
   "source": [
    "### i.\tIn search method we define three condition with recursion.\n",
    "\n",
    "### ii.\tFirst we check the item is equal to root then print Node is present.\n",
    "\n",
    "### iii.\tSecond we check the item is lesser then root node(data) then search the Leftchild side of the tree by recursion.\n",
    "\n",
    "### iv.\tThird we check the item is greater then root node(data) then check the Rightchild side of the tree by recursion .\n"
   ]
  },
  {
   "cell_type": "markdown",
   "id": "6d447509",
   "metadata": {},
   "source": [
    "# 4.\tTRAVERSAL METHODS IN TREE:\n",
    "i.\tPreorder Treversal\n",
    "ii.\tPostorder Treversal\n",
    "iii.\tIn-order Treversal\n"
   ]
  },
  {
   "cell_type": "markdown",
   "id": "ed0bc99f",
   "metadata": {},
   "source": [
    "## 1.\tPreorder Traversal:\n",
    "i.\tIn preorder treversal first the root will print then left side of the root node and then right side of root node. Recursion is used for multiple Leftchild and Rchild nodes.\n"
   ]
  },
  {
   "cell_type": "markdown",
   "id": "efa11743",
   "metadata": {},
   "source": [
    "### a)\tRun the code with contact of above code.    "
   ]
  },
  {
   "cell_type": "code",
   "execution_count": 26,
   "id": "a43cd896",
   "metadata": {},
   "outputs": [],
   "source": [
    " def preorder(self) :\n",
    "        print(self.key)\n",
    "        if self. lchild:\n",
    "            self. lchild. preorder()\n",
    "        if self. rchild:\n",
    "            self.rchild.preorder()"
   ]
  },
  {
   "cell_type": "markdown",
   "id": "23c03fcc",
   "metadata": {},
   "source": [
    "## 2.\tPostorder Treversal:\n",
    "ii.\tIn postorder treversal first the Leftchild’s of binary tree will print then the Righchild’s of the tree and the root of the binary tree will print.\n"
   ]
  },
  {
   "cell_type": "markdown",
   "id": "edf4c718",
   "metadata": {},
   "source": [
    "### a)\tRun the following code "
   ]
  },
  {
   "cell_type": "code",
   "execution_count": 29,
   "id": "5a4680a7",
   "metadata": {},
   "outputs": [],
   "source": [
    "  def inorder(self) :\n",
    "        if self. lchild:\n",
    "            self. lchild.inorder()  \n",
    "        print(self.key)\n",
    "        if self. rchild:\n",
    "            self. rchild. inorder() "
   ]
  },
  {
   "cell_type": "markdown",
   "id": "c3f78c5d",
   "metadata": {},
   "source": [
    "## 3.\tInorder Treversal:\n",
    "iii.\tIn Inorder treversal first the Left side of the tree then the root key and then Right side of the tree .\n"
   ]
  },
  {
   "cell_type": "code",
   "execution_count": 3,
   "id": "7b709451",
   "metadata": {},
   "outputs": [
    {
     "ename": "NameError",
     "evalue": "name 'BST' is not defined",
     "output_type": "error",
     "traceback": [
      "\u001b[1;31m---------------------------------------------------------------------------\u001b[0m",
      "\u001b[1;31mNameError\u001b[0m                                 Traceback (most recent call last)",
      "Cell \u001b[1;32mIn[3], line 1\u001b[0m\n\u001b[1;32m----> 1\u001b[0m root\u001b[38;5;241m=\u001b[39m BST(\u001b[38;5;241m10\u001b[39m)\n\u001b[0;32m      2\u001b[0m list1\u001b[38;5;241m=\u001b[39m[\u001b[38;5;241m6\u001b[39m,\u001b[38;5;241m7\u001b[39m,\u001b[38;5;241m8\u001b[39m,\u001b[38;5;241m9\u001b[39m,\u001b[38;5;241m4\u001b[39m,\u001b[38;5;241m14\u001b[39m]\n\u001b[0;32m      3\u001b[0m \u001b[38;5;28;01mfor\u001b[39;00m i \u001b[38;5;129;01min\u001b[39;00m list1:\n",
      "\u001b[1;31mNameError\u001b[0m: name 'BST' is not defined"
     ]
    }
   ],
   "source": [
    "root= BST(10)\n",
    "list1=[6,7,8,9,4,14]\n",
    "for i in list1:\n",
    "    root.insert(i) \n",
    "root.preorder()"
   ]
  },
  {
   "cell_type": "code",
   "execution_count": 2,
   "id": "547b1b3d",
   "metadata": {},
   "outputs": [
    {
     "data": {
      "text/plain": [
       "2386831376960295718"
      ]
     },
     "execution_count": 2,
     "metadata": {},
     "output_type": "execute_result"
    }
   ],
   "source": [
    "hash('ahmad')"
   ]
  },
  {
   "cell_type": "code",
   "execution_count": null,
   "id": "192cc641",
   "metadata": {},
   "outputs": [],
   "source": []
  }
 ],
 "metadata": {
  "kernelspec": {
   "display_name": "Python 3 (ipykernel)",
   "language": "python",
   "name": "python3"
  },
  "language_info": {
   "codemirror_mode": {
    "name": "ipython",
    "version": 3
   },
   "file_extension": ".py",
   "mimetype": "text/x-python",
   "name": "python",
   "nbconvert_exporter": "python",
   "pygments_lexer": "ipython3",
   "version": "3.11.4"
  }
 },
 "nbformat": 4,
 "nbformat_minor": 5
}
