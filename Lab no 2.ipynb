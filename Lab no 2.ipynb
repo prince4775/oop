{
 "cells": [
  {
   "cell_type": "markdown",
   "id": "4b356008",
   "metadata": {},
   "source": [
    "# Lab work"
   ]
  },
  {
   "cell_type": "markdown",
   "id": "7e451032",
   "metadata": {},
   "source": [
    "### Make a list of that contains student name, last four digits of registration number as integer, CGPA as a float, and a list that contain GPA of all semesters. (Nested List) "
   ]
  },
  {
   "cell_type": "code",
   "execution_count": 2,
   "id": "dbb5c568",
   "metadata": {},
   "outputs": [
    {
     "name": "stdout",
     "output_type": "stream",
     "text": [
      "{'ayub': 470, 'ibraheem': 480, 'mashal': 466, 'nasir': 502}\n",
      "{'1st semmester': 3.85, '2nd semmester': 3.86}\n",
      "dict_items([('ayub', 470), ('ibraheem', 480), ('mashal', 466), ('nasir', 502)])\n",
      "dict_keys(['ayub', 'ibraheem', 'mashal', 'nasir'])\n",
      "dict_values([470, 480, 466, 502])\n",
      "dict_items([('1st semmester', 3.85), ('2nd semmester', 3.86)])\n",
      "dict_keys(['1st semmester', '2nd semmester'])\n",
      "dict_values([3.85, 3.86])\n"
     ]
    }
   ],
   "source": [
    "student_name={'ayub':470,'ibraheem':480,'mashal':466,'nasir':502}\n",
    "cgpa={'1st semmester':3.85,'2nd semmester':3.86}\n",
    "print(student_name)\n",
    "print(cgpa)\n",
    "print(student_name.items())\n",
    "print(student_name.keys())\n",
    "print(student_name.values())\n",
    "\n",
    "\n",
    "print(cgpa.items())\n",
    "print(cgpa.keys())\n",
    "print(cgpa.values())"
   ]
  },
  {
   "cell_type": "markdown",
   "id": "1fdee435",
   "metadata": {},
   "source": [
    "# Lab practise  \n",
    "## List:\n",
    "### Make a list of 5 any integers. \n"
   ]
  },
  {
   "cell_type": "code",
   "execution_count": 3,
   "id": "ca19330a",
   "metadata": {},
   "outputs": [],
   "source": [
    "list1=[1,2,3,4,5]\n"
   ]
  },
  {
   "cell_type": "markdown",
   "id": "7ee5d447",
   "metadata": {},
   "source": [
    "### Make a list of that contains student name, last four digits of registration number as integer, CGPA as a float, and a list that contain GPA of all semesters. (Nested List) "
   ]
  },
  {
   "cell_type": "code",
   "execution_count": 4,
   "id": "f935dc63",
   "metadata": {},
   "outputs": [],
   "source": [
    "list1=['ayub',470,3.8,[3.84,3.86]]"
   ]
  },
  {
   "cell_type": "markdown",
   "id": "6e529c2c",
   "metadata": {},
   "source": [
    "### In the above list print the student CGPA. (Index)"
   ]
  },
  {
   "cell_type": "code",
   "execution_count": 5,
   "id": "fe2f1808",
   "metadata": {},
   "outputs": [
    {
     "name": "stdout",
     "output_type": "stream",
     "text": [
      "3.8\n"
     ]
    }
   ],
   "source": [
    "print(list1[2])"
   ]
  },
  {
   "cell_type": "markdown",
   "id": "85aca53c",
   "metadata": {},
   "source": [
    "### Print the list elements using the while loop and use length function. (len)"
   ]
  },
  {
   "cell_type": "code",
   "execution_count": 6,
   "id": "f80795b1",
   "metadata": {},
   "outputs": [
    {
     "name": "stdout",
     "output_type": "stream",
     "text": [
      "ayub\n",
      "470\n",
      "3.8\n",
      "[3.84, 3.86]\n"
     ]
    }
   ],
   "source": [
    "t=0\n",
    "while(t<len(list1)):\n",
    "    print(list1[t])\n",
    "    t=t+1"
   ]
  },
  {
   "cell_type": "markdown",
   "id": "09f95129",
   "metadata": {},
   "source": [
    "### Access the list of all semester GPA using negative indexing"
   ]
  },
  {
   "cell_type": "code",
   "execution_count": 7,
   "id": "0a3faee9",
   "metadata": {},
   "outputs": [
    {
     "name": "stdout",
     "output_type": "stream",
     "text": [
      "[3.84, 3.86]\n"
     ]
    }
   ],
   "source": [
    "print(list1[-1])\n"
   ]
  },
  {
   "cell_type": "markdown",
   "id": "db0db33d",
   "metadata": {},
   "source": [
    "### Make a list of first 20 integers using range function"
   ]
  },
  {
   "cell_type": "code",
   "execution_count": 1,
   "id": "864a21e0",
   "metadata": {},
   "outputs": [
    {
     "name": "stdout",
     "output_type": "stream",
     "text": [
      "[0, 1, 2, 3, 4, 5, 6, 7, 8, 9, 10, 11, 12, 13, 14, 15, 16, 17, 18, 19, 20]\n"
     ]
    }
   ],
   "source": [
    "list2=[]\n",
    "for i in range(21):\n",
    "    list2.append(i)\n",
    "print(list2)\n",
    "    "
   ]
  },
  {
   "cell_type": "markdown",
   "id": "00f732d1",
   "metadata": {},
   "source": [
    "### Make a list of odd integers from 20 to 40 using the range function."
   ]
  },
  {
   "cell_type": "code",
   "execution_count": 9,
   "id": "d6581b8d",
   "metadata": {},
   "outputs": [
    {
     "name": "stdout",
     "output_type": "stream",
     "text": [
      "[1, 3, 5, 7, 9, 11, 13, 15, 17, 19]\n"
     ]
    }
   ],
   "source": [
    "odd=[]\n",
    "for i in range(1,20,2):\n",
    "    odd.append(i)\n",
    "print(odd)\n",
    "    "
   ]
  },
  {
   "cell_type": "markdown",
   "id": "326ae39b",
   "metadata": {},
   "source": [
    "### Consider the student list.\n",
    "Student = [Ibrahim, Husain, Irfan, Ayub, Usman]\n",
    "Use in and not in operator to ensure that the student is in the list or not\n"
   ]
  },
  {
   "cell_type": "code",
   "execution_count": 10,
   "id": "e25bab66",
   "metadata": {},
   "outputs": [
    {
     "name": "stdout",
     "output_type": "stream",
     "text": [
      "True\n",
      "True\n",
      "True\n",
      "True\n",
      "True\n"
     ]
    }
   ],
   "source": [
    "Student = ['Ibrahim', 'Husain', 'Irfan', 'Ayub', 'Usman']\n",
    "print('Ibrahim' in Student)\n",
    "print('Husain' in Student)\n",
    "print('Irfan' in Student)\n",
    "print('Ayub' in Student)\n",
    "print('Usman' in Student)"
   ]
  },
  {
   "cell_type": "markdown",
   "id": "ce724528",
   "metadata": {},
   "source": [
    "### Print all the student list in task 8 using the for loop"
   ]
  },
  {
   "cell_type": "code",
   "execution_count": 11,
   "id": "8db2352e",
   "metadata": {},
   "outputs": [
    {
     "name": "stdout",
     "output_type": "stream",
     "text": [
      "Ibrahim\n",
      "Husain\n",
      "Irfan\n",
      "Ayub\n",
      "Usman\n"
     ]
    }
   ],
   "source": [
    "length=len(Student)\n",
    "for i in range(length):\n",
    "    print(Student[i])"
   ]
  },
  {
   "cell_type": "markdown",
   "id": "04481c53",
   "metadata": {},
   "source": [
    "### Observe what is print, what is the first thing print, what the last thing print. Consider task 8 for student list"
   ]
  },
  {
   "cell_type": "code",
   "execution_count": 12,
   "id": "ef61e7f3",
   "metadata": {},
   "outputs": [
    {
     "name": "stdout",
     "output_type": "stream",
     "text": [
      "['Husain', 'Irfan']\n",
      "['Irfan', 'Ayub']\n"
     ]
    }
   ],
   "source": [
    "print(Student [1:3])\n",
    "print(Student [2:4])"
   ]
  },
  {
   "cell_type": "markdown",
   "id": "6c53c485",
   "metadata": {},
   "source": [
    "# Tuple"
   ]
  },
  {
   "cell_type": "markdown",
   "id": "f7b8cde6",
   "metadata": {},
   "source": [
    "# Make a tuple containing first five letters of English. (definition)\n"
   ]
  },
  {
   "cell_type": "code",
   "execution_count": 7,
   "id": "4e6a1dd1",
   "metadata": {},
   "outputs": [
    {
     "name": "stdout",
     "output_type": "stream",
     "text": [
      "1\n",
      "3\n"
     ]
    }
   ],
   "source": [
    "t=('a','b','c','d','e')\n",
    "print(t.count('b'))\n",
    "print(t.index('d'))"
   ]
  },
  {
   "cell_type": "markdown",
   "id": "7256e5f4",
   "metadata": {},
   "source": [
    "#  Use the index to access the third and last element."
   ]
  },
  {
   "cell_type": "code",
   "execution_count": 14,
   "id": "ea5f3de6",
   "metadata": {},
   "outputs": [
    {
     "name": "stdout",
     "output_type": "stream",
     "text": [
      "c\n",
      "e\n"
     ]
    }
   ],
   "source": [
    "print(t[2])\n",
    "print(t[-1])"
   ]
  },
  {
   "cell_type": "markdown",
   "id": "632438ee",
   "metadata": {},
   "source": [
    "# Dictionary"
   ]
  },
  {
   "cell_type": "code",
   "execution_count": 52,
   "id": "4b28f135",
   "metadata": {},
   "outputs": [
    {
     "name": "stdout",
     "output_type": "stream",
     "text": [
      "{'one': 'aik', 'three': 'teen', 'ten': 'das', 'fifteen': 'pandra'}\n"
     ]
    }
   ],
   "source": [
    "Fd= { 'one': 'aik', 'three':'teen','ten': 'das', 'fifteen' : 'pandra'}\n",
    "print(Fd)"
   ]
  },
  {
   "cell_type": "code",
   "execution_count": 53,
   "id": "e3af6bf2",
   "metadata": {},
   "outputs": [
    {
     "name": "stdout",
     "output_type": "stream",
     "text": [
      "aik\n"
     ]
    }
   ],
   "source": [
    "print(Fd['one'])"
   ]
  },
  {
   "cell_type": "code",
   "execution_count": 54,
   "id": "40eec54d",
   "metadata": {},
   "outputs": [
    {
     "name": "stdout",
     "output_type": "stream",
     "text": [
      "das\n"
     ]
    }
   ],
   "source": [
    "print(Fd['ten'])"
   ]
  },
  {
   "cell_type": "code",
   "execution_count": 55,
   "id": "ae58e175",
   "metadata": {},
   "outputs": [
    {
     "data": {
      "text/plain": [
       "'teen'"
      ]
     },
     "execution_count": 55,
     "metadata": {},
     "output_type": "execute_result"
    }
   ],
   "source": [
    "Fd.pop(\"three\")"
   ]
  },
  {
   "cell_type": "code",
   "execution_count": 56,
   "id": "08cffdfc",
   "metadata": {},
   "outputs": [
    {
     "name": "stdout",
     "output_type": "stream",
     "text": [
      "{'one': 'aik', 'ten': 'das', 'fifteen': 'pandra'}\n"
     ]
    }
   ],
   "source": [
    "print(Fd)"
   ]
  },
  {
   "cell_type": "code",
   "execution_count": 57,
   "id": "843f6f81",
   "metadata": {},
   "outputs": [
    {
     "data": {
      "text/plain": [
       "3"
      ]
     },
     "execution_count": 57,
     "metadata": {},
     "output_type": "execute_result"
    }
   ],
   "source": [
    "len(Fd)"
   ]
  },
  {
   "cell_type": "markdown",
   "id": "3671a99c",
   "metadata": {},
   "source": [
    "# Use the key method and print the list of keys."
   ]
  },
  {
   "cell_type": "code",
   "execution_count": 58,
   "id": "3502d757",
   "metadata": {},
   "outputs": [
    {
     "name": "stdout",
     "output_type": "stream",
     "text": [
      "dict_keys(['one', 'ten', 'fifteen'])\n"
     ]
    }
   ],
   "source": [
    "print(Fd.keys())"
   ]
  },
  {
   "cell_type": "markdown",
   "id": "935d02fe",
   "metadata": {},
   "source": [
    "# Use the value function to print the list of values."
   ]
  },
  {
   "cell_type": "code",
   "execution_count": 59,
   "id": "80614b8d",
   "metadata": {},
   "outputs": [
    {
     "name": "stdout",
     "output_type": "stream",
     "text": [
      "dict_values(['aik', 'das', 'pandra'])\n"
     ]
    }
   ],
   "source": [
    "print(Fd.values())"
   ]
  },
  {
   "cell_type": "markdown",
   "id": "4322ab5e",
   "metadata": {},
   "source": [
    "# Observe the output of Fd.items()."
   ]
  },
  {
   "cell_type": "code",
   "execution_count": 60,
   "id": "478455df",
   "metadata": {},
   "outputs": [
    {
     "name": "stdout",
     "output_type": "stream",
     "text": [
      "dict_items([('one', 'aik'), ('ten', 'das'), ('fifteen', 'pandra')])\n"
     ]
    }
   ],
   "source": [
    "print(Fd.items())"
   ]
  },
  {
   "cell_type": "markdown",
   "id": "afdd047c",
   "metadata": {},
   "source": [
    "# Observe the output Fd.has_key(‘one) and Fd.has_key(‘two’) and think where such type of output will help and required."
   ]
  },
  {
   "cell_type": "code",
   "execution_count": 61,
   "id": "ae71b0ef",
   "metadata": {},
   "outputs": [
    {
     "ename": "AttributeError",
     "evalue": "'dict' object has no attribute 'key'",
     "output_type": "error",
     "traceback": [
      "\u001b[1;31m---------------------------------------------------------------------------\u001b[0m",
      "\u001b[1;31mAttributeError\u001b[0m                            Traceback (most recent call last)",
      "Cell \u001b[1;32mIn[61], line 1\u001b[0m\n\u001b[1;32m----> 1\u001b[0m Fd\u001b[38;5;241m.\u001b[39mkey(\u001b[38;5;124m'\u001b[39m\u001b[38;5;124mone\u001b[39m\u001b[38;5;124m'\u001b[39m)\n",
      "\u001b[1;31mAttributeError\u001b[0m: 'dict' object has no attribute 'key'"
     ]
    }
   ],
   "source": [
    "Fd.key('one')"
   ]
  },
  {
   "cell_type": "markdown",
   "id": "bb20b5fb",
   "metadata": {},
   "source": [
    "# To copy the dictionary, one may use one of the following. Verify by printing copy and alias.\n",
    "# o copy = Fd.copy()\n",
    "# o alias = Fd\n",
    "# o Now let alias[‘three’] = ‘3’, now print alias and observe the result. \n",
    "# o Also let copy[‘three’] = ‘3’, now print copy and observe the result. "
   ]
  },
  {
   "cell_type": "code",
   "execution_count": 62,
   "id": "e81042c1",
   "metadata": {},
   "outputs": [],
   "source": [
    "copy = Fd.copy()"
   ]
  },
  {
   "cell_type": "code",
   "execution_count": 63,
   "id": "fe9f0c23",
   "metadata": {},
   "outputs": [],
   "source": [
    "alias = Fd"
   ]
  },
  {
   "cell_type": "code",
   "execution_count": 73,
   "id": "73a9e2e8",
   "metadata": {},
   "outputs": [],
   "source": [
    "alias['five'] = '5'"
   ]
  },
  {
   "cell_type": "code",
   "execution_count": 74,
   "id": "e61ce6a0",
   "metadata": {},
   "outputs": [
    {
     "name": "stdout",
     "output_type": "stream",
     "text": [
      "{'one': 'aik', 'ten': 'das', 'fifteen': 'pandra', 'three': '3', 'four': '4', 'five': '5'}\n"
     ]
    }
   ],
   "source": [
    "print(alias)"
   ]
  },
  {
   "cell_type": "code",
   "execution_count": 82,
   "id": "7b6ca7e3",
   "metadata": {},
   "outputs": [],
   "source": [
    "copy['five'] = '5'"
   ]
  },
  {
   "cell_type": "code",
   "execution_count": 83,
   "id": "ed30e16b",
   "metadata": {},
   "outputs": [
    {
     "name": "stdout",
     "output_type": "stream",
     "text": [
      "{'one': 'aik', 'ten': 'das', 'fifteen': 'pandra', 'three': '3', 'five': '5'}\n"
     ]
    }
   ],
   "source": [
    "print(copy)"
   ]
  },
  {
   "cell_type": "markdown",
   "id": "8acdb820",
   "metadata": {},
   "source": [
    "# encouraging"
   ]
  },
  {
   "cell_type": "code",
   "execution_count": 77,
   "id": "5e622e58",
   "metadata": {},
   "outputs": [],
   "source": [
    "encourage = ['span',1,['ayub','ibrahim','mashal'],[1,2,3]]"
   ]
  },
  {
   "cell_type": "code",
   "execution_count": 78,
   "id": "bb6fcf5c",
   "metadata": {},
   "outputs": [
    {
     "data": {
      "text/plain": [
       "2"
      ]
     },
     "execution_count": 78,
     "metadata": {},
     "output_type": "execute_result"
    }
   ],
   "source": [
    "encourage.index(['ayub','ibrahim','mashal'])"
   ]
  },
  {
   "cell_type": "code",
   "execution_count": 79,
   "id": "b8ee422d",
   "metadata": {},
   "outputs": [
    {
     "name": "stdout",
     "output_type": "stream",
     "text": [
      "span\n",
      "1\n",
      "['ayub', 'ibrahim', 'mashal']\n",
      "[1, 2, 3]\n"
     ]
    }
   ],
   "source": [
    "for i in encourage:\n",
    "    print(i)"
   ]
  },
  {
   "cell_type": "code",
   "execution_count": 87,
   "id": "abfaf1b0",
   "metadata": {},
   "outputs": [
    {
     "data": {
      "text/plain": [
       "4"
      ]
     },
     "execution_count": 87,
     "metadata": {},
     "output_type": "execute_result"
    }
   ],
   "source": [
    "len(encourage)"
   ]
  },
  {
   "cell_type": "code",
   "execution_count": 97,
   "id": "9e7b7d83",
   "metadata": {},
   "outputs": [],
   "source": [
    "encourage.reverse()"
   ]
  },
  {
   "cell_type": "code",
   "execution_count": 98,
   "id": "326853b0",
   "metadata": {},
   "outputs": [
    {
     "data": {
      "text/plain": [
       "[[1, 2, 3], ['ayub', 'ibrahim', 'mashal'], 1, 'span']"
      ]
     },
     "execution_count": 98,
     "metadata": {},
     "output_type": "execute_result"
    }
   ],
   "source": [
    "encourage"
   ]
  },
  {
   "cell_type": "code",
   "execution_count": 1,
   "id": "2691b906",
   "metadata": {},
   "outputs": [
    {
     "ename": "KeyError",
     "evalue": "'candy'",
     "output_type": "error",
     "traceback": [
      "\u001b[1;31m---------------------------------------------------------------------------\u001b[0m",
      "\u001b[1;31mKeyError\u001b[0m                                  Traceback (most recent call last)",
      "Cell \u001b[1;32mIn[1], line 2\u001b[0m\n\u001b[0;32m      1\u001b[0m stuff \u001b[38;5;241m=\u001b[39m \u001b[38;5;28mdict\u001b[39m()\n\u001b[1;32m----> 2\u001b[0m \u001b[38;5;28mprint\u001b[39m(stuff[\u001b[38;5;124m'\u001b[39m\u001b[38;5;124mcandy\u001b[39m\u001b[38;5;124m'\u001b[39m])\n",
      "\u001b[1;31mKeyError\u001b[0m: 'candy'"
     ]
    }
   ],
   "source": [
    "stuff = dict()\n",
    "print(stuff['candy'])"
   ]
  },
  {
   "cell_type": "code",
   "execution_count": 2,
   "id": "7526727f",
   "metadata": {},
   "outputs": [
    {
     "name": "stdout",
     "output_type": "stream",
     "text": [
      "-1\n"
     ]
    }
   ],
   "source": [
    "stuff = dict()\n",
    "print(stuff.get('candy',-1))"
   ]
  },
  {
   "cell_type": "code",
   "execution_count": null,
   "id": "a39117dc",
   "metadata": {},
   "outputs": [],
   "source": []
  }
 ],
 "metadata": {
  "kernelspec": {
   "display_name": "Python 3 (ipykernel)",
   "language": "python",
   "name": "python3"
  },
  "language_info": {
   "codemirror_mode": {
    "name": "ipython",
    "version": 3
   },
   "file_extension": ".py",
   "mimetype": "text/x-python",
   "name": "python",
   "nbconvert_exporter": "python",
   "pygments_lexer": "ipython3",
   "version": "3.11.4"
  }
 },
 "nbformat": 4,
 "nbformat_minor": 5
}
