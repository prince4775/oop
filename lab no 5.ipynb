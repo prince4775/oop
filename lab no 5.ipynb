{
 "cells": [
  {
   "cell_type": "markdown",
   "id": "e1a35d34",
   "metadata": {},
   "source": [
    "# Lab Work Tasks:\n",
    "### The __init__ method is run every time a new Dog object is created and tells Python what the initial state—that is, the initial values of the object’s properties—of the object should be.\n",
    "### 2.Consider the following class. When a class defines an __init__() method, class instantiation automatically invokes __init__() for the newly created class instance.\n"
   ]
  },
  {
   "cell_type": "code",
   "execution_count": 3,
   "id": "1ed0b3f4",
   "metadata": {},
   "outputs": [],
   "source": [
    "class MyClass:\n",
    "    \"\"\"A simple example class\"\"\"\n",
    "    i = 12345\n",
    "    def __init__(self):\n",
    "        self.data = 11\n",
    "    def f(self):\n",
    "        return 'hello world'\n"
   ]
  },
  {
   "cell_type": "markdown",
   "id": "5b47f5af",
   "metadata": {},
   "source": [
    "## a.Let's define an instance of the class and print the data attribute of class of it. "
   ]
  },
  {
   "cell_type": "code",
   "execution_count": 26,
   "id": "78ed7576",
   "metadata": {},
   "outputs": [],
   "source": [
    "obj = MyClass()"
   ]
  },
  {
   "cell_type": "code",
   "execution_count": 27,
   "id": "7131232e",
   "metadata": {},
   "outputs": [
    {
     "data": {
      "text/plain": [
       "12345"
      ]
     },
     "execution_count": 27,
     "metadata": {},
     "output_type": "execute_result"
    }
   ],
   "source": [
    "obj.i"
   ]
  },
  {
   "cell_type": "markdown",
   "id": "7af123d1",
   "metadata": {},
   "source": [
    "### b.\tLet pass a value in the object instantiation step like obj = MyClass(10)."
   ]
  },
  {
   "cell_type": "markdown",
   "id": "698d6521",
   "metadata": {},
   "source": [
    "### it will gives us error because in the init we will not define the data there is only one argument which is the self but we were given two arguments one is the self and the other is the data which pass to  the class"
   ]
  },
  {
   "cell_type": "code",
   "execution_count": 28,
   "id": "d700152a",
   "metadata": {},
   "outputs": [
    {
     "ename": "TypeError",
     "evalue": "MyClass.__init__() takes 1 positional argument but 2 were given",
     "output_type": "error",
     "traceback": [
      "\u001b[1;31m---------------------------------------------------------------------------\u001b[0m",
      "\u001b[1;31mTypeError\u001b[0m                                 Traceback (most recent call last)",
      "Cell \u001b[1;32mIn[28], line 1\u001b[0m\n\u001b[1;32m----> 1\u001b[0m obj \u001b[38;5;241m=\u001b[39m MyClass(\u001b[38;5;241m10\u001b[39m)\n",
      "\u001b[1;31mTypeError\u001b[0m: MyClass.__init__() takes 1 positional argument but 2 were given"
     ]
    }
   ],
   "source": [
    "obj = MyClass(10)"
   ]
  },
  {
   "cell_type": "markdown",
   "id": "536aa70f",
   "metadata": {},
   "source": [
    "# c.Modify the __init__ method as: "
   ]
  },
  {
   "cell_type": "code",
   "execution_count": 29,
   "id": "7d5c7577",
   "metadata": {},
   "outputs": [],
   "source": [
    "class myclass:\n",
    "    def __init__(self, dt):\n",
    "        self.data = dt\n"
   ]
  },
  {
   "cell_type": "markdown",
   "id": "78ea46e7",
   "metadata": {},
   "source": [
    "### Now run the obj = MyClass(10)."
   ]
  },
  {
   "cell_type": "code",
   "execution_count": 32,
   "id": "d425bca2",
   "metadata": {},
   "outputs": [
    {
     "data": {
      "text/plain": [
       "10"
      ]
     },
     "execution_count": 32,
     "metadata": {},
     "output_type": "execute_result"
    }
   ],
   "source": [
    "obj = myclass(10)\n",
    "obj.data"
   ]
  },
  {
   "cell_type": "markdown",
   "id": "779f28eb",
   "metadata": {},
   "source": [
    "# 3.Dog class"
   ]
  },
  {
   "cell_type": "code",
   "execution_count": 15,
   "id": "6ea1e0f4",
   "metadata": {},
   "outputs": [],
   "source": [
    "class Dog:\n",
    "    def __init__(self, name, age):\n",
    "        self.name = name \n",
    "        self.age = age\n"
   ]
  },
  {
   "cell_type": "markdown",
   "id": "317123aa",
   "metadata": {},
   "source": [
    "### a.To instantiate an object, type the name of the class, in the original CamelCase, followed by parentheses containing any values that must be passed to the class’s .__init__() method."
   ]
  },
  {
   "cell_type": "code",
   "execution_count": 16,
   "id": "11a670d3",
   "metadata": {},
   "outputs": [],
   "source": [
    "#Run the following code. \n",
    "miles = Dog(\"Miles\", 4)\n"
   ]
  },
  {
   "cell_type": "markdown",
   "id": "1ee6a707",
   "metadata": {},
   "source": [
    "### b.Make another object of the class Dog. The object's name is buddy while the dog's name is Buddy and age 9. "
   ]
  },
  {
   "cell_type": "code",
   "execution_count": 20,
   "id": "f1a48c09",
   "metadata": {},
   "outputs": [],
   "source": [
    "buddy = Dog('buddy',9)"
   ]
  },
  {
   "cell_type": "markdown",
   "id": "986a242e",
   "metadata": {},
   "source": [
    "### c.Print(miles.name)"
   ]
  },
  {
   "cell_type": "code",
   "execution_count": 21,
   "id": "ae6cc6ae",
   "metadata": {},
   "outputs": [
    {
     "name": "stdout",
     "output_type": "stream",
     "text": [
      "Miles\n"
     ]
    }
   ],
   "source": [
    "print(miles.name)"
   ]
  },
  {
   "cell_type": "markdown",
   "id": "754fbaa2",
   "metadata": {},
   "source": [
    "### d.Print(miles.age)"
   ]
  },
  {
   "cell_type": "code",
   "execution_count": 22,
   "id": "14c51eeb",
   "metadata": {},
   "outputs": [
    {
     "name": "stdout",
     "output_type": "stream",
     "text": [
      "4\n"
     ]
    }
   ],
   "source": [
    "print(miles.age)"
   ]
  },
  {
   "cell_type": "markdown",
   "id": "dca4074a",
   "metadata": {},
   "source": [
    "### e.\tLet if you enter the age of miles wrong and you are interested in amending it with 7, which is the correct age. You can modify it. Please modify it. After modification print the age of miles and buddy. "
   ]
  },
  {
   "cell_type": "code",
   "execution_count": 39,
   "id": "2d2683f4",
   "metadata": {},
   "outputs": [],
   "source": [
    "miles.age = 7"
   ]
  },
  {
   "cell_type": "code",
   "execution_count": 40,
   "id": "a101cb96",
   "metadata": {},
   "outputs": [
    {
     "name": "stdout",
     "output_type": "stream",
     "text": [
      "7\n"
     ]
    }
   ],
   "source": [
    "print(miles.age)"
   ]
  },
  {
   "cell_type": "markdown",
   "id": "2259d2b4",
   "metadata": {},
   "source": [
    "## f.\tPrint all the class and instance attributes of both objects and observe."
   ]
  },
  {
   "cell_type": "code",
   "execution_count": 49,
   "id": "20d26973",
   "metadata": {},
   "outputs": [
    {
     "name": "stdout",
     "output_type": "stream",
     "text": [
      "Miles\n"
     ]
    }
   ],
   "source": [
    "print(miles.name)"
   ]
  },
  {
   "cell_type": "code",
   "execution_count": 47,
   "id": "801948e5",
   "metadata": {},
   "outputs": [
    {
     "name": "stdout",
     "output_type": "stream",
     "text": [
      "7\n"
     ]
    }
   ],
   "source": [
    "print(miles.age)"
   ]
  },
  {
   "cell_type": "code",
   "execution_count": 37,
   "id": "dba5fa5f",
   "metadata": {},
   "outputs": [
    {
     "name": "stdout",
     "output_type": "stream",
     "text": [
      "buddy\n"
     ]
    }
   ],
   "source": [
    "print(buddy.name)"
   ]
  },
  {
   "cell_type": "code",
   "execution_count": 38,
   "id": "716b2e5b",
   "metadata": {},
   "outputs": [
    {
     "name": "stdout",
     "output_type": "stream",
     "text": [
      "9\n"
     ]
    }
   ],
   "source": [
    "print(buddy.age)"
   ]
  },
  {
   "cell_type": "markdown",
   "id": "378fb70b",
   "metadata": {},
   "source": [
    "## we will print the all atributes od the both objects so the age of the miles is changed because we were changed it to the 7 from the 4"
   ]
  },
  {
   "cell_type": "markdown",
   "id": "febb589a",
   "metadata": {},
   "source": [
    "### g.\tMake a new instance and print its attributes. "
   ]
  },
  {
   "cell_type": "code",
   "execution_count": 42,
   "id": "874b5b7b",
   "metadata": {},
   "outputs": [],
   "source": [
    "jemi = Dog('jemi',4)"
   ]
  },
  {
   "cell_type": "code",
   "execution_count": 43,
   "id": "e3845411",
   "metadata": {},
   "outputs": [
    {
     "name": "stdout",
     "output_type": "stream",
     "text": [
      "jemi\n"
     ]
    }
   ],
   "source": [
    "print(jemi.name)"
   ]
  },
  {
   "cell_type": "code",
   "execution_count": 44,
   "id": "825a3641",
   "metadata": {},
   "outputs": [
    {
     "name": "stdout",
     "output_type": "stream",
     "text": [
      "4\n"
     ]
    }
   ],
   "source": [
    "print(jemi.age)"
   ]
  },
  {
   "cell_type": "markdown",
   "id": "aa92c015",
   "metadata": {},
   "source": [
    "### h.\tRun: miles = Dog(\"Miles\")"
   ]
  },
  {
   "cell_type": "markdown",
   "id": "561f53fb",
   "metadata": {},
   "source": [
    "## it will give us an error because the dog class required 3 arguments 1 is the self means the object by itself, the other the object name and the 3rd one is the object age which were we given in the init method now it is mandatory to pass the name and age of the object through the init method but we will gives it only one argument which  the name"
   ]
  },
  {
   "cell_type": "code",
   "execution_count": 45,
   "id": "d14b3afc",
   "metadata": {},
   "outputs": [
    {
     "ename": "TypeError",
     "evalue": "Dog.__init__() missing 1 required positional argument: 'age'",
     "output_type": "error",
     "traceback": [
      "\u001b[1;31m---------------------------------------------------------------------------\u001b[0m",
      "\u001b[1;31mTypeError\u001b[0m                                 Traceback (most recent call last)",
      "Cell \u001b[1;32mIn[45], line 1\u001b[0m\n\u001b[1;32m----> 1\u001b[0m miles \u001b[38;5;241m=\u001b[39m Dog(\u001b[38;5;124m\"\u001b[39m\u001b[38;5;124mMiles\u001b[39m\u001b[38;5;124m\"\u001b[39m)\n",
      "\u001b[1;31mTypeError\u001b[0m: Dog.__init__() missing 1 required positional argument: 'age'"
     ]
    }
   ],
   "source": [
    "miles = Dog(\"Miles\")"
   ]
  },
  {
   "cell_type": "markdown",
   "id": "c40eb6e5",
   "metadata": {},
   "source": [
    "### i.\tRun: miles = Dog(4)"
   ]
  },
  {
   "cell_type": "markdown",
   "id": "8f3bd6c3",
   "metadata": {},
   "source": [
    "### it will also gives us the error because we will pass the only one argument which the age but the name is missing which is not passed"
   ]
  },
  {
   "cell_type": "code",
   "execution_count": 50,
   "id": "8fbcf76a",
   "metadata": {},
   "outputs": [
    {
     "ename": "TypeError",
     "evalue": "Dog.__init__() missing 1 required positional argument: 'age'",
     "output_type": "error",
     "traceback": [
      "\u001b[1;31m---------------------------------------------------------------------------\u001b[0m",
      "\u001b[1;31mTypeError\u001b[0m                                 Traceback (most recent call last)",
      "Cell \u001b[1;32mIn[50], line 1\u001b[0m\n\u001b[1;32m----> 1\u001b[0m miles \u001b[38;5;241m=\u001b[39m Dog(\u001b[38;5;241m4\u001b[39m)\n",
      "\u001b[1;31mTypeError\u001b[0m: Dog.__init__() missing 1 required positional argument: 'age'"
     ]
    }
   ],
   "source": [
    " miles = Dog(4)"
   ]
  },
  {
   "cell_type": "markdown",
   "id": "e2845310",
   "metadata": {},
   "source": [
    "### j.\tRun Run: Dog(\"Miles\", 4)"
   ]
  },
  {
   "cell_type": "code",
   "execution_count": 51,
   "id": "a890cc7d",
   "metadata": {},
   "outputs": [
    {
     "data": {
      "text/plain": [
       "<__main__.Dog at 0x235d432c5d0>"
      ]
     },
     "execution_count": 51,
     "metadata": {},
     "output_type": "execute_result"
    }
   ],
   "source": [
    "Dog(\"Miles\", 4)"
   ]
  },
  {
   "cell_type": "markdown",
   "id": "d95b6ee8",
   "metadata": {},
   "source": [
    "# 4.\tDog \n",
    "\n"
   ]
  },
  {
   "cell_type": "code",
   "execution_count": 52,
   "id": "4595d771",
   "metadata": {},
   "outputs": [],
   "source": [
    "class Dog:\n",
    "    # Class Attribute\n",
    "    species = \"Canis familiaris\"\n",
    "    def __init__(self, name, age):\n",
    "        self.name = name\n",
    "        self.age = age"
   ]
  },
  {
   "cell_type": "markdown",
   "id": "77a8e54f",
   "metadata": {},
   "source": [
    "### a.\tMake two objects of the Dog class. "
   ]
  },
  {
   "cell_type": "code",
   "execution_count": 64,
   "id": "7e6e637c",
   "metadata": {},
   "outputs": [],
   "source": [
    "miles = Dog('miles',23)"
   ]
  },
  {
   "cell_type": "code",
   "execution_count": 65,
   "id": "ad462eb8",
   "metadata": {},
   "outputs": [],
   "source": [
    "buddy = Dog('buddy',19)"
   ]
  },
  {
   "cell_type": "markdown",
   "id": "b56efb19",
   "metadata": {},
   "source": [
    "### b.\tPrint the class attribute of both objects. "
   ]
  },
  {
   "cell_type": "code",
   "execution_count": 66,
   "id": "1f46dd83",
   "metadata": {},
   "outputs": [
    {
     "name": "stdout",
     "output_type": "stream",
     "text": [
      "The name of the obj1 is miles and the age is 23\n"
     ]
    }
   ],
   "source": [
    "print(f'The name of the obj1 is {miles.name} and the age is {miles.age}')"
   ]
  },
  {
   "cell_type": "code",
   "execution_count": 67,
   "id": "49e0e1a9",
   "metadata": {},
   "outputs": [
    {
     "name": "stdout",
     "output_type": "stream",
     "text": [
      "The name of the obj2 is buddy and the age is 19\n"
     ]
    }
   ],
   "source": [
    "print(f'The name of the obj2 is {buddy.name} and the age is {buddy.age}')"
   ]
  },
  {
   "cell_type": "markdown",
   "id": "ac4260c1",
   "metadata": {},
   "source": [
    "### c.\tRun this code: buddy.species == miles.species"
   ]
  },
  {
   "cell_type": "markdown",
   "id": "e589da5f",
   "metadata": {},
   "source": [
    "### It will give true because of the both dogs are in the same class"
   ]
  },
  {
   "cell_type": "code",
   "execution_count": 70,
   "id": "7f57b663",
   "metadata": {},
   "outputs": [
    {
     "data": {
      "text/plain": [
       "True"
      ]
     },
     "execution_count": 70,
     "metadata": {},
     "output_type": "execute_result"
    }
   ],
   "source": [
    " buddy.species == miles.species"
   ]
  },
  {
   "cell_type": "markdown",
   "id": "3ec1caba",
   "metadata": {},
   "source": [
    "### d.\tModify the class attribute by Felis silvestris. Now print it for both instances. "
   ]
  },
  {
   "cell_type": "markdown",
   "id": "6fee6547",
   "metadata": {},
   "source": [
    "### so we will change the class atributes the from the Canis familiaris to the Felis silvestris"
   ]
  },
  {
   "cell_type": "code",
   "execution_count": 71,
   "id": "c7f29e11",
   "metadata": {},
   "outputs": [],
   "source": [
    "Dog.species = 'Felis silvestris'"
   ]
  },
  {
   "cell_type": "code",
   "execution_count": 72,
   "id": "fe973280",
   "metadata": {},
   "outputs": [
    {
     "name": "stdout",
     "output_type": "stream",
     "text": [
      "Felis silvestris\n"
     ]
    }
   ],
   "source": [
    "print(buddy.species)"
   ]
  },
  {
   "cell_type": "code",
   "execution_count": 74,
   "id": "3607ac9c",
   "metadata": {},
   "outputs": [
    {
     "name": "stdout",
     "output_type": "stream",
     "text": [
      "Felis silvestris\n"
     ]
    }
   ],
   "source": [
    "print(miles.species)"
   ]
  },
  {
   "cell_type": "markdown",
   "id": "2dc179a3",
   "metadata": {},
   "source": [
    "### e.\tAgain Run this code: buddy.species == miles.species"
   ]
  },
  {
   "cell_type": "code",
   "execution_count": 75,
   "id": "77082c5b",
   "metadata": {},
   "outputs": [
    {
     "data": {
      "text/plain": [
       "True"
      ]
     },
     "execution_count": 75,
     "metadata": {},
     "output_type": "execute_result"
    }
   ],
   "source": [
    " buddy.species == miles.species"
   ]
  },
  {
   "cell_type": "markdown",
   "id": "a9edb7dd",
   "metadata": {},
   "source": [
    "### 5.\tConsider the complex number class. "
   ]
  },
  {
   "cell_type": "code",
   "execution_count": 76,
   "id": "53e049b1",
   "metadata": {},
   "outputs": [],
   "source": [
    "class Complex:\n",
    "    def __init__(self, realpart, imagpart):\n",
    "        self.r = realpart\n",
    "        self.i = imagpart\n"
   ]
  },
  {
   "cell_type": "markdown",
   "id": "e1ba3aed",
   "metadata": {},
   "source": [
    "### f.\tDefine an object x = Complex"
   ]
  },
  {
   "cell_type": "code",
   "execution_count": 80,
   "id": "82e877fa",
   "metadata": {},
   "outputs": [
    {
     "data": {
      "text/plain": [
       "__main__.Complex"
      ]
     },
     "execution_count": 80,
     "metadata": {},
     "output_type": "execute_result"
    }
   ],
   "source": [
    "x = Complex\n",
    "x\n"
   ]
  },
  {
   "cell_type": "markdown",
   "id": "bf1ec530",
   "metadata": {},
   "source": [
    "### g.\tDefine an object x = Complex(3.0)"
   ]
  },
  {
   "cell_type": "code",
   "execution_count": 81,
   "id": "3b4cd909",
   "metadata": {},
   "outputs": [
    {
     "ename": "TypeError",
     "evalue": "Complex.__init__() missing 1 required positional argument: 'imagpart'",
     "output_type": "error",
     "traceback": [
      "\u001b[1;31m---------------------------------------------------------------------------\u001b[0m",
      "\u001b[1;31mTypeError\u001b[0m                                 Traceback (most recent call last)",
      "Cell \u001b[1;32mIn[81], line 1\u001b[0m\n\u001b[1;32m----> 1\u001b[0m x \u001b[38;5;241m=\u001b[39m Complex(\u001b[38;5;241m3.0\u001b[39m)\n",
      "\u001b[1;31mTypeError\u001b[0m: Complex.__init__() missing 1 required positional argument: 'imagpart'"
     ]
    }
   ],
   "source": [
    " x = Complex(3.0)"
   ]
  },
  {
   "cell_type": "markdown",
   "id": "6595e5be",
   "metadata": {},
   "source": [
    "### h.\tDefine an object x = Complex(3.0, -4.5)"
   ]
  },
  {
   "cell_type": "code",
   "execution_count": 86,
   "id": "2d2bdd05",
   "metadata": {},
   "outputs": [],
   "source": [
    "x = Complex(3.0, -4.5)"
   ]
  },
  {
   "cell_type": "markdown",
   "id": "44b67f14",
   "metadata": {},
   "source": [
    "### i.\tPrint (x.r, x.i)"
   ]
  },
  {
   "cell_type": "code",
   "execution_count": 83,
   "id": "37eb0dc8",
   "metadata": {},
   "outputs": [
    {
     "name": "stdout",
     "output_type": "stream",
     "text": [
      "3.0 -4.5\n"
     ]
    }
   ],
   "source": [
    "print (x.r, x.i)"
   ]
  },
  {
   "cell_type": "markdown",
   "id": "7269f0c9",
   "metadata": {},
   "source": [
    "### j.\tDefine an appropriate print method that can effectively print the complex number. Use it to print x. "
   ]
  },
  {
   "cell_type": "code",
   "execution_count": 153,
   "id": "68023093",
   "metadata": {},
   "outputs": [],
   "source": [
    "class Complex:\n",
    "    def __init__(self, realpart, imagpart):\n",
    "        self.r = realpart\n",
    "        self.i = imagpart\n",
    "    def f(self):\n",
    "        return f'{self.r} + {self.i}i'\n"
   ]
  },
  {
   "cell_type": "code",
   "execution_count": 154,
   "id": "335621b5",
   "metadata": {},
   "outputs": [],
   "source": [
    "x = Complex(3.0, -4.5)"
   ]
  },
  {
   "cell_type": "code",
   "execution_count": 157,
   "id": "9933e236",
   "metadata": {},
   "outputs": [
    {
     "data": {
      "text/plain": [
       "'3.0 + -4.5i'"
      ]
     },
     "execution_count": 157,
     "metadata": {},
     "output_type": "execute_result"
    }
   ],
   "source": [
    "x.f()"
   ]
  },
  {
   "cell_type": "markdown",
   "id": "92a928d6",
   "metadata": {},
   "source": [
    "### 6.\tConsider the following class example"
   ]
  },
  {
   "cell_type": "code",
   "execution_count": 90,
   "id": "8e2fee6b",
   "metadata": {},
   "outputs": [],
   "source": [
    "class Totyota:\n",
    "    def __init__(self,name,color,model):\n",
    "        self.name=name\n",
    "        self.color=color\n",
    "        self.model=model\n",
    "\n",
    "    def printdetails(self):\n",
    "        print(f\"Car Company is: {self.name},Car Color is :{self.color},Car model is {self.model} \")\n"
   ]
  },
  {
   "cell_type": "markdown",
   "id": "d1e74ddf",
   "metadata": {},
   "source": [
    "### a.\tMake an object of the class company =Totyota('Corolla')"
   ]
  },
  {
   "cell_type": "code",
   "execution_count": 91,
   "id": "7c85f0a9",
   "metadata": {},
   "outputs": [
    {
     "ename": "TypeError",
     "evalue": "Totyota.__init__() missing 2 required positional arguments: 'color' and 'model'",
     "output_type": "error",
     "traceback": [
      "\u001b[1;31m---------------------------------------------------------------------------\u001b[0m",
      "\u001b[1;31mTypeError\u001b[0m                                 Traceback (most recent call last)",
      "Cell \u001b[1;32mIn[91], line 1\u001b[0m\n\u001b[1;32m----> 1\u001b[0m company \u001b[38;5;241m=\u001b[39mTotyota(\u001b[38;5;124m'\u001b[39m\u001b[38;5;124mCorolla\u001b[39m\u001b[38;5;124m'\u001b[39m)\n",
      "\u001b[1;31mTypeError\u001b[0m: Totyota.__init__() missing 2 required positional arguments: 'color' and 'model'"
     ]
    }
   ],
   "source": [
    "company =Totyota('Corolla')"
   ]
  },
  {
   "cell_type": "markdown",
   "id": "0bcb7330",
   "metadata": {},
   "source": [
    "### b.\tMake an object of the class company =Totyota('Corolla','Red')"
   ]
  },
  {
   "cell_type": "code",
   "execution_count": 92,
   "id": "6cd9ca00",
   "metadata": {},
   "outputs": [
    {
     "ename": "TypeError",
     "evalue": "Totyota.__init__() missing 1 required positional argument: 'model'",
     "output_type": "error",
     "traceback": [
      "\u001b[1;31m---------------------------------------------------------------------------\u001b[0m",
      "\u001b[1;31mTypeError\u001b[0m                                 Traceback (most recent call last)",
      "Cell \u001b[1;32mIn[92], line 1\u001b[0m\n\u001b[1;32m----> 1\u001b[0m company \u001b[38;5;241m=\u001b[39mTotyota(\u001b[38;5;124m'\u001b[39m\u001b[38;5;124mCorolla\u001b[39m\u001b[38;5;124m'\u001b[39m,\u001b[38;5;124m'\u001b[39m\u001b[38;5;124mRed\u001b[39m\u001b[38;5;124m'\u001b[39m)\n",
      "\u001b[1;31mTypeError\u001b[0m: Totyota.__init__() missing 1 required positional argument: 'model'"
     ]
    }
   ],
   "source": [
    "company =Totyota('Corolla','Red')"
   ]
  },
  {
   "cell_type": "markdown",
   "id": "c59b717c",
   "metadata": {},
   "source": [
    "### c.\tMake an object of the class company =Totyota('Corolla','Red',2014)"
   ]
  },
  {
   "cell_type": "code",
   "execution_count": 93,
   "id": "07048b7f",
   "metadata": {},
   "outputs": [],
   "source": [
    "company =Totyota('Corolla','Red',2014)"
   ]
  },
  {
   "cell_type": "markdown",
   "id": "cdfbc94c",
   "metadata": {},
   "source": [
    "### d.\tPrint the details using the function printdetails."
   ]
  },
  {
   "cell_type": "code",
   "execution_count": 152,
   "id": "89af2570",
   "metadata": {},
   "outputs": [
    {
     "name": "stdout",
     "output_type": "stream",
     "text": [
      "Car Company is: Corolla,Car Color is :Red,Car model is 2014 \n"
     ]
    }
   ],
   "source": [
    "company.printdetails()"
   ]
  },
  {
   "cell_type": "markdown",
   "id": "839e7503",
   "metadata": {},
   "source": [
    "### 7.\tConsider the following class example."
   ]
  },
  {
   "cell_type": "code",
   "execution_count": 160,
   "id": "5db44905",
   "metadata": {},
   "outputs": [],
   "source": [
    "class Employee:\n",
    "    def __init__(self,name,role,salary):\n",
    "        self.name=name\n",
    "        self.role=role\n",
    "        self.salary=salary\n",
    "\n",
    "    def printdetails(self):\n",
    "        print( f\"Employee name: {self.name} Employee role is :{self.role} Employee salary  is {self.salary} \" )\n"
   ]
  },
  {
   "cell_type": "markdown",
   "id": "24bf0028",
   "metadata": {},
   "source": [
    "### a.\tMake an object of the class Employee = Employee (‘Ali’)"
   ]
  },
  {
   "cell_type": "code",
   "execution_count": 161,
   "id": "37202f16",
   "metadata": {},
   "outputs": [
    {
     "ename": "TypeError",
     "evalue": "Employee.__init__() missing 2 required positional arguments: 'role' and 'salary'",
     "output_type": "error",
     "traceback": [
      "\u001b[1;31m---------------------------------------------------------------------------\u001b[0m",
      "\u001b[1;31mTypeError\u001b[0m                                 Traceback (most recent call last)",
      "Cell \u001b[1;32mIn[161], line 1\u001b[0m\n\u001b[1;32m----> 1\u001b[0m Employee1 \u001b[38;5;241m=\u001b[39m Employee(\u001b[38;5;124m'\u001b[39m\u001b[38;5;124mAli\u001b[39m\u001b[38;5;124m'\u001b[39m)\n",
      "\u001b[1;31mTypeError\u001b[0m: Employee.__init__() missing 2 required positional arguments: 'role' and 'salary'"
     ]
    }
   ],
   "source": [
    "Employee1 = Employee('Ali')"
   ]
  },
  {
   "cell_type": "markdown",
   "id": "67ab0301",
   "metadata": {},
   "source": [
    "### b.\tMake an object of the class Employee = Employee (\"Ali\",\"Instructor)"
   ]
  },
  {
   "cell_type": "code",
   "execution_count": 163,
   "id": "d60dfb29",
   "metadata": {},
   "outputs": [
    {
     "ename": "TypeError",
     "evalue": "Employee.__init__() missing 1 required positional argument: 'salary'",
     "output_type": "error",
     "traceback": [
      "\u001b[1;31m---------------------------------------------------------------------------\u001b[0m",
      "\u001b[1;31mTypeError\u001b[0m                                 Traceback (most recent call last)",
      "Cell \u001b[1;32mIn[163], line 1\u001b[0m\n\u001b[1;32m----> 1\u001b[0m Employee2 \u001b[38;5;241m=\u001b[39m Employee (\u001b[38;5;124m\"\u001b[39m\u001b[38;5;124mAli\u001b[39m\u001b[38;5;124m\"\u001b[39m,\u001b[38;5;124m\"\u001b[39m\u001b[38;5;124mInstructor\u001b[39m\u001b[38;5;124m\"\u001b[39m)\n",
      "\u001b[1;31mTypeError\u001b[0m: Employee.__init__() missing 1 required positional argument: 'salary'"
     ]
    }
   ],
   "source": [
    "Employee2 = Employee (\"Ali\",\"Instructor\")"
   ]
  },
  {
   "cell_type": "markdown",
   "id": "e2b2631e",
   "metadata": {},
   "source": [
    "### c.\tMake an object of the class Employee = Employee (\"Ali\",\"Instructor\",4000)"
   ]
  },
  {
   "cell_type": "code",
   "execution_count": 164,
   "id": "0e7382c4",
   "metadata": {},
   "outputs": [],
   "source": [
    "Employee3 = Employee (\"Ali\",\"Instructor\",4000)"
   ]
  },
  {
   "cell_type": "markdown",
   "id": "221918f4",
   "metadata": {},
   "source": [
    "### d.\tPrint the details using the function printdetails"
   ]
  },
  {
   "cell_type": "code",
   "execution_count": 166,
   "id": "91307b14",
   "metadata": {},
   "outputs": [
    {
     "name": "stdout",
     "output_type": "stream",
     "text": [
      "Employee name: Ali Employee role is :Instructor Employee salary  is 4000 \n"
     ]
    }
   ],
   "source": [
    "Employee3.printdetails()"
   ]
  },
  {
   "cell_type": "markdown",
   "id": "b02ebceb",
   "metadata": {},
   "source": [
    "### 8.\tUnderstand the following code. The complete code is given just run and play with the code. "
   ]
  },
  {
   "cell_type": "code",
   "execution_count": 167,
   "id": "c8c3d7de",
   "metadata": {},
   "outputs": [],
   "source": [
    "class Circle:\n",
    "    def __init__(self,radius):\n",
    "        self.radius=radius\n"
   ]
  },
  {
   "cell_type": "markdown",
   "id": "6d10a104",
   "metadata": {},
   "source": [
    "### Now make some object."
   ]
  },
  {
   "cell_type": "code",
   "execution_count": 107,
   "id": "646925e4",
   "metadata": {},
   "outputs": [],
   "source": [
    "circle1=Circle(4)\n",
    "circle2=Circle(8)\n",
    "circle3=Circle(6)\n"
   ]
  },
  {
   "cell_type": "markdown",
   "id": "9af46386",
   "metadata": {},
   "source": [
    "### a.\tPrint radius using dot operator"
   ]
  },
  {
   "cell_type": "code",
   "execution_count": 108,
   "id": "36e7ced2",
   "metadata": {},
   "outputs": [
    {
     "name": "stdout",
     "output_type": "stream",
     "text": [
      "Circle1 radius is  4\n",
      "Circle 2 radius is 8\n",
      "Circle3 radius is  6\n"
     ]
    }
   ],
   "source": [
    "print(\"Circle1 radius is \",circle1.radius)\n",
    "print(\"Circle 2 radius is\",circle2.radius)\n",
    "print(\"Circle3 radius is \",circle3.radius)\n"
   ]
  },
  {
   "cell_type": "markdown",
   "id": "09430b2d",
   "metadata": {},
   "source": [
    "### b.\tPrint the object directly like print(Circle1)"
   ]
  },
  {
   "cell_type": "code",
   "execution_count": 109,
   "id": "f82907f5",
   "metadata": {},
   "outputs": [
    {
     "ename": "NameError",
     "evalue": "name 'Circle1' is not defined",
     "output_type": "error",
     "traceback": [
      "\u001b[1;31m---------------------------------------------------------------------------\u001b[0m",
      "\u001b[1;31mNameError\u001b[0m                                 Traceback (most recent call last)",
      "Cell \u001b[1;32mIn[109], line 1\u001b[0m\n\u001b[1;32m----> 1\u001b[0m \u001b[38;5;28mprint\u001b[39m(Circle1)\n",
      "\u001b[1;31mNameError\u001b[0m: name 'Circle1' is not defined"
     ]
    }
   ],
   "source": [
    " print(Circle1)"
   ]
  },
  {
   "cell_type": "markdown",
   "id": "31694ef9",
   "metadata": {},
   "source": [
    "### c.\tDefine a method that can print radius by directly calling by the circle object.  "
   ]
  },
  {
   "cell_type": "code",
   "execution_count": 110,
   "id": "56141ec8",
   "metadata": {},
   "outputs": [],
   "source": [
    "class Circle:\n",
    "    def __init__(self,radius):\n",
    "        self.radius=radius\n",
    "    def print1(self):\n",
    "        return f'the radius of the circle is {self.radius}'"
   ]
  },
  {
   "cell_type": "code",
   "execution_count": 111,
   "id": "00f30a9b",
   "metadata": {},
   "outputs": [
    {
     "name": "stdout",
     "output_type": "stream",
     "text": [
      "the radius of the circle is 4\n"
     ]
    }
   ],
   "source": [
    "print(Circle.print1(circle1))"
   ]
  },
  {
   "cell_type": "markdown",
   "id": "7e1aee51",
   "metadata": {},
   "source": [
    "### 9.\tConsider the following class definition"
   ]
  },
  {
   "cell_type": "code",
   "execution_count": 112,
   "id": "519d8102",
   "metadata": {},
   "outputs": [],
   "source": [
    "class Point:\n",
    "    pass\n"
   ]
  },
  {
   "cell_type": "markdown",
   "id": "1c9b73b1",
   "metadata": {},
   "source": [
    "### a.\tMake two instances named p1 and p2."
   ]
  },
  {
   "cell_type": "code",
   "execution_count": 113,
   "id": "2a448808",
   "metadata": {},
   "outputs": [],
   "source": [
    "p1 = Point()\n",
    "p2 = Point()\n"
   ]
  },
  {
   "cell_type": "markdown",
   "id": "13e9b244",
   "metadata": {},
   "source": [
    "### b.\tNow, we have a basic class, but it's fairly useless. It doesn't contain any data, and it doesn't do anything. What do we have to do to assign an attribute to a given object?"
   ]
  },
  {
   "cell_type": "markdown",
   "id": "94f36b33",
   "metadata": {},
   "source": [
    "### It turns out that we don't have to do anything special in the class definition. We can set arbitrary attributes on an instantiated object using the dot notation:"
   ]
  },
  {
   "cell_type": "code",
   "execution_count": 115,
   "id": "912ffbe5",
   "metadata": {},
   "outputs": [],
   "source": [
    "p1 = Point()\n",
    "p2 = Point()\n",
    "\n",
    "p1.x = 5\n",
    "p1.y = 4\n",
    "p2.x = 3\n",
    "p2.y = 6\n"
   ]
  },
  {
   "cell_type": "markdown",
   "id": "33a6e089",
   "metadata": {},
   "source": [
    "### c.\tTry different names for objects, instead of p1 and p2. Also, use different attribute names"
   ]
  },
  {
   "cell_type": "code",
   "execution_count": 116,
   "id": "dea787ca",
   "metadata": {},
   "outputs": [],
   "source": [
    "l1 = Point()\n",
    "l2 = Point()\n",
    "\n",
    "p1.a = 5\n",
    "p1.b = 4\n",
    "p2.a = 3\n",
    "p2.b = 6\n"
   ]
  },
  {
   "cell_type": "markdown",
   "id": "2c4a52fc",
   "metadata": {},
   "source": [
    "### 10.\tThe Python initialization method is the same as any other method, except it has a special name, __init__.\n",
    "Consider the point class below. "
   ]
  },
  {
   "cell_type": "code",
   "execution_count": 117,
   "id": "e6527f27",
   "metadata": {},
   "outputs": [],
   "source": [
    "class Point:\n",
    "    def move(self, x, y):\n",
    "        self.x = x\n",
    "        self.y = y\n",
    "    def reset(self):\n",
    "        self.move(0, 0)\n"
   ]
  },
  {
   "cell_type": "markdown",
   "id": "fecd1361",
   "metadata": {},
   "source": [
    "### Modify the above class by adding __init__ method."
   ]
  },
  {
   "cell_type": "code",
   "execution_count": 118,
   "id": "8d3aa1ac",
   "metadata": {},
   "outputs": [],
   "source": [
    "class Point:\n",
    "    def __init__(self, x, y):\n",
    "        self.move(x, y)\n",
    "    def move(self, x, y):\n",
    "        self.x = x\n",
    "        self.y = y\n",
    "    def reset(self):\n",
    "        self.move(0, 0)\n"
   ]
  },
  {
   "cell_type": "markdown",
   "id": "27c9ffdf",
   "metadata": {},
   "source": [
    "### a.\tConstructing an instance/ object using point = Point(3, 5)"
   ]
  },
  {
   "cell_type": "code",
   "execution_count": 119,
   "id": "32d22e3b",
   "metadata": {},
   "outputs": [],
   "source": [
    "point = Point(3, 5)"
   ]
  },
  {
   "cell_type": "markdown",
   "id": "dfa40a7f",
   "metadata": {},
   "source": [
    "### b.\tPrint the attributes"
   ]
  },
  {
   "cell_type": "code",
   "execution_count": 120,
   "id": "c053d027",
   "metadata": {},
   "outputs": [
    {
     "name": "stdout",
     "output_type": "stream",
     "text": [
      "3\n"
     ]
    }
   ],
   "source": [
    "print(point.x)"
   ]
  },
  {
   "cell_type": "code",
   "execution_count": 121,
   "id": "39d6b0ba",
   "metadata": {},
   "outputs": [
    {
     "name": "stdout",
     "output_type": "stream",
     "text": [
      "5\n"
     ]
    }
   ],
   "source": [
    "print(point.y)"
   ]
  },
  {
   "cell_type": "markdown",
   "id": "a1aeb599",
   "metadata": {},
   "source": [
    "### 11.\tConsider "
   ]
  },
  {
   "cell_type": "code",
   "execution_count": 132,
   "id": "a9c81def",
   "metadata": {},
   "outputs": [],
   "source": [
    "# point.py\n",
    "\n",
    "class Point:\n",
    "    def __init__(self, x, y):\n",
    "        print(\"Initialize the new instance of Point.\")\n",
    "        self.x = x\n",
    "        self.y = y\n",
    "    def print1(self):\n",
    "        return f\"{type(self).__name__}(x={self.x}, y={self.y})\"\n"
   ]
  },
  {
   "cell_type": "markdown",
   "id": "92ec25c1",
   "metadata": {},
   "source": [
    "### a.\tRun the following code: "
   ]
  },
  {
   "cell_type": "code",
   "execution_count": 133,
   "id": "3163c01e",
   "metadata": {},
   "outputs": [
    {
     "name": "stdout",
     "output_type": "stream",
     "text": [
      "Initialize the new instance of Point.\n",
      "Point(x=21, y=42)\n"
     ]
    }
   ],
   "source": [
    "point = Point(21, 42)\n",
    "print(Point.print1(point))\n"
   ]
  },
  {
   "cell_type": "markdown",
   "id": "0bc42649",
   "metadata": {},
   "source": [
    "### b.\tThe __init__ can be called by the instance and pass value directly. Run the following code."
   ]
  },
  {
   "cell_type": "code",
   "execution_count": 126,
   "id": "6f785602",
   "metadata": {},
   "outputs": [
    {
     "name": "stdout",
     "output_type": "stream",
     "text": [
      "Initialize the new instance of Point.\n",
      "<__main__.Point object at 0x00000235CD95D790>\n"
     ]
    }
   ],
   "source": [
    "point.__init__(34, 45)\n",
    "point.x\n",
    "point.y\n",
    "print(point)\n"
   ]
  },
  {
   "cell_type": "markdown",
   "id": "8ca21f07",
   "metadata": {},
   "source": [
    "### 12.\tRectangle class "
   ]
  },
  {
   "cell_type": "code",
   "execution_count": 127,
   "id": "3edf4530",
   "metadata": {},
   "outputs": [],
   "source": [
    "class Rectangle:\n",
    "    def __init__(self, width, height):\n",
    "        self.width = width\n",
    "        self.height = height\n"
   ]
  },
  {
   "cell_type": "markdown",
   "id": "98199638",
   "metadata": {},
   "source": [
    "### a.\tDefine an object by passing the parameters and the print them. For printing use the instance variable and dot operator"
   ]
  },
  {
   "cell_type": "code",
   "execution_count": 128,
   "id": "95ea6d70",
   "metadata": {},
   "outputs": [],
   "source": [
    "rect1 = Rectangle(20,80)"
   ]
  },
  {
   "cell_type": "code",
   "execution_count": 129,
   "id": "eac0d452",
   "metadata": {},
   "outputs": [
    {
     "name": "stdout",
     "output_type": "stream",
     "text": [
      "80\n"
     ]
    }
   ],
   "source": [
    "print(rect1.height)"
   ]
  },
  {
   "cell_type": "code",
   "execution_count": 134,
   "id": "3c2a7fdd",
   "metadata": {},
   "outputs": [
    {
     "name": "stdout",
     "output_type": "stream",
     "text": [
      "20\n"
     ]
    }
   ],
   "source": [
    "print(rect1.width)"
   ]
  },
  {
   "cell_type": "markdown",
   "id": "f84cc207",
   "metadata": {},
   "source": [
    "### b.\tReturning some thing from the __init__ method. Run the following code and observe the result.  "
   ]
  },
  {
   "cell_type": "code",
   "execution_count": 135,
   "id": "25b3bce8",
   "metadata": {},
   "outputs": [
    {
     "ename": "TypeError",
     "evalue": "__init__() should return None, not 'int'",
     "output_type": "error",
     "traceback": [
      "\u001b[1;31m---------------------------------------------------------------------------\u001b[0m",
      "\u001b[1;31mTypeError\u001b[0m                                 Traceback (most recent call last)",
      "Cell \u001b[1;32mIn[135], line 7\u001b[0m\n\u001b[0;32m      4\u001b[0m         \u001b[38;5;28mself\u001b[39m\u001b[38;5;241m.\u001b[39mheight \u001b[38;5;241m=\u001b[39m height\n\u001b[0;32m      5\u001b[0m         \u001b[38;5;28;01mreturn\u001b[39;00m \u001b[38;5;241m42\u001b[39m\n\u001b[1;32m----> 7\u001b[0m rectangle \u001b[38;5;241m=\u001b[39m Rectangle(\u001b[38;5;241m21\u001b[39m, \u001b[38;5;241m42\u001b[39m)\n",
      "\u001b[1;31mTypeError\u001b[0m: __init__() should return None, not 'int'"
     ]
    }
   ],
   "source": [
    "class Rectangle:\n",
    "    def __init__(self, width, height):\n",
    "        self.width = width\n",
    "        self.height = height\n",
    "        return 42\n",
    "\n",
    "rectangle = Rectangle(21, 42)\n"
   ]
  },
  {
   "cell_type": "markdown",
   "id": "f7d4c11c",
   "metadata": {},
   "source": [
    "### c.\tNow run the following code and observe the result. "
   ]
  },
  {
   "cell_type": "code",
   "execution_count": 137,
   "id": "f013103b",
   "metadata": {},
   "outputs": [],
   "source": [
    "class Rectangle:\n",
    "    def __init__(self, width, height):\n",
    "        self.width = width\n",
    "        self.height = height\n",
    "        return None\n",
    "\n",
    "rectangle = Rectangle(21, 42)\n",
    "\n"
   ]
  },
  {
   "cell_type": "markdown",
   "id": "19ac4d8f",
   "metadata": {},
   "source": [
    "### d.\tIn .__init__(), you can also run any transformation over the input arguments to properly initialize the instance attributes. For example, if your users will use Rectangle directly, then you might want to validate the supplied width and height and make sure that they’re correct before initializing the corresponding attributes:\n",
    "Run the following code and observe the result while supplying different combinations of input.  Furthermore, to enhance the exception further is highly recommended\n"
   ]
  },
  {
   "cell_type": "code",
   "execution_count": 141,
   "id": "47173c63",
   "metadata": {},
   "outputs": [
    {
     "ename": "ValueError",
     "evalue": "positive width expected, got -21",
     "output_type": "error",
     "traceback": [
      "\u001b[1;31m---------------------------------------------------------------------------\u001b[0m",
      "\u001b[1;31mValueError\u001b[0m                                Traceback (most recent call last)",
      "Cell \u001b[1;32mIn[141], line 10\u001b[0m\n\u001b[0;32m      7\u001b[0m             \u001b[38;5;28;01mraise\u001b[39;00m \u001b[38;5;167;01mValueError\u001b[39;00m(\u001b[38;5;124mf\u001b[39m\u001b[38;5;124m\"\u001b[39m\u001b[38;5;124mpositive height expected, got \u001b[39m\u001b[38;5;132;01m{\u001b[39;00mheight\u001b[38;5;132;01m}\u001b[39;00m\u001b[38;5;124m\"\u001b[39m)\n\u001b[0;32m      8\u001b[0m         \u001b[38;5;28mself\u001b[39m\u001b[38;5;241m.\u001b[39mheight \u001b[38;5;241m=\u001b[39m height\n\u001b[1;32m---> 10\u001b[0m rectangle \u001b[38;5;241m=\u001b[39m Rectangle(\u001b[38;5;241m-\u001b[39m\u001b[38;5;241m21\u001b[39m, \u001b[38;5;241m42\u001b[39m)\n",
      "Cell \u001b[1;32mIn[141], line 4\u001b[0m, in \u001b[0;36mRectangle.__init__\u001b[1;34m(self, width, height)\u001b[0m\n\u001b[0;32m      2\u001b[0m \u001b[38;5;28;01mdef\u001b[39;00m \u001b[38;5;21m__init__\u001b[39m(\u001b[38;5;28mself\u001b[39m, width, height):\n\u001b[0;32m      3\u001b[0m     \u001b[38;5;28;01mif\u001b[39;00m \u001b[38;5;129;01mnot\u001b[39;00m (\u001b[38;5;28misinstance\u001b[39m(width, (\u001b[38;5;28mint\u001b[39m, \u001b[38;5;28mfloat\u001b[39m)) \u001b[38;5;129;01mand\u001b[39;00m width \u001b[38;5;241m>\u001b[39m \u001b[38;5;241m0\u001b[39m):\n\u001b[1;32m----> 4\u001b[0m         \u001b[38;5;28;01mraise\u001b[39;00m \u001b[38;5;167;01mValueError\u001b[39;00m(\u001b[38;5;124mf\u001b[39m\u001b[38;5;124m\"\u001b[39m\u001b[38;5;124mpositive width expected, got \u001b[39m\u001b[38;5;132;01m{\u001b[39;00mwidth\u001b[38;5;132;01m}\u001b[39;00m\u001b[38;5;124m\"\u001b[39m)\n\u001b[0;32m      5\u001b[0m     \u001b[38;5;28mself\u001b[39m\u001b[38;5;241m.\u001b[39mwidth \u001b[38;5;241m=\u001b[39m width\n\u001b[0;32m      6\u001b[0m     \u001b[38;5;28;01mif\u001b[39;00m \u001b[38;5;129;01mnot\u001b[39;00m (\u001b[38;5;28misinstance\u001b[39m(height, (\u001b[38;5;28mint\u001b[39m, \u001b[38;5;28mfloat\u001b[39m)) \u001b[38;5;129;01mand\u001b[39;00m height \u001b[38;5;241m>\u001b[39m \u001b[38;5;241m0\u001b[39m):\n",
      "\u001b[1;31mValueError\u001b[0m: positive width expected, got -21"
     ]
    }
   ],
   "source": [
    "class Rectangle:\n",
    "    def __init__(self, width, height):\n",
    "        if not (isinstance(width, (int, float)) and width > 0):\n",
    "            raise ValueError(f\"positive width expected, got {width}\")\n",
    "        self.width = width\n",
    "        if not (isinstance(height, (int, float)) and height > 0):\n",
    "            raise ValueError(f\"positive height expected, got {height}\")\n",
    "        self.height = height\n",
    "\n",
    "rectangle = Rectangle(-21, 42)\n",
    "\n"
   ]
  },
  {
   "cell_type": "markdown",
   "id": "f2ae8c36",
   "metadata": {},
   "source": [
    "### 13.\tOptional arguments allow you to write classes in which the constructor accepts different sets of input arguments at instantiation time. Which arguments to use at a given time will depend on your specific needs and context."
   ]
  },
  {
   "cell_type": "markdown",
   "id": "91def43c",
   "metadata": {},
   "source": [
    "### Consider the following code"
   ]
  },
  {
   "cell_type": "code",
   "execution_count": 142,
   "id": "1087ee18",
   "metadata": {},
   "outputs": [],
   "source": [
    "class Greeter:\n",
    "    def __init__(self, name, formal=False):\n",
    "        self.name = name\n",
    "        self.formal = formal\n",
    "\n",
    "    def greet(self):\n",
    "        if self.formal:\n",
    "            print(f\"Good morning, {self.name}!\")\n",
    "        else:\n",
    "            print(f\"Hello, {self.name}!\")\n"
   ]
  },
  {
   "cell_type": "markdown",
   "id": "2da0729f",
   "metadata": {},
   "source": [
    "### a.\tIn the following example, you create an informal_greeter object by passing a value to the name argument and relying on the default value of formal. You get an informal greeting on your screen when you call .greet() on the informal_greeter object"
   ]
  },
  {
   "cell_type": "code",
   "execution_count": 143,
   "id": "ed834e39",
   "metadata": {},
   "outputs": [
    {
     "name": "stdout",
     "output_type": "stream",
     "text": [
      "Hello, Pythonista!\n"
     ]
    }
   ],
   "source": [
    "informal_greeter = Greeter(\"Pythonista\")\n",
    "informal_greeter.greet()\n"
   ]
  },
  {
   "cell_type": "markdown",
   "id": "92ffbe96",
   "metadata": {},
   "source": [
    "### b.\tSimilarly, in the following example, you use a name and a formal argument to instantiate Greeter. Because formal is True, the result of calling .greet() is a formal greeting"
   ]
  },
  {
   "cell_type": "code",
   "execution_count": 144,
   "id": "2d634f7b",
   "metadata": {},
   "outputs": [
    {
     "name": "stdout",
     "output_type": "stream",
     "text": [
      "Good morning, Pythonista!\n"
     ]
    }
   ],
   "source": [
    "formal_greeter = Greeter(\"Pythonista\", formal=True)\n",
    "formal_greeter.greet()\n"
   ]
  },
  {
   "cell_type": "markdown",
   "id": "c3f1e22c",
   "metadata": {},
   "source": [
    "### 14.\tDefault arguments"
   ]
  },
  {
   "cell_type": "markdown",
   "id": "87c5236c",
   "metadata": {},
   "source": [
    "### i.\tConsider the point class below"
   ]
  },
  {
   "cell_type": "code",
   "execution_count": 145,
   "id": "345252fb",
   "metadata": {},
   "outputs": [],
   "source": [
    "class Point:\n",
    "    def __init__(self, x, y):\n",
    "        self.move(x, y)\n",
    "    def move(self, x, y):\n",
    "        self.x = x\n",
    "        self.y = y\n",
    "    def reset(self):\n",
    "        self.move(0, 0)\n"
   ]
  },
  {
   "cell_type": "markdown",
   "id": "01c86283",
   "metadata": {},
   "source": [
    "### Modify the above class by modifying the argument list of __init__ using default arguments. "
   ]
  },
  {
   "cell_type": "code",
   "execution_count": 146,
   "id": "e40c73e7",
   "metadata": {},
   "outputs": [],
   "source": [
    "class Point:\n",
    "    def __init__(self, x=0, y=0):\n",
    "        self.move(x, y)\n",
    "    def move(self, x, y):\n",
    "        self.x = x\n",
    "        self.y = y\n",
    "    def reset(self):\n",
    "        self.move(0, 0)\n"
   ]
  },
  {
   "cell_type": "markdown",
   "id": "fa867415",
   "metadata": {},
   "source": [
    "### a.\tMake an instance of the class point, point = Point(3, 5). Print the point"
   ]
  },
  {
   "cell_type": "code",
   "execution_count": 147,
   "id": "bacc4040",
   "metadata": {},
   "outputs": [],
   "source": [
    "point = Point(3, 5)"
   ]
  },
  {
   "cell_type": "code",
   "execution_count": 148,
   "id": "c14b07c0",
   "metadata": {},
   "outputs": [
    {
     "name": "stdout",
     "output_type": "stream",
     "text": [
      "3\n"
     ]
    }
   ],
   "source": [
    "print(point.x)"
   ]
  },
  {
   "cell_type": "code",
   "execution_count": 149,
   "id": "0d3984c6",
   "metadata": {},
   "outputs": [
    {
     "name": "stdout",
     "output_type": "stream",
     "text": [
      "5\n"
     ]
    }
   ],
   "source": [
    "print(point.y)"
   ]
  },
  {
   "cell_type": "markdown",
   "id": "7b43adc0",
   "metadata": {},
   "source": [
    "### Note:\n",
    "#### \tThe keyword argument syntax appends an equals sign after each variable name. If the calling object does not provide this argument, then the default argument is used instead.\n"
   ]
  },
  {
   "cell_type": "code",
   "execution_count": 194,
   "id": "4bf38868",
   "metadata": {},
   "outputs": [],
   "source": [
    "class circle:\n",
    "    def __init__(self,radius):\n",
    "        self.radius=radius\n",
    "        self.area=(2*3.14*radius**2)\n",
    "        self.circumfence= (2*3.14*radius)\n",
    "        self.diameter = (2*radius)\n",
    "    def prnt(self):\n",
    "        return f' the radius : {self.radius} , area is: {self.area} , circumfrence is : {self.circumfence} , diameter is : {self.diameter}'"
   ]
  },
  {
   "cell_type": "code",
   "execution_count": 195,
   "id": "65904b0f",
   "metadata": {},
   "outputs": [],
   "source": [
    " a = circle(2)"
   ]
  },
  {
   "cell_type": "code",
   "execution_count": 196,
   "id": "04e5f864",
   "metadata": {},
   "outputs": [
    {
     "data": {
      "text/plain": [
       "' the radius : 2 , area is: 25.12 , circumfrence is : 12.56 , diameter is : 4'"
      ]
     },
     "execution_count": 196,
     "metadata": {},
     "output_type": "execute_result"
    }
   ],
   "source": [
    "a.prnt()"
   ]
  },
  {
   "cell_type": "code",
   "execution_count": 190,
   "id": "b760f82d",
   "metadata": {},
   "outputs": [],
   "source": [
    "class circle_calculater:\n",
    "    def __init__ (self,radius):\n",
    "        self.radius=radius\n",
    "    def area1(self):\n",
    "        self.area=(2*3.14*radius**2)\n",
    "        \n",
    "    def circum1(self):\n",
    "        self.circumfence= (2*3.14*radius)\n",
    "    def dimetre1(self):\n",
    "        self.diameter = (2*radius)\n",
    "    def prnt(self):\n",
    "        return f' the radius : {self.radius} , area is: {self.area} , circumfrence is : {self.circumfence} , diameter is : {self.diameter}'\n",
    "        \n",
    "        \n",
    "    "
   ]
  },
  {
   "cell_type": "code",
   "execution_count": 191,
   "id": "8cc8d5a7",
   "metadata": {},
   "outputs": [],
   "source": [
    "a = circle_calculater(2)"
   ]
  },
  {
   "cell_type": "code",
   "execution_count": 193,
   "id": "1b3305f3",
   "metadata": {},
   "outputs": [
    {
     "ename": "NameError",
     "evalue": "name 'radius' is not defined",
     "output_type": "error",
     "traceback": [
      "\u001b[1;31m---------------------------------------------------------------------------\u001b[0m",
      "\u001b[1;31mNameError\u001b[0m                                 Traceback (most recent call last)",
      "Cell \u001b[1;32mIn[193], line 1\u001b[0m\n\u001b[1;32m----> 1\u001b[0m a\u001b[38;5;241m.\u001b[39mcircum1()\n",
      "Cell \u001b[1;32mIn[190], line 8\u001b[0m, in \u001b[0;36mcircle_calculater.circum1\u001b[1;34m(self)\u001b[0m\n\u001b[0;32m      7\u001b[0m \u001b[38;5;28;01mdef\u001b[39;00m \u001b[38;5;21mcircum1\u001b[39m(\u001b[38;5;28mself\u001b[39m):\n\u001b[1;32m----> 8\u001b[0m     \u001b[38;5;28mself\u001b[39m\u001b[38;5;241m.\u001b[39mcircumfence\u001b[38;5;241m=\u001b[39m (\u001b[38;5;241m2\u001b[39m\u001b[38;5;241m*\u001b[39m\u001b[38;5;241m3.14\u001b[39m\u001b[38;5;241m*\u001b[39mradius)\n",
      "\u001b[1;31mNameError\u001b[0m: name 'radius' is not defined"
     ]
    }
   ],
   "source": [
    "a.circum1()"
   ]
  },
  {
   "cell_type": "code",
   "execution_count": null,
   "id": "2ea9e7c0",
   "metadata": {},
   "outputs": [],
   "source": []
  }
 ],
 "metadata": {
  "kernelspec": {
   "display_name": "Python 3 (ipykernel)",
   "language": "python",
   "name": "python3"
  },
  "language_info": {
   "codemirror_mode": {
    "name": "ipython",
    "version": 3
   },
   "file_extension": ".py",
   "mimetype": "text/x-python",
   "name": "python",
   "nbconvert_exporter": "python",
   "pygments_lexer": "ipython3",
   "version": "3.11.4"
  }
 },
 "nbformat": 4,
 "nbformat_minor": 5
}
