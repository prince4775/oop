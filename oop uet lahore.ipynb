{
 "cells": [
  {
   "cell_type": "markdown",
   "id": "6bfc59b5",
   "metadata": {},
   "source": [
    "## creating our first class"
   ]
  },
  {
   "cell_type": "code",
   "execution_count": null,
   "id": "3daf8e4b",
   "metadata": {},
   "outputs": [],
   "source": [
    "class student:\n",
    "    pass\n",
    "\n",
    "\n",
    "\n",
    "std1 = student()\n",
    "std2 = student()"
   ]
  },
  {
   "cell_type": "code",
   "execution_count": null,
   "id": "c4679d70",
   "metadata": {},
   "outputs": [],
   "source": [
    "std1.fname = 'ayub'\n",
    "std1.regno = '22jzele0470'\n"
   ]
  },
  {
   "cell_type": "code",
   "execution_count": null,
   "id": "a0c389b4",
   "metadata": {},
   "outputs": [],
   "source": [
    "std2.fname = 'ibraheem'\n",
    "std2.regno = '22jzele0480'\n"
   ]
  },
  {
   "cell_type": "code",
   "execution_count": null,
   "id": "628358f0",
   "metadata": {},
   "outputs": [],
   "source": [
    "std1.fname"
   ]
  },
  {
   "cell_type": "code",
   "execution_count": null,
   "id": "59e53a62",
   "metadata": {},
   "outputs": [],
   "source": [
    "std2.fname"
   ]
  },
  {
   "cell_type": "markdown",
   "id": "10a0b380",
   "metadata": {},
   "source": [
    "## class level attributes"
   ]
  },
  {
   "cell_type": "code",
   "execution_count": null,
   "id": "5e7b5f21",
   "metadata": {},
   "outputs": [],
   "source": [
    "class student:\n",
    "    def __init__(self,f,l,r):\n",
    "        self.fname = f\n",
    "        self.lname = l\n",
    "        self.regno = r\n",
    "        self.email = f'{self.regno}@uetpeshawar.edu.pk'\n",
    "    def welcome(self):\n",
    "        return f'welcom {self.fname} {self.lname}'"
   ]
  },
  {
   "cell_type": "code",
   "execution_count": null,
   "id": "3afcf1a2",
   "metadata": {},
   "outputs": [],
   "source": [
    "std2 = student('ayub','khan','22jzele0470')"
   ]
  },
  {
   "cell_type": "code",
   "execution_count": null,
   "id": "8bb33c4c",
   "metadata": {},
   "outputs": [],
   "source": [
    "std3 = student('ibraheem','khan','22jzele080')"
   ]
  },
  {
   "cell_type": "code",
   "execution_count": null,
   "id": "dbbcb36d",
   "metadata": {},
   "outputs": [],
   "source": [
    "std2.welcome()"
   ]
  },
  {
   "cell_type": "code",
   "execution_count": null,
   "id": "4f96b49f",
   "metadata": {},
   "outputs": [],
   "source": [
    "std2.email"
   ]
  },
  {
   "cell_type": "markdown",
   "id": "3ecb192a",
   "metadata": {},
   "source": [
    "## Attributes dictionary"
   ]
  },
  {
   "cell_type": "code",
   "execution_count": null,
   "id": "98aaebb1",
   "metadata": {},
   "outputs": [],
   "source": [
    "class student:\n",
    "    department = 'electrical'\n",
    "    offsubject= ['Bee','circuit analysis 1', 'oop','dld']\n",
    "    def __init__(self,f,l,r):\n",
    "        self.fname = f\n",
    "        self.lname = l\n",
    "        self.regno = r\n",
    "        self.email = f'{self.regno}@uetpeshawar.edu.pk'\n",
    "        self.courses=['proj']\n",
    "    def welcome(self):\n",
    "        return f'welcom {self.fname} {self.lname}'\n",
    "    def registersubjects(self,*sub):\n",
    "        for s in sub:\n",
    "            if s not in student.offsubject:\n",
    "                raise ValueError(f'{s} is not offered!')\n",
    "            if s in student.offsubject and s not in self.courses:\n",
    "                self.courses.append(s)\n",
    "                "
   ]
  },
  {
   "cell_type": "code",
   "execution_count": null,
   "id": "9daf2092",
   "metadata": {},
   "outputs": [],
   "source": [
    "std2.registersubjects('Bee','circuit analysis 1')"
   ]
  },
  {
   "cell_type": "code",
   "execution_count": null,
   "id": "33850f18",
   "metadata": {},
   "outputs": [],
   "source": [
    "std3.department = 'mech'"
   ]
  },
  {
   "cell_type": "code",
   "execution_count": null,
   "id": "4c263f3d",
   "metadata": {},
   "outputs": [],
   "source": [
    "for i in std2.__dict__.items():\n",
    "    print(i)"
   ]
  },
  {
   "cell_type": "code",
   "execution_count": null,
   "id": "93f2d36f",
   "metadata": {},
   "outputs": [],
   "source": [
    "for i in student.__dict__.items():\n",
    "    print(i)"
   ]
  },
  {
   "cell_type": "code",
   "execution_count": null,
   "id": "332bb142",
   "metadata": {},
   "outputs": [],
   "source": [
    "for i in std3.__dict__.items():\n",
    "    print(i)"
   ]
  },
  {
   "cell_type": "markdown",
   "id": "2f087b9e",
   "metadata": {},
   "source": [
    "## str and repr method"
   ]
  },
  {
   "cell_type": "code",
   "execution_count": null,
   "id": "023a855d",
   "metadata": {},
   "outputs": [],
   "source": [
    "class student:\n",
    "    department = 'electrical'\n",
    "    offsubject= ['Bee','circuit analysis 1', 'oop','dld']\n",
    "    students = []\n",
    "    def __init__(self,f,l,r):\n",
    "        self.fname = f\n",
    "        self.lname = l\n",
    "        self.regno = r\n",
    "        self.email = f'{self.regno}@uetpeshawar.edu.pk'\n",
    "        self.courses=['proj']\n",
    "        student.students.append(self)\n",
    "    @property\n",
    "    def fullname(self):\n",
    "        return f'{self.fname} {self.lname}'\n",
    "    def welcome(self):\n",
    "        return f'welcom {self.fname} {self.lname}'\n",
    "    def registersubjects(self,*sub):\n",
    "        for s in sub:\n",
    "            if s not in student.offsubject:\n",
    "                raise ValueError(f'{s} is not offered!')\n",
    "            if s in student.offsubject and s not in self.courses:\n",
    "                self.courses.append(s)\n",
    "    def __repr__(self):\n",
    "        return f\"({self.fname}-{self.regno})\"\n",
    "                "
   ]
  },
  {
   "cell_type": "code",
   "execution_count": null,
   "id": "f5dc0ca8",
   "metadata": {},
   "outputs": [],
   "source": [
    "std2 = student('ayub','khan','22jzele0470')"
   ]
  },
  {
   "cell_type": "code",
   "execution_count": null,
   "id": "3c02c2e0",
   "metadata": {},
   "outputs": [],
   "source": [
    "std2.fullname\n",
    "print(student.students)"
   ]
  },
  {
   "cell_type": "markdown",
   "id": "0f42b051",
   "metadata": {},
   "source": [
    "## Task no 1"
   ]
  },
  {
   "cell_type": "code",
   "execution_count": null,
   "id": "ea1d197d",
   "metadata": {},
   "outputs": [],
   "source": [
    "class point:\n",
    "    total_points=[]\n",
    "    def __init__(self,x=0,y=0):\n",
    "        self.x=x\n",
    "        self.y=y\n",
    "        point.total_points.append(self)\n",
    "    def reset(self):\n",
    "        self.move(0,0)\n",
    "    def move(self,x,y):\n",
    "        self.x=x\n",
    "        self.y=y\n",
    "    def xmove(self,x):\n",
    "        self.x=x\n",
    "    def ymove(self,y):\n",
    "        self.y=y\n",
    "    def mag(self):\n",
    "        return ((self.x**2)+(self.y**2))**1/2\n",
    "    @property\n",
    "    def ptr(self):\n",
    "        return f\"({self.x},{self.y})\"\n",
    "    def __repr__(self):\n",
    "        return f\"Point({self.x},{self.y})\"\n",
    "    "
   ]
  },
  {
   "cell_type": "code",
   "execution_count": null,
   "id": "6fc5bafb",
   "metadata": {},
   "outputs": [],
   "source": [
    "pt1 = point(23,12)"
   ]
  },
  {
   "cell_type": "code",
   "execution_count": null,
   "id": "383f476e",
   "metadata": {},
   "outputs": [],
   "source": [
    "pt1.ptr"
   ]
  },
  {
   "cell_type": "code",
   "execution_count": null,
   "id": "74505a44",
   "metadata": {},
   "outputs": [],
   "source": [
    "pt1.mag()"
   ]
  },
  {
   "cell_type": "markdown",
   "id": "840322a4",
   "metadata": {},
   "source": [
    "## task no 2\n",
    "## using list to make the points"
   ]
  },
  {
   "cell_type": "code",
   "execution_count": null,
   "id": "9a0e67c6",
   "metadata": {},
   "outputs": [],
   "source": [
    "from random import randint\n"
   ]
  },
  {
   "cell_type": "code",
   "execution_count": null,
   "id": "4f13f577",
   "metadata": {},
   "outputs": [],
   "source": [
    "l1 = [point(randint(-10,10),randint(-10,10)) for i in range(5)]"
   ]
  },
  {
   "cell_type": "code",
   "execution_count": null,
   "id": "0b67eead",
   "metadata": {},
   "outputs": [],
   "source": [
    "for p in l1:\n",
    "    print(p.ptr)"
   ]
  },
  {
   "cell_type": "code",
   "execution_count": null,
   "id": "e9a077b9",
   "metadata": {},
   "outputs": [],
   "source": [
    "l2 = [point(randint(-5,5),randint(-5,5)) for i in range(5)]"
   ]
  },
  {
   "cell_type": "code",
   "execution_count": null,
   "id": "a1272cd1",
   "metadata": {},
   "outputs": [],
   "source": [
    "for l in l2:\n",
    "    print(l.ptr)"
   ]
  },
  {
   "cell_type": "code",
   "execution_count": null,
   "id": "f85727d3",
   "metadata": {},
   "outputs": [],
   "source": [
    "def addpoint(p1,p2):\n",
    "    return point(p1.x+p2.x,p1.y+p2.y)\n",
    "p1=point(1,2)\n",
    "p2=point(67,8)"
   ]
  },
  {
   "cell_type": "code",
   "execution_count": null,
   "id": "28c98f8b",
   "metadata": {},
   "outputs": [],
   "source": [
    "print(addpoint(p1,p2).ptr)"
   ]
  },
  {
   "cell_type": "code",
   "execution_count": null,
   "id": "5d2a5388",
   "metadata": {},
   "outputs": [],
   "source": [
    "l3 = list(map(addpoint,l1,l2))"
   ]
  },
  {
   "cell_type": "code",
   "execution_count": null,
   "id": "a989a52e",
   "metadata": {},
   "outputs": [],
   "source": [
    "for i in l3:\n",
    "    print(i.ptr)"
   ]
  },
  {
   "cell_type": "code",
   "execution_count": null,
   "id": "966d9b74",
   "metadata": {},
   "outputs": [],
   "source": [
    "l3.sort(key= lambda p : p.mag())"
   ]
  },
  {
   "cell_type": "code",
   "execution_count": null,
   "id": "75f56338",
   "metadata": {},
   "outputs": [],
   "source": [
    "for i in l3:\n",
    "    print(i.ptr)"
   ]
  },
  {
   "cell_type": "code",
   "execution_count": null,
   "id": "b84299f4",
   "metadata": {},
   "outputs": [],
   "source": [
    "class point:\n",
    "    def __init__(self,x=0,y=0):\n",
    "        self.x=x\n",
    "        self.y=y\n",
    "    @property\n",
    "    def mag(self):\n",
    "        return ((self.x**2)+(self.y**2))**1/2\n",
    "    def __str__(self):\n",
    "        return f\"({self.x},{self.y})\"\n",
    "    def __repr__(self):\n",
    "        return f\"Point({self.x},{self.y})\""
   ]
  },
  {
   "cell_type": "code",
   "execution_count": null,
   "id": "f39f3ec1",
   "metadata": {},
   "outputs": [],
   "source": [
    "p1 = point()\n",
    "p2 = point(1,2)"
   ]
  },
  {
   "cell_type": "code",
   "execution_count": null,
   "id": "237a7baf",
   "metadata": {},
   "outputs": [],
   "source": [
    "print(p1)"
   ]
  },
  {
   "cell_type": "code",
   "execution_count": null,
   "id": "b20f5864",
   "metadata": {},
   "outputs": [],
   "source": [
    "l =[p1,p2]"
   ]
  },
  {
   "cell_type": "code",
   "execution_count": null,
   "id": "0c7b2292",
   "metadata": {},
   "outputs": [],
   "source": [
    "print(l)"
   ]
  },
  {
   "cell_type": "markdown",
   "id": "63603f5f",
   "metadata": {},
   "source": [
    "## class method & static method"
   ]
  },
  {
   "cell_type": "code",
   "execution_count": null,
   "id": "75d12efc",
   "metadata": {},
   "outputs": [],
   "source": [
    "class student:\n",
    "    department = 'electrical'\n",
    "    offsubject= ['Bee','circuit analysis 1', 'oop','dld']\n",
    "    students = []\n",
    "    def __init__(self,f,l,r):\n",
    "        self.fname = f\n",
    "        self.lname = l\n",
    "        self.regno = r\n",
    "        self.email = f'{self.regno}@uetpeshawar.edu.pk'\n",
    "        self.courses=['proj']\n",
    "        student.students.append(self)\n",
    "    @property\n",
    "    def fullname(self):\n",
    "        return f'{self.fname} {self.lname}'\n",
    "    def welcome(self):\n",
    "        return f'welcom {self.fname} {self.lname}'\n",
    "    def registersubjects(self,*sub):\n",
    "        for s in sub:\n",
    "            if s not in student.offsubject:\n",
    "                raise ValueError(f'{s} is not offered!')\n",
    "            if s in student.offsubject and s not in self.courses:\n",
    "                self.courses.append(s)\n",
    "    def __repr__(self):\n",
    "        return f\"({self.fname}-{self.regno})\"\n",
    "    @classmethod\n",
    "    def notregsub(cls):\n",
    "        a=set()\n",
    "        for std in cls.students:\n",
    "            s=set(std.courses)\n",
    "            a.update(s)\n",
    "            return list(set(cls.offsubject).difference(a))\n",
    "    @staticmethod\n",
    "    def test(a):\n",
    "        return a**2"
   ]
  },
  {
   "cell_type": "code",
   "execution_count": null,
   "id": "bcf69485",
   "metadata": {},
   "outputs": [],
   "source": [
    "std1 = student('ayub','khan',470)\n",
    "std2 = student('ibrahim','khan',480)"
   ]
  },
  {
   "cell_type": "code",
   "execution_count": null,
   "id": "6104d10a",
   "metadata": {},
   "outputs": [],
   "source": [
    "std1.registersubjects('circuit analysis 1','oop')\n",
    "std2.registersubjects('Bee')"
   ]
  },
  {
   "cell_type": "code",
   "execution_count": null,
   "id": "51d0024e",
   "metadata": {},
   "outputs": [],
   "source": [
    "print(student.notregsub())"
   ]
  },
  {
   "cell_type": "code",
   "execution_count": null,
   "id": "713f66e2",
   "metadata": {},
   "outputs": [],
   "source": [
    "print(student.test(2))"
   ]
  },
  {
   "cell_type": "markdown",
   "id": "38469698",
   "metadata": {},
   "source": [
    "## Accessing the other class object in method"
   ]
  },
  {
   "cell_type": "code",
   "execution_count": null,
   "id": "4960b767",
   "metadata": {},
   "outputs": [],
   "source": [
    "class student:\n",
    "    department = 'electrical'\n",
    "    offsubject= ['Bee','circuit analysis 1', 'oop','dld']\n",
    "    students = []\n",
    "    def __init__(self,f,l,r):\n",
    "        self.fname = f\n",
    "        self.lname = l\n",
    "        self.regno = r\n",
    "        self.email = f'{self.regno}@uetpeshawar.edu.pk'\n",
    "        self.courses=['proj']\n",
    "        self.groupmember = None\n",
    "        student.students.append(self)\n",
    "    @property\n",
    "    def fullname(self):\n",
    "        return f'{self.fname} {self.lname}'\n",
    "    def welcome(self):\n",
    "        return f'welcom {self.fname} {self.lname}'\n",
    "    def registersubjects(self,*sub):\n",
    "        for s in sub:\n",
    "            if s not in student.offsubject:\n",
    "                raise ValueError(f'{s} is not offered!')\n",
    "            if s in student.offsubject and s not in self.courses:\n",
    "                self.courses.append(s)\n",
    "    def __repr__(self):\n",
    "        return f\"({self.fname}-{self.regno})\"\n",
    "    @classmethod\n",
    "    def notregsub(cls):\n",
    "        a=set()\n",
    "        for std in cls.students:\n",
    "            s=set(std.courses)\n",
    "            a.update(s)\n",
    "            return list(set(cls.offsubject).difference(a))\n",
    "        \n",
    "    def setgroupmember(self,other):\n",
    "        if self.groupmember != None:\n",
    "            raise ValueError (f'{self} already has {self.groupmember} as a group')\n",
    "        elif other.groupmember != None:\n",
    "            raise ValueError (f'{other} already has {other.groupmember} as a group')\n",
    "        else:\n",
    "            self.groupmember = other\n",
    "            other.groupmember = self\n",
    "    def dropmember(self,other):\n",
    "        if self.groupmember == None and other.groupmember == None:\n",
    "            return\n",
    "        elif self.groupmember != other:\n",
    "            raise ValueError(f'{self} is not the member of {other}')\n",
    "        else:\n",
    "            self.groupmember = None\n",
    "            other.groupmember = None\n",
    "    @classmethod\n",
    "    def withoutmember(cls):\n",
    "        return list(filter(lambda s : s.groupmember == None, s.student))\n",
    "        "
   ]
  },
  {
   "cell_type": "code",
   "execution_count": null,
   "id": "35ebf02b",
   "metadata": {},
   "outputs": [],
   "source": [
    "std1 = student('ayub','khan',470)\n",
    "std2 = student('ibrahim','khan',480)\n",
    "std3 = student(\"mashal\", 'khan',466)\n",
    "std4 = student('nasir', 'khan',502)"
   ]
  },
  {
   "cell_type": "code",
   "execution_count": null,
   "id": "adcdb1e0",
   "metadata": {},
   "outputs": [],
   "source": [
    "std1.setgroupmember(std2)"
   ]
  },
  {
   "cell_type": "code",
   "execution_count": null,
   "id": "ab80785e",
   "metadata": {},
   "outputs": [],
   "source": [
    "print(std1.groupmember)"
   ]
  },
  {
   "cell_type": "code",
   "execution_count": null,
   "id": "76e7b796",
   "metadata": {},
   "outputs": [],
   "source": [
    "print(std2.groupmember)"
   ]
  },
  {
   "cell_type": "code",
   "execution_count": null,
   "id": "b4b4d04f",
   "metadata": {},
   "outputs": [],
   "source": [
    "std1.setgroupmember(std3)"
   ]
  },
  {
   "cell_type": "code",
   "execution_count": null,
   "id": "a9fe828b",
   "metadata": {},
   "outputs": [],
   "source": [
    "std1.dropmember(std2)"
   ]
  },
  {
   "cell_type": "code",
   "execution_count": null,
   "id": "25b9864f",
   "metadata": {},
   "outputs": [],
   "source": [
    "print(f'{std1} = {std1.groupmember}')"
   ]
  },
  {
   "cell_type": "code",
   "execution_count": null,
   "id": "9adc7fab",
   "metadata": {},
   "outputs": [],
   "source": [
    "std1.dropmember(std2)"
   ]
  },
  {
   "cell_type": "code",
   "execution_count": null,
   "id": "9dd8e742",
   "metadata": {},
   "outputs": [],
   "source": [
    "std4.setgroupmember(std4)"
   ]
  },
  {
   "cell_type": "code",
   "execution_count": null,
   "id": "03224174",
   "metadata": {},
   "outputs": [],
   "source": [
    "std1.dropmember(std4)"
   ]
  },
  {
   "cell_type": "markdown",
   "id": "55d51192",
   "metadata": {},
   "source": [
    "## encapsulation"
   ]
  },
  {
   "cell_type": "code",
   "execution_count": null,
   "id": "755535b1",
   "metadata": {},
   "outputs": [],
   "source": [
    "import random"
   ]
  },
  {
   "cell_type": "code",
   "execution_count": null,
   "id": "caccb64b",
   "metadata": {},
   "outputs": [],
   "source": [
    "class dice:\n",
    "    def __init__(self):\n",
    "        self._sideup = 1\n",
    "    def rol(self):\n",
    "        self._sideup=random.randint(1,6)\n",
    "    def __str__(self):\n",
    "        return str(self._sideup)"
   ]
  },
  {
   "cell_type": "code",
   "execution_count": null,
   "id": "29180720",
   "metadata": {},
   "outputs": [],
   "source": [
    "my_dice = dice()"
   ]
  },
  {
   "cell_type": "code",
   "execution_count": null,
   "id": "87d123d9",
   "metadata": {},
   "outputs": [],
   "source": [
    "for i in range(5):\n",
    "    my_dice.rol()\n",
    "    my_dice._sideup = 6\n",
    "    print(my_dice)"
   ]
  },
  {
   "cell_type": "markdown",
   "id": "560cb31c",
   "metadata": {},
   "source": [
    "## encapsulated with double underscore "
   ]
  },
  {
   "cell_type": "code",
   "execution_count": null,
   "id": "9c5ed1d2",
   "metadata": {},
   "outputs": [],
   "source": [
    "class dice:\n",
    "    def __init__(self):\n",
    "        self.__sideup = 1\n",
    "    def rol(self):\n",
    "        self.__sideup=random.randint(1,6)\n",
    "    def __str__(self):\n",
    "        return str(self.__sideup)"
   ]
  },
  {
   "cell_type": "code",
   "execution_count": null,
   "id": "5600068b",
   "metadata": {},
   "outputs": [],
   "source": [
    "my_dice = dice()"
   ]
  },
  {
   "cell_type": "code",
   "execution_count": null,
   "id": "2fd455a3",
   "metadata": {},
   "outputs": [],
   "source": [
    "for i in range(5):\n",
    "    my_dice.rol()\n",
    "    my_dice.__sideup = 6\n",
    "    print(my_dice)"
   ]
  },
  {
   "cell_type": "code",
   "execution_count": null,
   "id": "52290057",
   "metadata": {},
   "outputs": [],
   "source": [
    "my_dice.__dict__"
   ]
  },
  {
   "cell_type": "code",
   "execution_count": null,
   "id": "18cf1ea9",
   "metadata": {},
   "outputs": [],
   "source": [
    "for i in range(5):\n",
    "    my_dice.rol()\n",
    "    my_dice._dice__sideup = 6\n",
    "    print(my_dice)"
   ]
  },
  {
   "cell_type": "markdown",
   "id": "23a2cee4",
   "metadata": {},
   "source": [
    "## Getter,setter,deletter"
   ]
  },
  {
   "cell_type": "code",
   "execution_count": null,
   "id": "d4badab5",
   "metadata": {},
   "outputs": [],
   "source": [
    "class stdent1:\n",
    "    def __init__(self,f,l,r):\n",
    "        self.fname = f\n",
    "        self.lname = l\n",
    "        self.regno = r"
   ]
  },
  {
   "cell_type": "code",
   "execution_count": null,
   "id": "de8b865b",
   "metadata": {},
   "outputs": [],
   "source": [
    "std1 = stdent1('ayub','khan',470)\n",
    "std2 = stdent1('ibraheem','khan',480)"
   ]
  },
  {
   "cell_type": "code",
   "execution_count": null,
   "id": "2ac0c33a",
   "metadata": {},
   "outputs": [],
   "source": [
    "print(getattr(std1,'fname'))"
   ]
  },
  {
   "cell_type": "code",
   "execution_count": null,
   "id": "ab64fc9a",
   "metadata": {},
   "outputs": [],
   "source": [
    "setattr(std1, 'fname' , 'mashal')"
   ]
  },
  {
   "cell_type": "code",
   "execution_count": null,
   "id": "75814183",
   "metadata": {},
   "outputs": [],
   "source": [
    "print(getattr(std1,'fname'))"
   ]
  },
  {
   "cell_type": "code",
   "execution_count": null,
   "id": "88a0a953",
   "metadata": {},
   "outputs": [],
   "source": [
    "class stdent1:\n",
    "    def __init__(self,f,l,r):\n",
    "        #self.fname = f\n",
    "        self.set_fname(f)\n",
    "        #self.lname = l\n",
    "        self.set_lname(l)\n",
    "        self.regno = r\n",
    "    \n",
    "    def get_fname(self):\n",
    "        return self.fname\n",
    "    def set_fname(self,newname):\n",
    "        if (stdent1.validname(newname)):\n",
    "            self.fname = newname\n",
    "        else:\n",
    "            raise ValueError ('name must be contain alphabets only')\n",
    "    f=property(get_fname,set_fname)\n",
    "    def get_lname(self):\n",
    "        return self.lname\n",
    "    def set_lname(self,newname):\n",
    "        if (stdent1.validname(newname)):\n",
    "            self.lname = newname\n",
    "        else:\n",
    "            raise ValueError ('name must be contain alphabets only')\n",
    "    def get_regno(self):\n",
    "        return self.regno\n",
    "    def set_regno(self,newregno):\n",
    "        if (stdent1.validname(newname)):\n",
    "            self.regno = newname\n",
    "        else:\n",
    "            raise ValueError ('name must be contain alphabets only')\n",
    "    @staticmethod\n",
    "    def validname(newname):\n",
    "        if (isinstance(newname,str) and len(newname)>=2 and newname.isalpha()):\n",
    "            return True\n",
    "        else:\n",
    "            return False\n",
    "        "
   ]
  },
  {
   "cell_type": "code",
   "execution_count": null,
   "id": "5e583a88",
   "metadata": {},
   "outputs": [],
   "source": [
    "std1 = stdent1('ayub2','khan',470)\n",
    "std2 = stdent1('ibraheem','khan',480)"
   ]
  },
  {
   "cell_type": "code",
   "execution_count": null,
   "id": "9fcd8631",
   "metadata": {},
   "outputs": [],
   "source": [
    "std1.get_fname()"
   ]
  },
  {
   "cell_type": "code",
   "execution_count": null,
   "id": "bcad2cd3",
   "metadata": {},
   "outputs": [],
   "source": [
    "std1.set_fname('janbaz')"
   ]
  },
  {
   "cell_type": "code",
   "execution_count": null,
   "id": "eb3d761f",
   "metadata": {},
   "outputs": [],
   "source": [
    "std1.get_fname()"
   ]
  },
  {
   "cell_type": "code",
   "execution_count": null,
   "id": "6b788e18",
   "metadata": {},
   "outputs": [],
   "source": [
    "std1.set_fname('janbaz2')"
   ]
  },
  {
   "cell_type": "code",
   "execution_count": null,
   "id": "86e9a266",
   "metadata": {},
   "outputs": [],
   "source": [
    "std1.fname"
   ]
  },
  {
   "cell_type": "code",
   "execution_count": null,
   "id": "c69ecd72",
   "metadata": {},
   "outputs": [],
   "source": [
    "std1.__dict__"
   ]
  },
  {
   "cell_type": "code",
   "execution_count": null,
   "id": "4d250916",
   "metadata": {},
   "outputs": [],
   "source": [
    "std2.fname"
   ]
  },
  {
   "cell_type": "markdown",
   "id": "5f6324f2",
   "metadata": {},
   "source": [
    "## naming convention for getter and setter"
   ]
  },
  {
   "cell_type": "code",
   "execution_count": null,
   "id": "78546d9f",
   "metadata": {},
   "outputs": [],
   "source": [
    "class book:\n",
    "    def __init__(self,title):\n",
    "        self.title = title\n",
    "    @property\n",
    "    def title(self):\n",
    "        return self._title\n",
    "    @title.setter\n",
    "    def title(self,title):\n",
    "        self._tile=title"
   ]
  },
  {
   "cell_type": "code",
   "execution_count": null,
   "id": "06cf4a3d",
   "metadata": {},
   "outputs": [],
   "source": [
    "b = book('programing')"
   ]
  },
  {
   "cell_type": "markdown",
   "id": "17044614",
   "metadata": {},
   "source": [
    "## polymorphism and magic method"
   ]
  },
  {
   "cell_type": "code",
   "execution_count": null,
   "id": "446dde37",
   "metadata": {},
   "outputs": [],
   "source": [
    "a = 1+2"
   ]
  },
  {
   "cell_type": "code",
   "execution_count": null,
   "id": "025f3559",
   "metadata": {},
   "outputs": [],
   "source": [
    "print(a)"
   ]
  },
  {
   "cell_type": "code",
   "execution_count": null,
   "id": "7440eab7",
   "metadata": {},
   "outputs": [],
   "source": [
    "a = '1'+'2'"
   ]
  },
  {
   "cell_type": "code",
   "execution_count": null,
   "id": "2cd61531",
   "metadata": {},
   "outputs": [],
   "source": [
    "print(a)"
   ]
  },
  {
   "cell_type": "code",
   "execution_count": null,
   "id": "5f16263a",
   "metadata": {},
   "outputs": [],
   "source": [
    "class student:\n",
    "    department = 'electrical'\n",
    "    offsubject= ['Bee','circuit analysis 1', 'oop','dld']\n",
    "    students = []\n",
    "    def __init__(self,f,l,r):\n",
    "        self.fname = f\n",
    "        self.lname = l\n",
    "        self.regno = r\n",
    "        self.email = f'{self.regno}@uetpeshawar.edu.pk'\n",
    "        self.courses=['proj']\n",
    "        self.groupmember = None\n",
    "        student.students.append(self)\n",
    "    @property\n",
    "    def fullname(self):\n",
    "        return f'{self.fname} {self.lname}'\n",
    "    def welcome(self):\n",
    "        return f'welcom {self.fname} {self.lname}'\n",
    "    def registersubjects(self,*sub):\n",
    "        for s in sub:\n",
    "            if s not in student.offsubject:\n",
    "                raise ValueError(f'{s} is not offered!')\n",
    "            if s in student.offsubject and s not in self.courses:\n",
    "                self.courses.append(s)\n",
    "    def __repr__(self):\n",
    "        return f\"({self.fname}-{self.regno})\"\n",
    "    @classmethod\n",
    "    def notregsub(cls):\n",
    "        a=set()\n",
    "        for std in cls.students:\n",
    "            s=set(std.courses)\n",
    "            a.update(s)\n",
    "            return list(set(cls.offsubject).difference(a))\n",
    "        \n",
    "    \n",
    "   \n",
    "    @classmethod\n",
    "    def withoutmember(cls):\n",
    "        return list(filter(lambda s : s.groupmember == None, s.student))\n",
    "        \n",
    "        \n",
    "    ## magic methods\n",
    "  \n",
    "    def __add__(self,other):\n",
    "        if self.groupmember != None:\n",
    "            raise ValueError (f'{self} already has {self.groupmember} as a group')\n",
    "        elif other.groupmember != None:\n",
    "            raise ValueError (f'{other} already has {other.groupmember} as a group')\n",
    "        else:\n",
    "            self.groupmember = other\n",
    "            other.groupmember = self\n",
    "    \n",
    "    \n",
    "    def __sub__(self,other):\n",
    "        if (self.groupmember == None and other.groupmember == None):\n",
    "            return\n",
    "        elif self.groupmember != other:\n",
    "            raise ValueError(f'{self} is not the member of {other}')\n",
    "        else:\n",
    "            self.groupmember = None\n",
    "            other.groupmember = None\n",
    "        "
   ]
  },
  {
   "cell_type": "code",
   "execution_count": null,
   "id": "5d8280b7",
   "metadata": {},
   "outputs": [],
   "source": [
    "std1 = student('ayub2','khan',470)\n",
    "std2 = student('ibraheem','khan',480)"
   ]
  },
  {
   "cell_type": "code",
   "execution_count": null,
   "id": "6c6e163f",
   "metadata": {},
   "outputs": [],
   "source": [
    "std1+std2"
   ]
  },
  {
   "cell_type": "code",
   "execution_count": null,
   "id": "c5d338f8",
   "metadata": {},
   "outputs": [],
   "source": [
    "std1.groupmember"
   ]
  },
  {
   "cell_type": "code",
   "execution_count": null,
   "id": "d19359bd",
   "metadata": {},
   "outputs": [],
   "source": [
    "std2.groupmember"
   ]
  },
  {
   "cell_type": "code",
   "execution_count": null,
   "id": "7642b0de",
   "metadata": {},
   "outputs": [],
   "source": [
    "std1-std2"
   ]
  },
  {
   "cell_type": "code",
   "execution_count": null,
   "id": "710197a5",
   "metadata": {},
   "outputs": [],
   "source": [
    "print(std1.groupmember)"
   ]
  },
  {
   "cell_type": "markdown",
   "id": "e8fa5859",
   "metadata": {},
   "source": [
    "## magic methods\n",
    "In this we will makes magic methods like equality,less,greater methods by using dunder methods"
   ]
  },
  {
   "cell_type": "code",
   "execution_count": null,
   "id": "e083c9ad",
   "metadata": {},
   "outputs": [],
   "source": [
    "from functools import total_ordering\n",
    "@total_ordering\n",
    "class student:\n",
    "    department = 'electrical'\n",
    "    offsubject= ['Bee','circuit analysis 1', 'oop','dld']\n",
    "    students = []\n",
    "    def __init__(self,f,l,r):\n",
    "        self.fname = f\n",
    "        self.lname = l\n",
    "        self.regno = r\n",
    "        self.email = f'{self.regno}@uetpeshawar.edu.pk'\n",
    "        self.courses=['proj']\n",
    "        self.groupmember = None\n",
    "        student.students.append(self)\n",
    "    @property\n",
    "    def fullname(self):\n",
    "        return f'{self.fname} {self.lname}'\n",
    "    def welcome(self):\n",
    "        return f'welcom {self.fname} {self.lname}'\n",
    "    def registersubjects(self,*sub):\n",
    "        for s in sub:\n",
    "            if s not in student.offsubject:\n",
    "                raise ValueError(f'{s} is not offered!')\n",
    "            if s in student.offsubject and s not in self.courses:\n",
    "                self.courses.append(s)\n",
    "    def __repr__(self):\n",
    "        return f\"({self.fname}-{self.regno})\"\n",
    "    @classmethod\n",
    "    def notregsub(cls):\n",
    "        a=set()\n",
    "        for std in cls.students:\n",
    "            s=set(std.courses)\n",
    "            a.update(s)\n",
    "            return list(set(cls.offsubject).difference(a))\n",
    "        \n",
    "    \n",
    "   \n",
    "    @classmethod\n",
    "    def withoutmember(cls):\n",
    "        return list(filter(lambda s : s.groupmember == None, s.student))\n",
    "        \n",
    "        \n",
    "    ## magic methods\n",
    "  \n",
    "    def __add__(self,other):\n",
    "        if self.groupmember != None:\n",
    "            raise ValueError (f'{self} already has {self.groupmember} as a group')\n",
    "        elif other.groupmember != None:\n",
    "            raise ValueError (f'{other} already has {other.groupmember} as a group')\n",
    "        else:\n",
    "            self.groupmember = other\n",
    "            other.groupmember = self\n",
    "    \n",
    "    \n",
    "    def __sub__(self,other):\n",
    "        if (self.groupmember == None and other.groupmember == None):\n",
    "            return\n",
    "        elif self.groupmember != other:\n",
    "            raise ValueError(f'{self} is not the member of {other}')\n",
    "        else:\n",
    "            self.groupmember = None\n",
    "            other.groupmember = None\n",
    "    def __lt__(self,other):\n",
    "        return len(self.courses) < len(other.courses)\n",
    "    def __eq__(self,other):\n",
    "        return len(self) == len(other)\n",
    "    def __len__(self):\n",
    "        return len(self.courses)\n",
    "    "
   ]
  },
  {
   "cell_type": "code",
   "execution_count": null,
   "id": "740c0fc3",
   "metadata": {},
   "outputs": [],
   "source": [
    "std1 = student('ayub2','khan',470)\n",
    "std2 = student('ibraheem','khan',480)"
   ]
  },
  {
   "cell_type": "code",
   "execution_count": null,
   "id": "6e4c1103",
   "metadata": {},
   "outputs": [],
   "source": [
    "## checking of less than method"
   ]
  },
  {
   "cell_type": "code",
   "execution_count": null,
   "id": "be4d2ea1",
   "metadata": {},
   "outputs": [],
   "source": [
    "std1<std2"
   ]
  },
  {
   "cell_type": "code",
   "execution_count": null,
   "id": "41038865",
   "metadata": {},
   "outputs": [],
   "source": [
    "student.students.sort()"
   ]
  },
  {
   "cell_type": "code",
   "execution_count": null,
   "id": "27f46a64",
   "metadata": {},
   "outputs": [],
   "source": [
    "print(student.students)"
   ]
  },
  {
   "cell_type": "code",
   "execution_count": null,
   "id": "9f35e0e1",
   "metadata": {},
   "outputs": [],
   "source": [
    "std1.courses"
   ]
  },
  {
   "cell_type": "code",
   "execution_count": null,
   "id": "007d21d1",
   "metadata": {},
   "outputs": [],
   "source": [
    "std2.registersubjects('Bee')"
   ]
  },
  {
   "cell_type": "code",
   "execution_count": null,
   "id": "bcd4f962",
   "metadata": {},
   "outputs": [],
   "source": [
    "std2>std1"
   ]
  },
  {
   "cell_type": "code",
   "execution_count": null,
   "id": "4181002c",
   "metadata": {},
   "outputs": [],
   "source": [
    "print(max(student.students))"
   ]
  },
  {
   "cell_type": "code",
   "execution_count": null,
   "id": "dfabbc4a",
   "metadata": {},
   "outputs": [],
   "source": [
    "print(min(student.students))"
   ]
  },
  {
   "cell_type": "code",
   "execution_count": null,
   "id": "54dcc500",
   "metadata": {},
   "outputs": [],
   "source": [
    "## checking of equality function"
   ]
  },
  {
   "cell_type": "code",
   "execution_count": null,
   "id": "455f00b9",
   "metadata": {},
   "outputs": [],
   "source": [
    "std1==std2"
   ]
  },
  {
   "cell_type": "code",
   "execution_count": null,
   "id": "46277cf5",
   "metadata": {},
   "outputs": [],
   "source": [
    "## checking of greater then method it is not define but we will use it because we has define the less than method\n",
    "## The syntax of greater than function is (__gt__)"
   ]
  },
  {
   "cell_type": "code",
   "execution_count": null,
   "id": "d3a9cebd",
   "metadata": {},
   "outputs": [],
   "source": [
    "std2>std1"
   ]
  },
  {
   "cell_type": "code",
   "execution_count": null,
   "id": "f1ca08ab",
   "metadata": {},
   "outputs": [],
   "source": [
    "## for (<=) we import functools and total ordering this is the best way but we will define their own functions like lt or eq"
   ]
  },
  {
   "cell_type": "code",
   "execution_count": null,
   "id": "4156df4d",
   "metadata": {},
   "outputs": [],
   "source": [
    "std1<=std2"
   ]
  },
  {
   "cell_type": "code",
   "execution_count": null,
   "id": "97ec2b9e",
   "metadata": {},
   "outputs": [],
   "source": [
    "## defining the build in function like (len) it is defined in the main class like magic methods\n",
    "## show os the length of courses of the student"
   ]
  },
  {
   "cell_type": "code",
   "execution_count": null,
   "id": "9922a938",
   "metadata": {},
   "outputs": [],
   "source": [
    "len(std2)"
   ]
  },
  {
   "cell_type": "code",
   "execution_count": null,
   "id": "eb741f0e",
   "metadata": {},
   "outputs": [],
   "source": [
    "std1+std2"
   ]
  },
  {
   "cell_type": "code",
   "execution_count": null,
   "id": "e443fac7",
   "metadata": {},
   "outputs": [],
   "source": [
    "std3 = student('mashal','khan',466)"
   ]
  },
  {
   "cell_type": "markdown",
   "id": "1364eb95",
   "metadata": {},
   "source": [
    "## the following expression shows error because the + call the add methode in the class and the for adding the some conditions will check and the conditions have the some error message but it will not give that error which is due to the (!=) sign because it will make some confusion in the code for the system but the is and is not operators are faster than the == operator that is why we will use the the is or is not operator in the following code "
   ]
  },
  {
   "cell_type": "code",
   "execution_count": null,
   "id": "6eb43126",
   "metadata": {},
   "outputs": [],
   "source": [
    "std1+std3"
   ]
  },
  {
   "cell_type": "code",
   "execution_count": null,
   "id": "20cb524e",
   "metadata": {},
   "outputs": [],
   "source": [
    "from functools import total_ordering\n",
    "@total_ordering\n",
    "class student:\n",
    "    department = 'electrical'\n",
    "    offsubject= ['Bee','circuit analysis 1', 'oop','dld']\n",
    "    students = []\n",
    "    def __init__(self,f,l,r):\n",
    "        self.fname = f\n",
    "        self.lname = l\n",
    "        self.regno = r\n",
    "        self.email = f'{self.regno}@uetpeshawar.edu.pk'\n",
    "        self.courses=['proj']\n",
    "        self.groupmember = None\n",
    "        student.students.append(self)\n",
    "    @property\n",
    "    def fullname(self):\n",
    "        return f'{self.fname} {self.lname}'\n",
    "    def welcome(self):\n",
    "        return f'welcom {self.fname} {self.lname}'\n",
    "    def registersubjects(self,*sub):\n",
    "        for s in sub:\n",
    "            if s not in student.offsubject:\n",
    "                raise ValueError(f'{s} is not offered!')\n",
    "            if s in student.offsubject and s not in self.courses:\n",
    "                self.courses.append(s)\n",
    "    def __repr__(self):\n",
    "        return f\"({self.fname}-{self.regno})\"\n",
    "    @classmethod\n",
    "    def notregsub(cls):\n",
    "        a=set()\n",
    "        for std in cls.students:\n",
    "            s=set(std.courses)\n",
    "            a.update(s)\n",
    "            return list(set(cls.offsubject).difference(a))\n",
    "        \n",
    "    \n",
    "   \n",
    "    @classmethod\n",
    "    def withoutmember(cls):\n",
    "        return list(filter(lambda s : s.groupmember == None, s.student))\n",
    "        \n",
    "        \n",
    "    ## magic methods\n",
    "  \n",
    "    def __add__(self,other):\n",
    "        if self.groupmember is not None:\n",
    "            raise ValueError (f'{self} already has {self.groupmember} as a group')\n",
    "        elif other.groupmember is not None:\n",
    "            raise ValueError (f'{other} already has {other.groupmember} as a group')\n",
    "        else:\n",
    "            self.groupmember = other\n",
    "            other.groupmember = self\n",
    "    \n",
    "    \n",
    "    def __sub__(self,other):\n",
    "        if (self.groupmember is None and other.groupmember is None):\n",
    "            return\n",
    "        elif self.groupmember is not other:\n",
    "            raise ValueError(f'{self} is not the member of {other}')\n",
    "        else:\n",
    "            self.groupmember is None\n",
    "            other.groupmember is None\n",
    "    def __lt__(self,other):\n",
    "        return len(self.courses) < len(other.courses)\n",
    "    def __eq__(self,other):\n",
    "        return len(self) == len(other)\n",
    "    def __len__(self):\n",
    "        return len(self.courses)\n",
    "    "
   ]
  },
  {
   "cell_type": "code",
   "execution_count": null,
   "id": "f2d5e31c",
   "metadata": {},
   "outputs": [],
   "source": [
    "std3 = student('mashal','khan',466)\n",
    "std1 = student('ayub2','khan',470)\n",
    "std2 = student('ibraheem','khan',480)"
   ]
  },
  {
   "cell_type": "code",
   "execution_count": null,
   "id": "5e56f079",
   "metadata": {},
   "outputs": [],
   "source": [
    "std1+std2"
   ]
  },
  {
   "cell_type": "code",
   "execution_count": null,
   "id": "2087465c",
   "metadata": {},
   "outputs": [],
   "source": [
    "std1+std3"
   ]
  },
  {
   "cell_type": "markdown",
   "id": "36033429",
   "metadata": {},
   "source": [
    "###  So the above error is the expected error because we has defined thid error in the above class "
   ]
  },
  {
   "cell_type": "code",
   "execution_count": null,
   "id": "7fdd2e61",
   "metadata": {},
   "outputs": [],
   "source": [
    "for i in std1:\n",
    "    print(i)"
   ]
  },
  {
   "cell_type": "markdown",
   "id": "5c8c26b1",
   "metadata": {},
   "source": [
    "### So the above object is not iterable so making it iteratable we add some method inside the class like __iter__"
   ]
  },
  {
   "cell_type": "code",
   "execution_count": null,
   "id": "fca6aec8",
   "metadata": {},
   "outputs": [],
   "source": [
    "from functools import total_ordering\n",
    "@total_ordering\n",
    "class student:\n",
    "    department = 'electrical'\n",
    "    offsubject= ['Bee','circuit analysis 1', 'oop','dld']\n",
    "    students = []\n",
    "    def __init__(self,f,l,r):\n",
    "        self.fname = f\n",
    "        self.lname = l\n",
    "        self.regno = r\n",
    "        self.email = f'{self.regno}@uetpeshawar.edu.pk'\n",
    "        self.courses=['proj']\n",
    "        self.groupmember = None\n",
    "        student.students.append(self)\n",
    "    @property\n",
    "    def fullname(self):\n",
    "        return f'{self.fname} {self.lname}'\n",
    "    def welcome(self):\n",
    "        return f'welcom {self.fname} {self.lname}'\n",
    "    def registersubjects(self,*sub):\n",
    "        for s in sub:\n",
    "            if s not in student.offsubject:\n",
    "                raise ValueError(f'{s} is not offered!')\n",
    "            if s in student.offsubject and s not in self.courses:\n",
    "                self.courses.append(s)\n",
    "    \n",
    "    @classmethod\n",
    "    def notregsub(cls):\n",
    "        a=set()\n",
    "        for std in cls.students:\n",
    "            s=set(std.courses)\n",
    "            a.update(s)\n",
    "            return list(set(cls.offsubject).difference(a))\n",
    "        \n",
    "    \n",
    "   \n",
    "    @classmethod\n",
    "    def withoutmember(cls):\n",
    "        return list(filter(lambda s : s.groupmember == None, s.student))\n",
    "        \n",
    "        \n",
    "    ## magic methods\n",
    "    def __repr__(self):\n",
    "        return f\"({self.fname}-{self.regno})\"\n",
    "  \n",
    "    def __add__(self,other):\n",
    "        if self.groupmember is not None:\n",
    "            raise ValueError (f'{self} already has {self.groupmember} as a group')\n",
    "        elif other.groupmember is not None:\n",
    "            raise ValueError (f'{other} already has {other.groupmember} as a group')\n",
    "        else:\n",
    "            self.groupmember = other\n",
    "            other.groupmember = self\n",
    "    \n",
    "    \n",
    "    def __sub__(self,other):\n",
    "        if (self.groupmember is None and other.groupmember is None):\n",
    "            return\n",
    "        elif self.groupmember is not other:\n",
    "            raise ValueError(f'{self} is not the member of {other}')\n",
    "        else:\n",
    "            self.groupmember is None\n",
    "            other.groupmember is None\n",
    "    def __lt__(self,other):\n",
    "        return len(self.courses) < len(other.courses)\n",
    "    def __eq__(self,other):\n",
    "        return len(self) == len(other)\n",
    "    def __len__(self):\n",
    "        return len(self.courses)\n",
    "    def __iter__(self):\n",
    "        allatt = [self.fname,self.lname,self.fullname,self.department, self.courses]\n",
    "        #yield self.fname\n",
    "        #yield self.lname\n",
    "        #yield self.fullname\n",
    "        #yield self.department\n",
    "        #yield self.courses\n",
    "        return (att  for att in allatt)\n",
    "    "
   ]
  },
  {
   "cell_type": "code",
   "execution_count": null,
   "id": "16c42da9",
   "metadata": {},
   "outputs": [],
   "source": [
    "std3 = student('mashal','khan',466)\n",
    "std1 = student('ayub2','khan',470)\n",
    "std2 = student('ibraheem','khan',480)"
   ]
  },
  {
   "cell_type": "code",
   "execution_count": null,
   "id": "491357ff",
   "metadata": {},
   "outputs": [],
   "source": [
    "for i in std2:\n",
    "    print(i)"
   ]
  },
  {
   "cell_type": "markdown",
   "id": "5ad6887f",
   "metadata": {},
   "source": [
    "## Notimplemented and reflection function"
   ]
  },
  {
   "cell_type": "code",
   "execution_count": 8,
   "id": "d6e8b49b",
   "metadata": {},
   "outputs": [],
   "source": [
    "from math import sqrt\n",
    "class point:\n",
    "    def __init__(self,x=0,y=0):\n",
    "        self.x=x\n",
    "        self.y=y\n",
    "    def __str__(self):\n",
    "        return f'({self.x},{self.y})'\n",
    "    def __mul__(self,num):\n",
    "        return f'({self.x*num},{self.y*num})'\n",
    "    __rmul__ = __mul__\n",
    "    \n",
    "    def __abs__(self):\n",
    "        return sqrt(self.x**2+self.y**2)\n",
    "    def __gt__(self,other):\n",
    "        return abs(self) > abs(other)\n",
    "    "
   ]
  },
  {
   "cell_type": "code",
   "execution_count": 9,
   "id": "a062ae75",
   "metadata": {},
   "outputs": [],
   "source": [
    "p1 = point(1,2)"
   ]
  },
  {
   "cell_type": "code",
   "execution_count": 22,
   "id": "fc88f468",
   "metadata": {},
   "outputs": [],
   "source": [
    "p2 = p1*2"
   ]
  },
  {
   "cell_type": "code",
   "execution_count": 23,
   "id": "2045bcec",
   "metadata": {},
   "outputs": [
    {
     "name": "stdout",
     "output_type": "stream",
     "text": [
      "(2,4)\n"
     ]
    }
   ],
   "source": [
    "print(p2)"
   ]
  },
  {
   "cell_type": "code",
   "execution_count": 24,
   "id": "3226d341",
   "metadata": {},
   "outputs": [],
   "source": [
    "p3 = 3*p1"
   ]
  },
  {
   "cell_type": "code",
   "execution_count": 25,
   "id": "0318d877",
   "metadata": {},
   "outputs": [
    {
     "name": "stdout",
     "output_type": "stream",
     "text": [
      "(3,6)\n"
     ]
    }
   ],
   "source": [
    "print(p3)"
   ]
  },
  {
   "cell_type": "code",
   "execution_count": 30,
   "id": "ed5bce57",
   "metadata": {},
   "outputs": [
    {
     "name": "stdout",
     "output_type": "stream",
     "text": [
      "True\n"
     ]
    }
   ],
   "source": [
    "print(p1==p1)"
   ]
  },
  {
   "cell_type": "code",
   "execution_count": 27,
   "id": "ccb126ff",
   "metadata": {},
   "outputs": [
    {
     "data": {
      "text/plain": [
       "str"
      ]
     },
     "execution_count": 27,
     "metadata": {},
     "output_type": "execute_result"
    }
   ],
   "source": [
    "type(p2)"
   ]
  },
  {
   "cell_type": "code",
   "execution_count": 31,
   "id": "0b6d5df2",
   "metadata": {},
   "outputs": [
    {
     "name": "stdout",
     "output_type": "stream",
     "text": [
      "False\n"
     ]
    }
   ],
   "source": [
    "print(p1<p1)"
   ]
  },
  {
   "cell_type": "code",
   "execution_count": 33,
   "id": "3cf77ba5",
   "metadata": {},
   "outputs": [
    {
     "name": "stdout",
     "output_type": "stream",
     "text": [
      "False\n"
     ]
    }
   ],
   "source": [
    "print(p1>p1)"
   ]
  },
  {
   "cell_type": "markdown",
   "id": "e23fb1a5",
   "metadata": {},
   "source": [
    "### Task no 3"
   ]
  },
  {
   "cell_type": "code",
   "execution_count": 208,
   "id": "447aa96c",
   "metadata": {},
   "outputs": [],
   "source": [
    "from functools import total_ordering\n",
    "from math import sqrt\n",
    "from numbers import Real\n",
    "\n",
    "@total_ordering\n",
    "class point:\n",
    "    def __init__(self,x=0,y=0):\n",
    "        self.x=x\n",
    "        self.y=y\n",
    "    # For x coordinates\n",
    "    @property\n",
    "    def x(self):\n",
    "        return self._x\n",
    "    @x.setter\n",
    "    def x(self,newx):\n",
    "        if (isinstance(newx,Real)):\n",
    "            self._x = newx\n",
    "        else:\n",
    "            raise TypeError ('x coordinate must be number')\n",
    "    # For y coordinate\n",
    "    @property\n",
    "    def y(self):\n",
    "        return self._y\n",
    "    @y.setter\n",
    "    def y(self,newy):\n",
    "        if (isinstance(newy,Real)):\n",
    "            self._y = newy\n",
    "        else:\n",
    "            raise TypeError ('y coordinate must be number')\n",
    "        \n",
    "        \n",
    "    def reset(self):\n",
    "        self.move(0,0)\n",
    "    def move(self,x,y):\n",
    "        self.x=x\n",
    "        self.y=y\n",
    "    def xmove(self,x):\n",
    "        self.x=x\n",
    "    def ymove(self,y):\n",
    "        self.y=y\n",
    "    \n",
    "    @property\n",
    "    def ptr(self):\n",
    "        return f\"({self.x},{self.y})\"\n",
    "    def __repr__(self):\n",
    "        return f\"Point({self.x},{self.y})\"\n",
    "    def __abs__(self):\n",
    "        return sqrt((self.x**2)+(self.y**2))\n",
    "    def __neg__(self):\n",
    "        return point(-self.x,-self.y)\n",
    "    def __add__(self,other):\n",
    "        return point(self.x+other.x,self.y+other.y)\n",
    "    def __sub__(self,other):\n",
    "        #return point(self.x-other.x,self.y-other.y)\n",
    "        return self+(-other)\n",
    "    def __mul__(self,other):\n",
    "        if (isinstance(other,Real)):\n",
    "            return point(self.x*other,self.y*other)\n",
    "        if(isinstance(other,point)):\n",
    "            return point(self.x*other.x,self.y*other.y)\n",
    "    __rmul__=__mul__\n",
    "    def __truediv__(self,other):\n",
    "        return self*(1/other)\n",
    "    def __eq__(self,other):\n",
    "        return abs(self)==abs(other)\n",
    "    def __lt__(self,other):\n",
    "        return abs(self)<abs(other)\n",
    "    def __iter__(self):\n",
    "        yield self.x\n",
    "        yield self.y"
   ]
  },
  {
   "cell_type": "code",
   "execution_count": 209,
   "id": "e7119565",
   "metadata": {},
   "outputs": [],
   "source": [
    "p1 = point(1,2)"
   ]
  },
  {
   "cell_type": "code",
   "execution_count": 210,
   "id": "edc7ed8b",
   "metadata": {},
   "outputs": [],
   "source": [
    "p2 = point(3,4)"
   ]
  },
  {
   "cell_type": "code",
   "execution_count": 211,
   "id": "36732336",
   "metadata": {},
   "outputs": [
    {
     "ename": "TypeError",
     "evalue": "x coordinate must be number",
     "output_type": "error",
     "traceback": [
      "\u001b[1;31m---------------------------------------------------------------------------\u001b[0m",
      "\u001b[1;31mTypeError\u001b[0m                                 Traceback (most recent call last)",
      "Cell \u001b[1;32mIn[211], line 1\u001b[0m\n\u001b[1;32m----> 1\u001b[0m p3\u001b[38;5;241m=\u001b[39m point(\u001b[38;5;124m'\u001b[39m\u001b[38;5;124m1\u001b[39m\u001b[38;5;124m'\u001b[39m,\u001b[38;5;241m2\u001b[39m)\n",
      "Cell \u001b[1;32mIn[208], line 8\u001b[0m, in \u001b[0;36mpoint.__init__\u001b[1;34m(self, x, y)\u001b[0m\n\u001b[0;32m      7\u001b[0m \u001b[38;5;28;01mdef\u001b[39;00m \u001b[38;5;21m__init__\u001b[39m(\u001b[38;5;28mself\u001b[39m,x\u001b[38;5;241m=\u001b[39m\u001b[38;5;241m0\u001b[39m,y\u001b[38;5;241m=\u001b[39m\u001b[38;5;241m0\u001b[39m):\n\u001b[1;32m----> 8\u001b[0m     \u001b[38;5;28mself\u001b[39m\u001b[38;5;241m.\u001b[39mx\u001b[38;5;241m=\u001b[39mx\n\u001b[0;32m      9\u001b[0m     \u001b[38;5;28mself\u001b[39m\u001b[38;5;241m.\u001b[39my\u001b[38;5;241m=\u001b[39my\n",
      "Cell \u001b[1;32mIn[208], line 19\u001b[0m, in \u001b[0;36mpoint.x\u001b[1;34m(self, newx)\u001b[0m\n\u001b[0;32m     17\u001b[0m     \u001b[38;5;28mself\u001b[39m\u001b[38;5;241m.\u001b[39m_x \u001b[38;5;241m=\u001b[39m newx\n\u001b[0;32m     18\u001b[0m \u001b[38;5;28;01melse\u001b[39;00m:\n\u001b[1;32m---> 19\u001b[0m     \u001b[38;5;28;01mraise\u001b[39;00m \u001b[38;5;167;01mTypeError\u001b[39;00m (\u001b[38;5;124m'\u001b[39m\u001b[38;5;124mx coordinate must be number\u001b[39m\u001b[38;5;124m'\u001b[39m)\n",
      "\u001b[1;31mTypeError\u001b[0m: x coordinate must be number"
     ]
    }
   ],
   "source": [
    "p3= point('1',2)"
   ]
  },
  {
   "cell_type": "code",
   "execution_count": 212,
   "id": "23b8e24e",
   "metadata": {},
   "outputs": [
    {
     "ename": "TypeError",
     "evalue": "y coordinate must be number",
     "output_type": "error",
     "traceback": [
      "\u001b[1;31m---------------------------------------------------------------------------\u001b[0m",
      "\u001b[1;31mTypeError\u001b[0m                                 Traceback (most recent call last)",
      "Cell \u001b[1;32mIn[212], line 1\u001b[0m\n\u001b[1;32m----> 1\u001b[0m p4 \u001b[38;5;241m=\u001b[39m point(\u001b[38;5;241m1\u001b[39m,\u001b[38;5;124m'\u001b[39m\u001b[38;5;124m2\u001b[39m\u001b[38;5;124m'\u001b[39m)\n",
      "Cell \u001b[1;32mIn[208], line 9\u001b[0m, in \u001b[0;36mpoint.__init__\u001b[1;34m(self, x, y)\u001b[0m\n\u001b[0;32m      7\u001b[0m \u001b[38;5;28;01mdef\u001b[39;00m \u001b[38;5;21m__init__\u001b[39m(\u001b[38;5;28mself\u001b[39m,x\u001b[38;5;241m=\u001b[39m\u001b[38;5;241m0\u001b[39m,y\u001b[38;5;241m=\u001b[39m\u001b[38;5;241m0\u001b[39m):\n\u001b[0;32m      8\u001b[0m     \u001b[38;5;28mself\u001b[39m\u001b[38;5;241m.\u001b[39mx\u001b[38;5;241m=\u001b[39mx\n\u001b[1;32m----> 9\u001b[0m     \u001b[38;5;28mself\u001b[39m\u001b[38;5;241m.\u001b[39my\u001b[38;5;241m=\u001b[39my\n",
      "Cell \u001b[1;32mIn[208], line 29\u001b[0m, in \u001b[0;36mpoint.y\u001b[1;34m(self, newy)\u001b[0m\n\u001b[0;32m     27\u001b[0m     \u001b[38;5;28mself\u001b[39m\u001b[38;5;241m.\u001b[39m_y \u001b[38;5;241m=\u001b[39m newy\n\u001b[0;32m     28\u001b[0m \u001b[38;5;28;01melse\u001b[39;00m:\n\u001b[1;32m---> 29\u001b[0m     \u001b[38;5;28;01mraise\u001b[39;00m \u001b[38;5;167;01mTypeError\u001b[39;00m (\u001b[38;5;124m'\u001b[39m\u001b[38;5;124my coordinate must be number\u001b[39m\u001b[38;5;124m'\u001b[39m)\n",
      "\u001b[1;31mTypeError\u001b[0m: y coordinate must be number"
     ]
    }
   ],
   "source": [
    "p4 = point(1,'2')"
   ]
  },
  {
   "cell_type": "code",
   "execution_count": null,
   "id": "d8cd9493",
   "metadata": {},
   "outputs": [],
   "source": [
    "abs(p1)"
   ]
  },
  {
   "cell_type": "code",
   "execution_count": 213,
   "id": "063bb37c",
   "metadata": {},
   "outputs": [],
   "source": [
    "p1.reset()"
   ]
  },
  {
   "cell_type": "code",
   "execution_count": 214,
   "id": "6264d1fb",
   "metadata": {},
   "outputs": [
    {
     "data": {
      "text/plain": [
       "0.0"
      ]
     },
     "execution_count": 214,
     "metadata": {},
     "output_type": "execute_result"
    }
   ],
   "source": [
    "abs(p1)"
   ]
  },
  {
   "cell_type": "code",
   "execution_count": 215,
   "id": "4b4ca434",
   "metadata": {},
   "outputs": [
    {
     "name": "stdout",
     "output_type": "stream",
     "text": [
      "Point(-3,-4)\n"
     ]
    }
   ],
   "source": [
    "print(-p2)"
   ]
  },
  {
   "cell_type": "code",
   "execution_count": 216,
   "id": "8f927a07",
   "metadata": {},
   "outputs": [
    {
     "data": {
      "text/plain": [
       "Point(3,4)"
      ]
     },
     "execution_count": 216,
     "metadata": {},
     "output_type": "execute_result"
    }
   ],
   "source": [
    "p1+p2"
   ]
  },
  {
   "cell_type": "code",
   "execution_count": 217,
   "id": "2a45600c",
   "metadata": {},
   "outputs": [
    {
     "data": {
      "text/plain": [
       "Point(-3,-4)"
      ]
     },
     "execution_count": 217,
     "metadata": {},
     "output_type": "execute_result"
    }
   ],
   "source": [
    "p1-p2"
   ]
  },
  {
   "cell_type": "code",
   "execution_count": 218,
   "id": "36d734ea",
   "metadata": {},
   "outputs": [
    {
     "data": {
      "text/plain": [
       "Point(0,0)"
      ]
     },
     "execution_count": 218,
     "metadata": {},
     "output_type": "execute_result"
    }
   ],
   "source": [
    "p1*p2"
   ]
  },
  {
   "cell_type": "code",
   "execution_count": 219,
   "id": "8b42b85d",
   "metadata": {},
   "outputs": [],
   "source": [
    "p2*=2"
   ]
  },
  {
   "cell_type": "code",
   "execution_count": 220,
   "id": "3b42489c",
   "metadata": {},
   "outputs": [
    {
     "data": {
      "text/plain": [
       "Point(6,8)"
      ]
     },
     "execution_count": 220,
     "metadata": {},
     "output_type": "execute_result"
    }
   ],
   "source": [
    "p2"
   ]
  },
  {
   "cell_type": "code",
   "execution_count": 221,
   "id": "b713f400",
   "metadata": {},
   "outputs": [
    {
     "data": {
      "text/plain": [
       "Point(12,16)"
      ]
     },
     "execution_count": 221,
     "metadata": {},
     "output_type": "execute_result"
    }
   ],
   "source": [
    "2*p2"
   ]
  },
  {
   "cell_type": "code",
   "execution_count": 222,
   "id": "1ddf6e0a",
   "metadata": {},
   "outputs": [],
   "source": [
    "p2/=2"
   ]
  },
  {
   "cell_type": "code",
   "execution_count": 223,
   "id": "5d13066c",
   "metadata": {},
   "outputs": [
    {
     "data": {
      "text/plain": [
       "Point(3.0,4.0)"
      ]
     },
     "execution_count": 223,
     "metadata": {},
     "output_type": "execute_result"
    }
   ],
   "source": [
    "p2"
   ]
  },
  {
   "cell_type": "code",
   "execution_count": 224,
   "id": "257b0c7a",
   "metadata": {},
   "outputs": [
    {
     "data": {
      "text/plain": [
       "False"
      ]
     },
     "execution_count": 224,
     "metadata": {},
     "output_type": "execute_result"
    }
   ],
   "source": [
    "p1==p2"
   ]
  },
  {
   "cell_type": "code",
   "execution_count": 225,
   "id": "8c94462c",
   "metadata": {},
   "outputs": [
    {
     "data": {
      "text/plain": [
       "False"
      ]
     },
     "execution_count": 225,
     "metadata": {},
     "output_type": "execute_result"
    }
   ],
   "source": [
    "p1>p2"
   ]
  },
  {
   "cell_type": "code",
   "execution_count": 226,
   "id": "31c8cc80",
   "metadata": {},
   "outputs": [
    {
     "data": {
      "text/plain": [
       "True"
      ]
     },
     "execution_count": 226,
     "metadata": {},
     "output_type": "execute_result"
    }
   ],
   "source": [
    "p1<=p2"
   ]
  },
  {
   "cell_type": "code",
   "execution_count": 227,
   "id": "0aa65795",
   "metadata": {},
   "outputs": [
    {
     "name": "stdout",
     "output_type": "stream",
     "text": [
      "0\n",
      "0\n"
     ]
    }
   ],
   "source": [
    "for i in p1:\n",
    "    print(i)"
   ]
  },
  {
   "cell_type": "markdown",
   "id": "04fb50ee",
   "metadata": {},
   "source": [
    "## Task no 4"
   ]
  },
  {
   "cell_type": "code",
   "execution_count": 257,
   "id": "03543350",
   "metadata": {},
   "outputs": [],
   "source": [
    "from random import randint"
   ]
  },
  {
   "cell_type": "code",
   "execution_count": 258,
   "id": "cd8b3c22",
   "metadata": {},
   "outputs": [],
   "source": [
    "l1 = [point(randint(-5,5),randint(-5,5)) for i in range (10)]"
   ]
  },
  {
   "cell_type": "code",
   "execution_count": 259,
   "id": "8a6c777e",
   "metadata": {},
   "outputs": [
    {
     "data": {
      "text/plain": [
       "[Point(0,1),\n",
       " Point(3,4),\n",
       " Point(-5,1),\n",
       " Point(4,-5),\n",
       " Point(3,1),\n",
       " Point(3,-5),\n",
       " Point(3,-2),\n",
       " Point(-1,3),\n",
       " Point(-1,0),\n",
       " Point(-1,1)]"
      ]
     },
     "execution_count": 259,
     "metadata": {},
     "output_type": "execute_result"
    }
   ],
   "source": [
    "l1"
   ]
  },
  {
   "cell_type": "code",
   "execution_count": 260,
   "id": "09083d4c",
   "metadata": {},
   "outputs": [],
   "source": [
    "ringpoints = list(filter(lambda p : 3>=abs(p)<=2, l1))"
   ]
  },
  {
   "cell_type": "code",
   "execution_count": 261,
   "id": "3d2a0e89",
   "metadata": {},
   "outputs": [
    {
     "data": {
      "text/plain": [
       "[Point(0,1), Point(-1,0), Point(-1,1)]"
      ]
     },
     "execution_count": 261,
     "metadata": {},
     "output_type": "execute_result"
    }
   ],
   "source": [
    "ringpoints"
   ]
  },
  {
   "cell_type": "code",
   "execution_count": 262,
   "id": "08619ceb",
   "metadata": {},
   "outputs": [],
   "source": [
    "bigpoints = [p*5 for p in ringpoints]"
   ]
  },
  {
   "cell_type": "code",
   "execution_count": 263,
   "id": "f75922f3",
   "metadata": {},
   "outputs": [
    {
     "data": {
      "text/plain": [
       "[Point(0,5), Point(-5,0), Point(-5,5)]"
      ]
     },
     "execution_count": 263,
     "metadata": {},
     "output_type": "execute_result"
    }
   ],
   "source": [
    "bigpoints"
   ]
  },
  {
   "cell_type": "code",
   "execution_count": 264,
   "id": "e4ba40d6",
   "metadata": {},
   "outputs": [],
   "source": [
    "smallpoints = [p*-5 for p in ringpoints]"
   ]
  },
  {
   "cell_type": "code",
   "execution_count": 265,
   "id": "8ed1516b",
   "metadata": {},
   "outputs": [
    {
     "data": {
      "text/plain": [
       "[Point(0,-5), Point(5,0), Point(5,-5)]"
      ]
     },
     "execution_count": 265,
     "metadata": {},
     "output_type": "execute_result"
    }
   ],
   "source": [
    "smallpoints"
   ]
  },
  {
   "cell_type": "code",
   "execution_count": 266,
   "id": "0f1fb070",
   "metadata": {},
   "outputs": [],
   "source": [
    "p4 = point(0,5)"
   ]
  },
  {
   "cell_type": "code",
   "execution_count": 267,
   "id": "789f4877",
   "metadata": {},
   "outputs": [],
   "source": [
    "newlist = [p4*p for p in ringpoints]"
   ]
  },
  {
   "cell_type": "code",
   "execution_count": 268,
   "id": "c144f42c",
   "metadata": {},
   "outputs": [
    {
     "data": {
      "text/plain": [
       "[Point(0,5), Point(0,0), Point(0,5)]"
      ]
     },
     "execution_count": 268,
     "metadata": {},
     "output_type": "execute_result"
    }
   ],
   "source": [
    "newlist"
   ]
  },
  {
   "cell_type": "code",
   "execution_count": null,
   "id": "1afd6022",
   "metadata": {},
   "outputs": [],
   "source": []
  }
 ],
 "metadata": {
  "kernelspec": {
   "display_name": "Python 3 (ipykernel)",
   "language": "python",
   "name": "python3"
  },
  "language_info": {
   "codemirror_mode": {
    "name": "ipython",
    "version": 3
   },
   "file_extension": ".py",
   "mimetype": "text/x-python",
   "name": "python",
   "nbconvert_exporter": "python",
   "pygments_lexer": "ipython3",
   "version": "3.11.4"
  }
 },
 "nbformat": 4,
 "nbformat_minor": 5
}
